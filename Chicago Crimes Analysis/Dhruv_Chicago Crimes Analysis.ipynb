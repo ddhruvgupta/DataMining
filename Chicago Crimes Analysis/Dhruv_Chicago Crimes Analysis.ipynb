{
 "cells": [
  {
   "cell_type": "code",
   "execution_count": 140,
   "metadata": {},
   "outputs": [],
   "source": [
    "import pandas as pd\n",
    "import numpy as np\n",
    "import matplotlib.pyplot as plt\n",
    "import seaborn as sns\n",
    "from matplotlib import cm"
   ]
  },
  {
   "cell_type": "code",
   "execution_count": 141,
   "metadata": {},
   "outputs": [],
   "source": [
    "# df = pd.read_csv(\"C:\\\\Users\\\\coolm\\\\Documents\\\\GSU\\\\Data Mining\\\\crimes-in-chicago\\\\Chicago_Crimes_2012_to_2017.csv\")\n",
    "df = pd.read_csv(\"Chicago_Crimes_2012_to_2017.csv\")"
   ]
  },
  {
   "cell_type": "code",
   "execution_count": 142,
   "metadata": {},
   "outputs": [
    {
     "data": {
      "text/html": [
       "<div>\n",
       "<style scoped>\n",
       "    .dataframe tbody tr th:only-of-type {\n",
       "        vertical-align: middle;\n",
       "    }\n",
       "\n",
       "    .dataframe tbody tr th {\n",
       "        vertical-align: top;\n",
       "    }\n",
       "\n",
       "    .dataframe thead th {\n",
       "        text-align: right;\n",
       "    }\n",
       "</style>\n",
       "<table border=\"1\" class=\"dataframe\">\n",
       "  <thead>\n",
       "    <tr style=\"text-align: right;\">\n",
       "      <th></th>\n",
       "      <th>Unnamed: 0</th>\n",
       "      <th>ID</th>\n",
       "      <th>Case Number</th>\n",
       "      <th>Date</th>\n",
       "      <th>Block</th>\n",
       "      <th>IUCR</th>\n",
       "      <th>Primary Type</th>\n",
       "      <th>Description</th>\n",
       "      <th>Location Description</th>\n",
       "      <th>Arrest</th>\n",
       "      <th>...</th>\n",
       "      <th>Ward</th>\n",
       "      <th>Community Area</th>\n",
       "      <th>FBI Code</th>\n",
       "      <th>X Coordinate</th>\n",
       "      <th>Y Coordinate</th>\n",
       "      <th>Year</th>\n",
       "      <th>Updated On</th>\n",
       "      <th>Latitude</th>\n",
       "      <th>Longitude</th>\n",
       "      <th>Location</th>\n",
       "    </tr>\n",
       "  </thead>\n",
       "  <tbody>\n",
       "    <tr>\n",
       "      <td>0</td>\n",
       "      <td>3</td>\n",
       "      <td>10508693</td>\n",
       "      <td>HZ250496</td>\n",
       "      <td>05/03/2016 11:40:00 PM</td>\n",
       "      <td>013XX S SAWYER AVE</td>\n",
       "      <td>0486</td>\n",
       "      <td>BATTERY</td>\n",
       "      <td>DOMESTIC BATTERY SIMPLE</td>\n",
       "      <td>APARTMENT</td>\n",
       "      <td>True</td>\n",
       "      <td>...</td>\n",
       "      <td>24.0</td>\n",
       "      <td>29.0</td>\n",
       "      <td>08B</td>\n",
       "      <td>1154907.0</td>\n",
       "      <td>1893681.0</td>\n",
       "      <td>2016</td>\n",
       "      <td>05/10/2016 03:56:50 PM</td>\n",
       "      <td>41.864073</td>\n",
       "      <td>-87.706819</td>\n",
       "      <td>(41.864073157, -87.706818608)</td>\n",
       "    </tr>\n",
       "    <tr>\n",
       "      <td>1</td>\n",
       "      <td>89</td>\n",
       "      <td>10508695</td>\n",
       "      <td>HZ250409</td>\n",
       "      <td>05/03/2016 09:40:00 PM</td>\n",
       "      <td>061XX S DREXEL AVE</td>\n",
       "      <td>0486</td>\n",
       "      <td>BATTERY</td>\n",
       "      <td>DOMESTIC BATTERY SIMPLE</td>\n",
       "      <td>RESIDENCE</td>\n",
       "      <td>False</td>\n",
       "      <td>...</td>\n",
       "      <td>20.0</td>\n",
       "      <td>42.0</td>\n",
       "      <td>08B</td>\n",
       "      <td>1183066.0</td>\n",
       "      <td>1864330.0</td>\n",
       "      <td>2016</td>\n",
       "      <td>05/10/2016 03:56:50 PM</td>\n",
       "      <td>41.782922</td>\n",
       "      <td>-87.604363</td>\n",
       "      <td>(41.782921527, -87.60436317)</td>\n",
       "    </tr>\n",
       "    <tr>\n",
       "      <td>2</td>\n",
       "      <td>197</td>\n",
       "      <td>10508697</td>\n",
       "      <td>HZ250503</td>\n",
       "      <td>05/03/2016 11:31:00 PM</td>\n",
       "      <td>053XX W CHICAGO AVE</td>\n",
       "      <td>0470</td>\n",
       "      <td>PUBLIC PEACE VIOLATION</td>\n",
       "      <td>RECKLESS CONDUCT</td>\n",
       "      <td>STREET</td>\n",
       "      <td>False</td>\n",
       "      <td>...</td>\n",
       "      <td>37.0</td>\n",
       "      <td>25.0</td>\n",
       "      <td>24</td>\n",
       "      <td>1140789.0</td>\n",
       "      <td>1904819.0</td>\n",
       "      <td>2016</td>\n",
       "      <td>05/10/2016 03:56:50 PM</td>\n",
       "      <td>41.894908</td>\n",
       "      <td>-87.758372</td>\n",
       "      <td>(41.894908283, -87.758371958)</td>\n",
       "    </tr>\n",
       "  </tbody>\n",
       "</table>\n",
       "<p>3 rows × 23 columns</p>\n",
       "</div>"
      ],
      "text/plain": [
       "   Unnamed: 0        ID Case Number                    Date  \\\n",
       "0           3  10508693    HZ250496  05/03/2016 11:40:00 PM   \n",
       "1          89  10508695    HZ250409  05/03/2016 09:40:00 PM   \n",
       "2         197  10508697    HZ250503  05/03/2016 11:31:00 PM   \n",
       "\n",
       "                 Block  IUCR            Primary Type              Description  \\\n",
       "0   013XX S SAWYER AVE  0486                 BATTERY  DOMESTIC BATTERY SIMPLE   \n",
       "1   061XX S DREXEL AVE  0486                 BATTERY  DOMESTIC BATTERY SIMPLE   \n",
       "2  053XX W CHICAGO AVE  0470  PUBLIC PEACE VIOLATION         RECKLESS CONDUCT   \n",
       "\n",
       "  Location Description  Arrest  ...  Ward  Community Area  FBI Code  \\\n",
       "0            APARTMENT    True  ...  24.0            29.0       08B   \n",
       "1            RESIDENCE   False  ...  20.0            42.0       08B   \n",
       "2               STREET   False  ...  37.0            25.0        24   \n",
       "\n",
       "   X Coordinate  Y Coordinate  Year              Updated On   Latitude  \\\n",
       "0     1154907.0     1893681.0  2016  05/10/2016 03:56:50 PM  41.864073   \n",
       "1     1183066.0     1864330.0  2016  05/10/2016 03:56:50 PM  41.782922   \n",
       "2     1140789.0     1904819.0  2016  05/10/2016 03:56:50 PM  41.894908   \n",
       "\n",
       "   Longitude                       Location  \n",
       "0 -87.706819  (41.864073157, -87.706818608)  \n",
       "1 -87.604363   (41.782921527, -87.60436317)  \n",
       "2 -87.758372  (41.894908283, -87.758371958)  \n",
       "\n",
       "[3 rows x 23 columns]"
      ]
     },
     "execution_count": 142,
     "metadata": {},
     "output_type": "execute_result"
    }
   ],
   "source": [
    "df.head(3)"
   ]
  },
  {
   "cell_type": "code",
   "execution_count": 143,
   "metadata": {},
   "outputs": [
    {
     "data": {
      "text/html": [
       "<div>\n",
       "<style scoped>\n",
       "    .dataframe tbody tr th:only-of-type {\n",
       "        vertical-align: middle;\n",
       "    }\n",
       "\n",
       "    .dataframe tbody tr th {\n",
       "        vertical-align: top;\n",
       "    }\n",
       "\n",
       "    .dataframe thead th {\n",
       "        text-align: right;\n",
       "    }\n",
       "</style>\n",
       "<table border=\"1\" class=\"dataframe\">\n",
       "  <thead>\n",
       "    <tr style=\"text-align: right;\">\n",
       "      <th></th>\n",
       "      <th>Unnamed: 0</th>\n",
       "      <th>ID</th>\n",
       "      <th>Beat</th>\n",
       "      <th>District</th>\n",
       "      <th>Ward</th>\n",
       "      <th>Community Area</th>\n",
       "      <th>X Coordinate</th>\n",
       "      <th>Y Coordinate</th>\n",
       "      <th>Year</th>\n",
       "      <th>Latitude</th>\n",
       "      <th>Longitude</th>\n",
       "    </tr>\n",
       "  </thead>\n",
       "  <tbody>\n",
       "    <tr>\n",
       "      <td>count</td>\n",
       "      <td>1.456714e+06</td>\n",
       "      <td>1.456714e+06</td>\n",
       "      <td>1.456714e+06</td>\n",
       "      <td>1.456713e+06</td>\n",
       "      <td>1.456700e+06</td>\n",
       "      <td>1.456674e+06</td>\n",
       "      <td>1.419631e+06</td>\n",
       "      <td>1.419631e+06</td>\n",
       "      <td>1.456714e+06</td>\n",
       "      <td>1.419631e+06</td>\n",
       "      <td>1.419631e+06</td>\n",
       "    </tr>\n",
       "    <tr>\n",
       "      <td>mean</td>\n",
       "      <td>3.308606e+06</td>\n",
       "      <td>9.597550e+06</td>\n",
       "      <td>1.150644e+03</td>\n",
       "      <td>1.125920e+01</td>\n",
       "      <td>2.287027e+01</td>\n",
       "      <td>3.745632e+01</td>\n",
       "      <td>1.164398e+06</td>\n",
       "      <td>1.885523e+06</td>\n",
       "      <td>2.013897e+03</td>\n",
       "      <td>4.184147e+01</td>\n",
       "      <td>-8.767224e+01</td>\n",
       "    </tr>\n",
       "    <tr>\n",
       "      <td>std</td>\n",
       "      <td>1.235350e+06</td>\n",
       "      <td>8.083505e+05</td>\n",
       "      <td>6.916466e+02</td>\n",
       "      <td>6.904691e+00</td>\n",
       "      <td>1.380589e+01</td>\n",
       "      <td>2.144029e+01</td>\n",
       "      <td>1.850835e+04</td>\n",
       "      <td>3.424775e+04</td>\n",
       "      <td>1.449584e+00</td>\n",
       "      <td>9.430126e-02</td>\n",
       "      <td>6.661726e-02</td>\n",
       "    </tr>\n",
       "    <tr>\n",
       "      <td>min</td>\n",
       "      <td>3.000000e+00</td>\n",
       "      <td>2.022400e+04</td>\n",
       "      <td>1.110000e+02</td>\n",
       "      <td>1.000000e+00</td>\n",
       "      <td>1.000000e+00</td>\n",
       "      <td>0.000000e+00</td>\n",
       "      <td>0.000000e+00</td>\n",
       "      <td>0.000000e+00</td>\n",
       "      <td>2.012000e+03</td>\n",
       "      <td>3.661945e+01</td>\n",
       "      <td>-9.168657e+01</td>\n",
       "    </tr>\n",
       "    <tr>\n",
       "      <td>25%</td>\n",
       "      <td>2.698636e+06</td>\n",
       "      <td>9.002709e+06</td>\n",
       "      <td>6.130000e+02</td>\n",
       "      <td>6.000000e+00</td>\n",
       "      <td>1.000000e+01</td>\n",
       "      <td>2.300000e+01</td>\n",
       "      <td>1.152544e+06</td>\n",
       "      <td>1.858762e+06</td>\n",
       "      <td>2.013000e+03</td>\n",
       "      <td>4.176787e+01</td>\n",
       "      <td>-8.771528e+01</td>\n",
       "    </tr>\n",
       "    <tr>\n",
       "      <td>50%</td>\n",
       "      <td>3.063654e+06</td>\n",
       "      <td>9.605776e+06</td>\n",
       "      <td>1.024000e+03</td>\n",
       "      <td>1.000000e+01</td>\n",
       "      <td>2.300000e+01</td>\n",
       "      <td>3.200000e+01</td>\n",
       "      <td>1.166021e+06</td>\n",
       "      <td>1.891502e+06</td>\n",
       "      <td>2.014000e+03</td>\n",
       "      <td>4.185797e+01</td>\n",
       "      <td>-8.766613e+01</td>\n",
       "    </tr>\n",
       "    <tr>\n",
       "      <td>75%</td>\n",
       "      <td>3.428849e+06</td>\n",
       "      <td>1.022577e+07</td>\n",
       "      <td>1.711000e+03</td>\n",
       "      <td>1.700000e+01</td>\n",
       "      <td>3.400000e+01</td>\n",
       "      <td>5.600000e+01</td>\n",
       "      <td>1.176363e+06</td>\n",
       "      <td>1.908713e+06</td>\n",
       "      <td>2.015000e+03</td>\n",
       "      <td>4.190529e+01</td>\n",
       "      <td>-8.762813e+01</td>\n",
       "    </tr>\n",
       "    <tr>\n",
       "      <td>max</td>\n",
       "      <td>6.253474e+06</td>\n",
       "      <td>1.082788e+07</td>\n",
       "      <td>2.535000e+03</td>\n",
       "      <td>3.100000e+01</td>\n",
       "      <td>5.000000e+01</td>\n",
       "      <td>7.700000e+01</td>\n",
       "      <td>1.205119e+06</td>\n",
       "      <td>1.951573e+06</td>\n",
       "      <td>2.017000e+03</td>\n",
       "      <td>4.202271e+01</td>\n",
       "      <td>-8.752453e+01</td>\n",
       "    </tr>\n",
       "  </tbody>\n",
       "</table>\n",
       "</div>"
      ],
      "text/plain": [
       "         Unnamed: 0            ID          Beat      District          Ward  \\\n",
       "count  1.456714e+06  1.456714e+06  1.456714e+06  1.456713e+06  1.456700e+06   \n",
       "mean   3.308606e+06  9.597550e+06  1.150644e+03  1.125920e+01  2.287027e+01   \n",
       "std    1.235350e+06  8.083505e+05  6.916466e+02  6.904691e+00  1.380589e+01   \n",
       "min    3.000000e+00  2.022400e+04  1.110000e+02  1.000000e+00  1.000000e+00   \n",
       "25%    2.698636e+06  9.002709e+06  6.130000e+02  6.000000e+00  1.000000e+01   \n",
       "50%    3.063654e+06  9.605776e+06  1.024000e+03  1.000000e+01  2.300000e+01   \n",
       "75%    3.428849e+06  1.022577e+07  1.711000e+03  1.700000e+01  3.400000e+01   \n",
       "max    6.253474e+06  1.082788e+07  2.535000e+03  3.100000e+01  5.000000e+01   \n",
       "\n",
       "       Community Area  X Coordinate  Y Coordinate          Year      Latitude  \\\n",
       "count    1.456674e+06  1.419631e+06  1.419631e+06  1.456714e+06  1.419631e+06   \n",
       "mean     3.745632e+01  1.164398e+06  1.885523e+06  2.013897e+03  4.184147e+01   \n",
       "std      2.144029e+01  1.850835e+04  3.424775e+04  1.449584e+00  9.430126e-02   \n",
       "min      0.000000e+00  0.000000e+00  0.000000e+00  2.012000e+03  3.661945e+01   \n",
       "25%      2.300000e+01  1.152544e+06  1.858762e+06  2.013000e+03  4.176787e+01   \n",
       "50%      3.200000e+01  1.166021e+06  1.891502e+06  2.014000e+03  4.185797e+01   \n",
       "75%      5.600000e+01  1.176363e+06  1.908713e+06  2.015000e+03  4.190529e+01   \n",
       "max      7.700000e+01  1.205119e+06  1.951573e+06  2.017000e+03  4.202271e+01   \n",
       "\n",
       "          Longitude  \n",
       "count  1.419631e+06  \n",
       "mean  -8.767224e+01  \n",
       "std    6.661726e-02  \n",
       "min   -9.168657e+01  \n",
       "25%   -8.771528e+01  \n",
       "50%   -8.766613e+01  \n",
       "75%   -8.762813e+01  \n",
       "max   -8.752453e+01  "
      ]
     },
     "execution_count": 143,
     "metadata": {},
     "output_type": "execute_result"
    }
   ],
   "source": [
    "df.describe()"
   ]
  },
  {
   "cell_type": "code",
   "execution_count": 144,
   "metadata": {},
   "outputs": [
    {
     "name": "stdout",
     "output_type": "stream",
     "text": [
      "<class 'pandas.core.frame.DataFrame'>\n",
      "RangeIndex: 1456714 entries, 0 to 1456713\n",
      "Data columns (total 23 columns):\n",
      "Unnamed: 0              1456714 non-null int64\n",
      "ID                      1456714 non-null int64\n",
      "Case Number             1456713 non-null object\n",
      "Date                    1456714 non-null object\n",
      "Block                   1456714 non-null object\n",
      "IUCR                    1456714 non-null object\n",
      "Primary Type            1456714 non-null object\n",
      "Description             1456714 non-null object\n",
      "Location Description    1455056 non-null object\n",
      "Arrest                  1456714 non-null bool\n",
      "Domestic                1456714 non-null bool\n",
      "Beat                    1456714 non-null int64\n",
      "District                1456713 non-null float64\n",
      "Ward                    1456700 non-null float64\n",
      "Community Area          1456674 non-null float64\n",
      "FBI Code                1456714 non-null object\n",
      "X Coordinate            1419631 non-null float64\n",
      "Y Coordinate            1419631 non-null float64\n",
      "Year                    1456714 non-null int64\n",
      "Updated On              1456714 non-null object\n",
      "Latitude                1419631 non-null float64\n",
      "Longitude               1419631 non-null float64\n",
      "Location                1419631 non-null object\n",
      "dtypes: bool(2), float64(7), int64(4), object(10)\n",
      "memory usage: 236.2+ MB\n"
     ]
    }
   ],
   "source": [
    "df.info()"
   ]
  },
  {
   "cell_type": "markdown",
   "metadata": {},
   "source": [
    "### Number of records = 1,456,714 => >5k\n",
    "### 23 columns > 10 column requirement"
   ]
  },
  {
   "cell_type": "code",
   "execution_count": 145,
   "metadata": {},
   "outputs": [
    {
     "data": {
      "text/plain": [
       "Unnamed: 0                  0\n",
       "ID                          0\n",
       "Case Number                 1\n",
       "Date                        0\n",
       "Block                       0\n",
       "IUCR                        0\n",
       "Primary Type                0\n",
       "Description                 0\n",
       "Location Description     1658\n",
       "Arrest                      0\n",
       "Domestic                    0\n",
       "Beat                        0\n",
       "District                    1\n",
       "Ward                       14\n",
       "Community Area             40\n",
       "FBI Code                    0\n",
       "X Coordinate            37083\n",
       "Y Coordinate            37083\n",
       "Year                        0\n",
       "Updated On                  0\n",
       "Latitude                37083\n",
       "Longitude               37083\n",
       "Location                37083\n",
       "dtype: int64"
      ]
     },
     "execution_count": 145,
     "metadata": {},
     "output_type": "execute_result"
    }
   ],
   "source": [
    "df.isnull().sum()"
   ]
  },
  {
   "cell_type": "markdown",
   "metadata": {},
   "source": [
    "## There is a significant amount of location data that is missing. "
   ]
  },
  {
   "cell_type": "markdown",
   "metadata": {},
   "source": [
    "### Imputation: Long Lat ### \n",
    "Calculate the mean long lat for each ward\n",
    "Build lookup table\n",
    "For each missing long lat, look up the ward and replace the missing value with the value in loop up table"
   ]
  },
  {
   "cell_type": "code",
   "execution_count": 146,
   "metadata": {},
   "outputs": [
    {
     "data": {
      "text/html": [
       "<div>\n",
       "<style scoped>\n",
       "    .dataframe tbody tr th:only-of-type {\n",
       "        vertical-align: middle;\n",
       "    }\n",
       "\n",
       "    .dataframe tbody tr th {\n",
       "        vertical-align: top;\n",
       "    }\n",
       "\n",
       "    .dataframe thead th {\n",
       "        text-align: right;\n",
       "    }\n",
       "</style>\n",
       "<table border=\"1\" class=\"dataframe\">\n",
       "  <thead>\n",
       "    <tr style=\"text-align: right;\">\n",
       "      <th></th>\n",
       "      <th>Longitude</th>\n",
       "      <th>Latitude</th>\n",
       "    </tr>\n",
       "    <tr>\n",
       "      <th>Ward</th>\n",
       "      <th></th>\n",
       "      <th></th>\n",
       "    </tr>\n",
       "  </thead>\n",
       "  <tbody>\n",
       "    <tr>\n",
       "      <td>1.0</td>\n",
       "      <td>-87.681166</td>\n",
       "      <td>41.910664</td>\n",
       "    </tr>\n",
       "    <tr>\n",
       "      <td>2.0</td>\n",
       "      <td>-87.653171</td>\n",
       "      <td>41.870792</td>\n",
       "    </tr>\n",
       "    <tr>\n",
       "      <td>3.0</td>\n",
       "      <td>-87.626850</td>\n",
       "      <td>41.814090</td>\n",
       "    </tr>\n",
       "    <tr>\n",
       "      <td>4.0</td>\n",
       "      <td>-87.603932</td>\n",
       "      <td>41.814684</td>\n",
       "    </tr>\n",
       "    <tr>\n",
       "      <td>5.0</td>\n",
       "      <td>-87.588531</td>\n",
       "      <td>41.765896</td>\n",
       "    </tr>\n",
       "  </tbody>\n",
       "</table>\n",
       "</div>"
      ],
      "text/plain": [
       "      Longitude   Latitude\n",
       "Ward                      \n",
       "1.0  -87.681166  41.910664\n",
       "2.0  -87.653171  41.870792\n",
       "3.0  -87.626850  41.814090\n",
       "4.0  -87.603932  41.814684\n",
       "5.0  -87.588531  41.765896"
      ]
     },
     "execution_count": 146,
     "metadata": {},
     "output_type": "execute_result"
    }
   ],
   "source": [
    "features = [\"Ward\", \"Longitude\", \"Latitude\"]\n",
    "temp = (df[features]).groupby(\"Ward\").mean()\n",
    "temp.head()"
   ]
  },
  {
   "cell_type": "code",
   "execution_count": 147,
   "metadata": {},
   "outputs": [
    {
     "data": {
      "text/plain": [
       "Index(['Longitude', 'Latitude'], dtype='object')"
      ]
     },
     "execution_count": 147,
     "metadata": {},
     "output_type": "execute_result"
    }
   ],
   "source": [
    "# mask = (temp['Ward'] == '1.0')\n",
    "temp.columns"
   ]
  },
  {
   "cell_type": "code",
   "execution_count": 148,
   "metadata": {},
   "outputs": [
    {
     "data": {
      "text/plain": [
       "Longitude   -87.681166\n",
       "Latitude     41.910664\n",
       "Name: 1.0, dtype: float64"
      ]
     },
     "execution_count": 148,
     "metadata": {},
     "output_type": "execute_result"
    }
   ],
   "source": [
    "temp.loc[1]"
   ]
  },
  {
   "cell_type": "code",
   "execution_count": 149,
   "metadata": {},
   "outputs": [],
   "source": [
    "df.loc[df['Longitude'].isnull(),'Longitude']  = df['Ward'].map(temp.Longitude)"
   ]
  },
  {
   "cell_type": "code",
   "execution_count": 150,
   "metadata": {},
   "outputs": [],
   "source": [
    "df.loc[df['Latitude'].isnull(),'Latitude']  = df['Ward'].map(temp.Latitude)"
   ]
  },
  {
   "cell_type": "code",
   "execution_count": 151,
   "metadata": {},
   "outputs": [
    {
     "data": {
      "text/plain": [
       "Unnamed: 0                  0\n",
       "ID                          0\n",
       "Case Number                 1\n",
       "Date                        0\n",
       "Block                       0\n",
       "IUCR                        0\n",
       "Primary Type                0\n",
       "Description                 0\n",
       "Location Description     1658\n",
       "Arrest                      0\n",
       "Domestic                    0\n",
       "Beat                        0\n",
       "District                    1\n",
       "Ward                       14\n",
       "Community Area             40\n",
       "FBI Code                    0\n",
       "X Coordinate            37083\n",
       "Y Coordinate            37083\n",
       "Year                        0\n",
       "Updated On                  0\n",
       "Latitude                    0\n",
       "Longitude                   0\n",
       "Location                37083\n",
       "dtype: int64"
      ]
     },
     "execution_count": 151,
     "metadata": {},
     "output_type": "execute_result"
    }
   ],
   "source": [
    "df.isnull().sum()"
   ]
  },
  {
   "cell_type": "markdown",
   "metadata": {},
   "source": [
    "### Imputation: Ward ###\n",
    "\n",
    "Drop the missing values, since only 14 are missing and that is very few compared to the size of the dataset"
   ]
  },
  {
   "cell_type": "code",
   "execution_count": 152,
   "metadata": {},
   "outputs": [],
   "source": [
    "df.dropna(subset=['Ward'],inplace=True)"
   ]
  },
  {
   "cell_type": "markdown",
   "metadata": {},
   "source": [
    "### Imputation: Community Area ### "
   ]
  },
  {
   "cell_type": "code",
   "execution_count": 153,
   "metadata": {},
   "outputs": [],
   "source": [
    "features = [\"Ward\", \"Community Area\"]\n",
    "temp = (df[features]).groupby(features).aggregate({\"Community Area\":['count']})\n",
    "temp = temp.reset_index()\n",
    "temp.columns = ['Ward', 'Community', 'count']\n",
    "\n",
    "df_agg = temp.groupby(['Ward','Community']).agg({'count':sum})\n",
    "g = df_agg['count'].groupby(level=0, group_keys=False)\n",
    "res = g.apply(lambda x: x.sort_values(ascending=False).head(1))\n",
    "\n",
    "res = res.reset_index()\n",
    "df.loc[df[\"Community Area\"].isnull(),\"Community Area\"]  = df['Ward'].map(res.Community)"
   ]
  },
  {
   "cell_type": "code",
   "execution_count": 154,
   "metadata": {},
   "outputs": [],
   "source": [
    "# features = [\"Ward\", \"Community Area\"]\n",
    "# temp = (df[features]).groupby(\"Ward\").mean()\n",
    "# df.loc[df[\"Community Area\"].isnull(),\"Community Area\"]  = df[\"Ward\"].map(temp['Community Area'])"
   ]
  },
  {
   "cell_type": "markdown",
   "metadata": {},
   "source": [
    "### Imputation: District ###"
   ]
  },
  {
   "cell_type": "code",
   "execution_count": 155,
   "metadata": {},
   "outputs": [],
   "source": [
    "# features = [\"Ward\", \"District\"]\n",
    "# temp = (df[features]).groupby(\"Ward\").mean()\n",
    "# df.loc[df[\"District\"].isnull(),\"Community Area\"]  = df[\"Ward\"].map(temp['District'])\n",
    "\n",
    "features = [\"Ward\", \"District\"]\n",
    "temp = (df[features]).groupby(features).aggregate({\"District\":['count']})\n",
    "temp = temp.reset_index()\n",
    "temp.columns = ['Ward', 'District', 'count']\n",
    "\n",
    "df_agg = temp.groupby(['Ward','District']).agg({'count':sum})\n",
    "g = df_agg['count'].groupby(level=0, group_keys=False)\n",
    "res = g.apply(lambda x: x.sort_values(ascending=False).head(1))\n",
    "\n",
    "res = res.reset_index()\n",
    "df.loc[df[\"District\"].isnull(),\"District\"]  = df['Ward'].map(res.District)"
   ]
  },
  {
   "cell_type": "code",
   "execution_count": 156,
   "metadata": {},
   "outputs": [
    {
     "data": {
      "text/plain": [
       "Series([], Name: Community Area, dtype: float64)"
      ]
     },
     "execution_count": 156,
     "metadata": {},
     "output_type": "execute_result"
    }
   ],
   "source": [
    "# df[\"Community Area\"].map()\n",
    "df.loc[df[\"Community Area\"].isnull(),\"Community Area\"]"
   ]
  },
  {
   "cell_type": "markdown",
   "metadata": {},
   "source": [
    "### Imputation: Location Description ###"
   ]
  },
  {
   "cell_type": "code",
   "execution_count": 157,
   "metadata": {},
   "outputs": [],
   "source": [
    "features = [\"Ward\", \"Location Description\"]\n",
    "temp = (df[features]).groupby([\"Ward\", \"Location Description\"]).aggregate({\"Location Description\":['count']})"
   ]
  },
  {
   "cell_type": "code",
   "execution_count": 158,
   "metadata": {},
   "outputs": [
    {
     "data": {
      "text/plain": [
       "pandas.core.frame.DataFrame"
      ]
     },
     "execution_count": 158,
     "metadata": {},
     "output_type": "execute_result"
    }
   ],
   "source": [
    "type(temp)"
   ]
  },
  {
   "cell_type": "code",
   "execution_count": 159,
   "metadata": {},
   "outputs": [
    {
     "data": {
      "text/html": [
       "<div>\n",
       "<style scoped>\n",
       "    .dataframe tbody tr th:only-of-type {\n",
       "        vertical-align: middle;\n",
       "    }\n",
       "\n",
       "    .dataframe tbody tr th {\n",
       "        vertical-align: top;\n",
       "    }\n",
       "\n",
       "    .dataframe thead tr th {\n",
       "        text-align: left;\n",
       "    }\n",
       "\n",
       "    .dataframe thead tr:last-of-type th {\n",
       "        text-align: right;\n",
       "    }\n",
       "</style>\n",
       "<table border=\"1\" class=\"dataframe\">\n",
       "  <thead>\n",
       "    <tr>\n",
       "      <th></th>\n",
       "      <th></th>\n",
       "      <th>Location Description</th>\n",
       "    </tr>\n",
       "    <tr>\n",
       "      <th></th>\n",
       "      <th></th>\n",
       "      <th>count</th>\n",
       "    </tr>\n",
       "    <tr>\n",
       "      <th>Ward</th>\n",
       "      <th>Location Description</th>\n",
       "      <th></th>\n",
       "    </tr>\n",
       "  </thead>\n",
       "  <tbody>\n",
       "    <tr>\n",
       "      <td rowspan=\"5\" valign=\"top\">1.0</td>\n",
       "      <td>ABANDONED BUILDING</td>\n",
       "      <td>17</td>\n",
       "    </tr>\n",
       "    <tr>\n",
       "      <td>AIRPORT VENDING ESTABLISHMENT</td>\n",
       "      <td>1</td>\n",
       "    </tr>\n",
       "    <tr>\n",
       "      <td>ALLEY</td>\n",
       "      <td>489</td>\n",
       "    </tr>\n",
       "    <tr>\n",
       "      <td>ANIMAL HOSPITAL</td>\n",
       "      <td>4</td>\n",
       "    </tr>\n",
       "    <tr>\n",
       "      <td>APARTMENT</td>\n",
       "      <td>2438</td>\n",
       "    </tr>\n",
       "    <tr>\n",
       "      <td>...</td>\n",
       "      <td>...</td>\n",
       "      <td>...</td>\n",
       "    </tr>\n",
       "    <tr>\n",
       "      <td rowspan=\"5\" valign=\"top\">50.0</td>\n",
       "      <td>VEHICLE - DELIVERY TRUCK</td>\n",
       "      <td>1</td>\n",
       "    </tr>\n",
       "    <tr>\n",
       "      <td>VEHICLE - OTHER RIDE SERVICE</td>\n",
       "      <td>2</td>\n",
       "    </tr>\n",
       "    <tr>\n",
       "      <td>VEHICLE NON-COMMERCIAL</td>\n",
       "      <td>190</td>\n",
       "    </tr>\n",
       "    <tr>\n",
       "      <td>VEHICLE-COMMERCIAL</td>\n",
       "      <td>8</td>\n",
       "    </tr>\n",
       "    <tr>\n",
       "      <td>WAREHOUSE</td>\n",
       "      <td>4</td>\n",
       "    </tr>\n",
       "  </tbody>\n",
       "</table>\n",
       "<p>4159 rows × 1 columns</p>\n",
       "</div>"
      ],
      "text/plain": [
       "                                   Location Description\n",
       "                                                  count\n",
       "Ward Location Description                              \n",
       "1.0  ABANDONED BUILDING                              17\n",
       "     AIRPORT VENDING ESTABLISHMENT                    1\n",
       "     ALLEY                                          489\n",
       "     ANIMAL HOSPITAL                                  4\n",
       "     APARTMENT                                     2438\n",
       "...                                                 ...\n",
       "50.0 VEHICLE - DELIVERY TRUCK                         1\n",
       "     VEHICLE - OTHER RIDE SERVICE                     2\n",
       "     VEHICLE NON-COMMERCIAL                         190\n",
       "     VEHICLE-COMMERCIAL                               8\n",
       "     WAREHOUSE                                        4\n",
       "\n",
       "[4159 rows x 1 columns]"
      ]
     },
     "execution_count": 159,
     "metadata": {},
     "output_type": "execute_result"
    }
   ],
   "source": [
    "temp"
   ]
  },
  {
   "cell_type": "code",
   "execution_count": 160,
   "metadata": {},
   "outputs": [],
   "source": [
    "temp = temp.reset_index()"
   ]
  },
  {
   "cell_type": "code",
   "execution_count": 161,
   "metadata": {},
   "outputs": [
    {
     "data": {
      "text/plain": [
       "0         17\n",
       "1          1\n",
       "2        489\n",
       "3          4\n",
       "4       2438\n",
       "        ... \n",
       "4154       1\n",
       "4155       2\n",
       "4156     190\n",
       "4157       8\n",
       "4158       4\n",
       "Name: (Location Description, count), Length: 4159, dtype: int64"
      ]
     },
     "execution_count": 161,
     "metadata": {},
     "output_type": "execute_result"
    }
   ],
   "source": [
    "temp[('Location Description','count')]"
   ]
  },
  {
   "cell_type": "code",
   "execution_count": 162,
   "metadata": {},
   "outputs": [
    {
     "data": {
      "text/plain": [
       "MultiIndex([(                'Ward',      ''),\n",
       "            ('Location Description',      ''),\n",
       "            ('Location Description', 'count')],\n",
       "           )"
      ]
     },
     "execution_count": 162,
     "metadata": {},
     "output_type": "execute_result"
    }
   ],
   "source": [
    "temp.columns\n",
    "# features = [\"Ward\", \"Location Description\", \"count\"]\n",
    "# (temp[features]).groupby(\"Ward\").max()"
   ]
  },
  {
   "cell_type": "code",
   "execution_count": 163,
   "metadata": {},
   "outputs": [],
   "source": [
    "temp.columns = ['Ward', 'Location', 'count']"
   ]
  },
  {
   "cell_type": "code",
   "execution_count": 164,
   "metadata": {},
   "outputs": [
    {
     "data": {
      "text/plain": [
       "0         17\n",
       "1          1\n",
       "2        489\n",
       "3          4\n",
       "4       2438\n",
       "        ... \n",
       "4154       1\n",
       "4155       2\n",
       "4156     190\n",
       "4157       8\n",
       "4158       4\n",
       "Name: count, Length: 4159, dtype: int64"
      ]
     },
     "execution_count": 164,
     "metadata": {},
     "output_type": "execute_result"
    }
   ],
   "source": [
    "temp['count']"
   ]
  },
  {
   "cell_type": "code",
   "execution_count": 165,
   "metadata": {},
   "outputs": [
    {
     "data": {
      "text/html": [
       "<div>\n",
       "<style scoped>\n",
       "    .dataframe tbody tr th:only-of-type {\n",
       "        vertical-align: middle;\n",
       "    }\n",
       "\n",
       "    .dataframe tbody tr th {\n",
       "        vertical-align: top;\n",
       "    }\n",
       "\n",
       "    .dataframe thead th {\n",
       "        text-align: right;\n",
       "    }\n",
       "</style>\n",
       "<table border=\"1\" class=\"dataframe\">\n",
       "  <thead>\n",
       "    <tr style=\"text-align: right;\">\n",
       "      <th></th>\n",
       "      <th>Ward</th>\n",
       "      <th>Location</th>\n",
       "      <th>count</th>\n",
       "    </tr>\n",
       "  </thead>\n",
       "  <tbody>\n",
       "    <tr>\n",
       "      <td>0</td>\n",
       "      <td>1.0</td>\n",
       "      <td>STREET</td>\n",
       "      <td>7503</td>\n",
       "    </tr>\n",
       "    <tr>\n",
       "      <td>1</td>\n",
       "      <td>2.0</td>\n",
       "      <td>STREET</td>\n",
       "      <td>10952</td>\n",
       "    </tr>\n",
       "    <tr>\n",
       "      <td>2</td>\n",
       "      <td>3.0</td>\n",
       "      <td>STREET</td>\n",
       "      <td>8825</td>\n",
       "    </tr>\n",
       "    <tr>\n",
       "      <td>3</td>\n",
       "      <td>4.0</td>\n",
       "      <td>STREET</td>\n",
       "      <td>5945</td>\n",
       "    </tr>\n",
       "    <tr>\n",
       "      <td>4</td>\n",
       "      <td>5.0</td>\n",
       "      <td>APARTMENT</td>\n",
       "      <td>9082</td>\n",
       "    </tr>\n",
       "    <tr>\n",
       "      <td>5</td>\n",
       "      <td>6.0</td>\n",
       "      <td>STREET</td>\n",
       "      <td>11562</td>\n",
       "    </tr>\n",
       "    <tr>\n",
       "      <td>6</td>\n",
       "      <td>7.0</td>\n",
       "      <td>APARTMENT</td>\n",
       "      <td>8834</td>\n",
       "    </tr>\n",
       "    <tr>\n",
       "      <td>7</td>\n",
       "      <td>8.0</td>\n",
       "      <td>STREET</td>\n",
       "      <td>8866</td>\n",
       "    </tr>\n",
       "    <tr>\n",
       "      <td>8</td>\n",
       "      <td>9.0</td>\n",
       "      <td>RESIDENCE</td>\n",
       "      <td>9902</td>\n",
       "    </tr>\n",
       "    <tr>\n",
       "      <td>9</td>\n",
       "      <td>10.0</td>\n",
       "      <td>STREET</td>\n",
       "      <td>5876</td>\n",
       "    </tr>\n",
       "    <tr>\n",
       "      <td>10</td>\n",
       "      <td>11.0</td>\n",
       "      <td>STREET</td>\n",
       "      <td>5307</td>\n",
       "    </tr>\n",
       "    <tr>\n",
       "      <td>11</td>\n",
       "      <td>12.0</td>\n",
       "      <td>STREET</td>\n",
       "      <td>4891</td>\n",
       "    </tr>\n",
       "    <tr>\n",
       "      <td>12</td>\n",
       "      <td>13.0</td>\n",
       "      <td>RESIDENCE</td>\n",
       "      <td>4619</td>\n",
       "    </tr>\n",
       "    <tr>\n",
       "      <td>13</td>\n",
       "      <td>14.0</td>\n",
       "      <td>STREET</td>\n",
       "      <td>5172</td>\n",
       "    </tr>\n",
       "    <tr>\n",
       "      <td>14</td>\n",
       "      <td>15.0</td>\n",
       "      <td>RESIDENCE</td>\n",
       "      <td>8760</td>\n",
       "    </tr>\n",
       "    <tr>\n",
       "      <td>15</td>\n",
       "      <td>16.0</td>\n",
       "      <td>STREET</td>\n",
       "      <td>9100</td>\n",
       "    </tr>\n",
       "    <tr>\n",
       "      <td>16</td>\n",
       "      <td>17.0</td>\n",
       "      <td>RESIDENCE</td>\n",
       "      <td>11558</td>\n",
       "    </tr>\n",
       "    <tr>\n",
       "      <td>17</td>\n",
       "      <td>18.0</td>\n",
       "      <td>RESIDENCE</td>\n",
       "      <td>6851</td>\n",
       "    </tr>\n",
       "    <tr>\n",
       "      <td>18</td>\n",
       "      <td>19.0</td>\n",
       "      <td>RESIDENCE</td>\n",
       "      <td>3886</td>\n",
       "    </tr>\n",
       "    <tr>\n",
       "      <td>19</td>\n",
       "      <td>20.0</td>\n",
       "      <td>APARTMENT</td>\n",
       "      <td>10948</td>\n",
       "    </tr>\n",
       "    <tr>\n",
       "      <td>20</td>\n",
       "      <td>21.0</td>\n",
       "      <td>RESIDENCE</td>\n",
       "      <td>10248</td>\n",
       "    </tr>\n",
       "    <tr>\n",
       "      <td>21</td>\n",
       "      <td>22.0</td>\n",
       "      <td>STREET</td>\n",
       "      <td>4362</td>\n",
       "    </tr>\n",
       "    <tr>\n",
       "      <td>22</td>\n",
       "      <td>23.0</td>\n",
       "      <td>RESIDENCE</td>\n",
       "      <td>3987</td>\n",
       "    </tr>\n",
       "    <tr>\n",
       "      <td>23</td>\n",
       "      <td>24.0</td>\n",
       "      <td>STREET</td>\n",
       "      <td>14791</td>\n",
       "    </tr>\n",
       "    <tr>\n",
       "      <td>24</td>\n",
       "      <td>25.0</td>\n",
       "      <td>STREET</td>\n",
       "      <td>5774</td>\n",
       "    </tr>\n",
       "    <tr>\n",
       "      <td>25</td>\n",
       "      <td>26.0</td>\n",
       "      <td>STREET</td>\n",
       "      <td>6048</td>\n",
       "    </tr>\n",
       "    <tr>\n",
       "      <td>26</td>\n",
       "      <td>27.0</td>\n",
       "      <td>STREET</td>\n",
       "      <td>14337</td>\n",
       "    </tr>\n",
       "    <tr>\n",
       "      <td>27</td>\n",
       "      <td>28.0</td>\n",
       "      <td>STREET</td>\n",
       "      <td>17107</td>\n",
       "    </tr>\n",
       "    <tr>\n",
       "      <td>28</td>\n",
       "      <td>29.0</td>\n",
       "      <td>STREET</td>\n",
       "      <td>8337</td>\n",
       "    </tr>\n",
       "    <tr>\n",
       "      <td>29</td>\n",
       "      <td>30.0</td>\n",
       "      <td>STREET</td>\n",
       "      <td>5502</td>\n",
       "    </tr>\n",
       "    <tr>\n",
       "      <td>30</td>\n",
       "      <td>31.0</td>\n",
       "      <td>STREET</td>\n",
       "      <td>5463</td>\n",
       "    </tr>\n",
       "    <tr>\n",
       "      <td>31</td>\n",
       "      <td>32.0</td>\n",
       "      <td>STREET</td>\n",
       "      <td>6921</td>\n",
       "    </tr>\n",
       "    <tr>\n",
       "      <td>32</td>\n",
       "      <td>33.0</td>\n",
       "      <td>STREET</td>\n",
       "      <td>3728</td>\n",
       "    </tr>\n",
       "    <tr>\n",
       "      <td>33</td>\n",
       "      <td>34.0</td>\n",
       "      <td>RESIDENCE</td>\n",
       "      <td>13561</td>\n",
       "    </tr>\n",
       "    <tr>\n",
       "      <td>34</td>\n",
       "      <td>35.0</td>\n",
       "      <td>STREET</td>\n",
       "      <td>4774</td>\n",
       "    </tr>\n",
       "    <tr>\n",
       "      <td>35</td>\n",
       "      <td>36.0</td>\n",
       "      <td>RESIDENCE</td>\n",
       "      <td>3932</td>\n",
       "    </tr>\n",
       "    <tr>\n",
       "      <td>36</td>\n",
       "      <td>37.0</td>\n",
       "      <td>STREET</td>\n",
       "      <td>9252</td>\n",
       "    </tr>\n",
       "    <tr>\n",
       "      <td>37</td>\n",
       "      <td>38.0</td>\n",
       "      <td>STREET</td>\n",
       "      <td>4071</td>\n",
       "    </tr>\n",
       "    <tr>\n",
       "      <td>38</td>\n",
       "      <td>39.0</td>\n",
       "      <td>STREET</td>\n",
       "      <td>3555</td>\n",
       "    </tr>\n",
       "    <tr>\n",
       "      <td>39</td>\n",
       "      <td>40.0</td>\n",
       "      <td>STREET</td>\n",
       "      <td>3186</td>\n",
       "    </tr>\n",
       "    <tr>\n",
       "      <td>40</td>\n",
       "      <td>41.0</td>\n",
       "      <td>RESIDENCE</td>\n",
       "      <td>2700</td>\n",
       "    </tr>\n",
       "    <tr>\n",
       "      <td>41</td>\n",
       "      <td>42.0</td>\n",
       "      <td>DEPARTMENT STORE</td>\n",
       "      <td>7564</td>\n",
       "    </tr>\n",
       "    <tr>\n",
       "      <td>42</td>\n",
       "      <td>43.0</td>\n",
       "      <td>STREET</td>\n",
       "      <td>5062</td>\n",
       "    </tr>\n",
       "    <tr>\n",
       "      <td>43</td>\n",
       "      <td>44.0</td>\n",
       "      <td>STREET</td>\n",
       "      <td>4398</td>\n",
       "    </tr>\n",
       "    <tr>\n",
       "      <td>44</td>\n",
       "      <td>45.0</td>\n",
       "      <td>STREET</td>\n",
       "      <td>3739</td>\n",
       "    </tr>\n",
       "    <tr>\n",
       "      <td>45</td>\n",
       "      <td>46.0</td>\n",
       "      <td>STREET</td>\n",
       "      <td>3347</td>\n",
       "    </tr>\n",
       "    <tr>\n",
       "      <td>46</td>\n",
       "      <td>47.0</td>\n",
       "      <td>STREET</td>\n",
       "      <td>3435</td>\n",
       "    </tr>\n",
       "    <tr>\n",
       "      <td>47</td>\n",
       "      <td>48.0</td>\n",
       "      <td>APARTMENT</td>\n",
       "      <td>2553</td>\n",
       "    </tr>\n",
       "    <tr>\n",
       "      <td>48</td>\n",
       "      <td>49.0</td>\n",
       "      <td>APARTMENT</td>\n",
       "      <td>4534</td>\n",
       "    </tr>\n",
       "    <tr>\n",
       "      <td>49</td>\n",
       "      <td>50.0</td>\n",
       "      <td>STREET</td>\n",
       "      <td>3454</td>\n",
       "    </tr>\n",
       "  </tbody>\n",
       "</table>\n",
       "</div>"
      ],
      "text/plain": [
       "    Ward          Location  count\n",
       "0    1.0            STREET   7503\n",
       "1    2.0            STREET  10952\n",
       "2    3.0            STREET   8825\n",
       "3    4.0            STREET   5945\n",
       "4    5.0         APARTMENT   9082\n",
       "5    6.0            STREET  11562\n",
       "6    7.0         APARTMENT   8834\n",
       "7    8.0            STREET   8866\n",
       "8    9.0         RESIDENCE   9902\n",
       "9   10.0            STREET   5876\n",
       "10  11.0            STREET   5307\n",
       "11  12.0            STREET   4891\n",
       "12  13.0         RESIDENCE   4619\n",
       "13  14.0            STREET   5172\n",
       "14  15.0         RESIDENCE   8760\n",
       "15  16.0            STREET   9100\n",
       "16  17.0         RESIDENCE  11558\n",
       "17  18.0         RESIDENCE   6851\n",
       "18  19.0         RESIDENCE   3886\n",
       "19  20.0         APARTMENT  10948\n",
       "20  21.0         RESIDENCE  10248\n",
       "21  22.0            STREET   4362\n",
       "22  23.0         RESIDENCE   3987\n",
       "23  24.0            STREET  14791\n",
       "24  25.0            STREET   5774\n",
       "25  26.0            STREET   6048\n",
       "26  27.0            STREET  14337\n",
       "27  28.0            STREET  17107\n",
       "28  29.0            STREET   8337\n",
       "29  30.0            STREET   5502\n",
       "30  31.0            STREET   5463\n",
       "31  32.0            STREET   6921\n",
       "32  33.0            STREET   3728\n",
       "33  34.0         RESIDENCE  13561\n",
       "34  35.0            STREET   4774\n",
       "35  36.0         RESIDENCE   3932\n",
       "36  37.0            STREET   9252\n",
       "37  38.0            STREET   4071\n",
       "38  39.0            STREET   3555\n",
       "39  40.0            STREET   3186\n",
       "40  41.0         RESIDENCE   2700\n",
       "41  42.0  DEPARTMENT STORE   7564\n",
       "42  43.0            STREET   5062\n",
       "43  44.0            STREET   4398\n",
       "44  45.0            STREET   3739\n",
       "45  46.0            STREET   3347\n",
       "46  47.0            STREET   3435\n",
       "47  48.0         APARTMENT   2553\n",
       "48  49.0         APARTMENT   4534\n",
       "49  50.0            STREET   3454"
      ]
     },
     "execution_count": 165,
     "metadata": {},
     "output_type": "execute_result"
    }
   ],
   "source": [
    "df_agg = temp.groupby(['Ward','Location']).agg({'count':sum})\n",
    "g = df_agg['count'].groupby(level=0, group_keys=False)\n",
    "res = g.apply(lambda x: x.sort_values(ascending=False).head(1))\n",
    "\n",
    "res.reset_index()"
   ]
  },
  {
   "cell_type": "markdown",
   "metadata": {},
   "source": [
    "Make diagram for crimes in each ward"
   ]
  },
  {
   "cell_type": "code",
   "execution_count": 166,
   "metadata": {},
   "outputs": [
    {
     "data": {
      "text/plain": [
       "Ward  Location \n",
       "1.0   STREET        7503\n",
       "2.0   STREET       10952\n",
       "3.0   STREET        8825\n",
       "4.0   STREET        5945\n",
       "5.0   APARTMENT     9082\n",
       "Name: count, dtype: int64"
      ]
     },
     "execution_count": 166,
     "metadata": {},
     "output_type": "execute_result"
    }
   ],
   "source": [
    "res.head()"
   ]
  },
  {
   "cell_type": "code",
   "execution_count": 167,
   "metadata": {},
   "outputs": [],
   "source": [
    "res = res.reset_index()"
   ]
  },
  {
   "cell_type": "code",
   "execution_count": 168,
   "metadata": {},
   "outputs": [],
   "source": [
    "df.loc[df[\"Location Description\"].isnull(),\"Location Description\"]  = df['Ward'].map(res.Location)"
   ]
  },
  {
   "cell_type": "code",
   "execution_count": 169,
   "metadata": {},
   "outputs": [
    {
     "data": {
      "text/plain": [
       "Unnamed: 0                  0\n",
       "ID                          0\n",
       "Case Number                 1\n",
       "Date                        0\n",
       "Block                       0\n",
       "IUCR                        0\n",
       "Primary Type                0\n",
       "Description                 0\n",
       "Location Description       18\n",
       "Arrest                      0\n",
       "Domestic                    0\n",
       "Beat                        0\n",
       "District                    0\n",
       "Ward                        0\n",
       "Community Area              0\n",
       "FBI Code                    0\n",
       "X Coordinate            37083\n",
       "Y Coordinate            37083\n",
       "Year                        0\n",
       "Updated On                  0\n",
       "Latitude                    0\n",
       "Longitude                   0\n",
       "Location                37083\n",
       "dtype: int64"
      ]
     },
     "execution_count": 169,
     "metadata": {},
     "output_type": "execute_result"
    }
   ],
   "source": [
    "df.isnull().sum()"
   ]
  },
  {
   "cell_type": "code",
   "execution_count": 170,
   "metadata": {},
   "outputs": [
    {
     "data": {
      "text/plain": [
       "array([24., 20., 37., 28.,  8.,  3., 40., 17.,  7., 42.,  2.,  4.,  1.,\n",
       "       18., 34.,  5., 32., 41., 21., 11., 14., 29., 44., 48.,  9., 33.,\n",
       "       16., 23., 30., 43., 26., 27., 12., 45.,  6., 25., 47., 38., 50.,\n",
       "       22., 19., 13., 36., 35., 15., 46., 10., 49., 39., 31.])"
      ]
     },
     "execution_count": 170,
     "metadata": {},
     "output_type": "execute_result"
    }
   ],
   "source": [
    "(df[\"Ward\"].unique())"
   ]
  },
  {
   "cell_type": "code",
   "execution_count": null,
   "metadata": {},
   "outputs": [],
   "source": []
  },
  {
   "cell_type": "markdown",
   "metadata": {},
   "source": [
    "# EDA # "
   ]
  },
  {
   "cell_type": "markdown",
   "metadata": {},
   "source": [
    "#### There are 24 unique districts ####\n",
    "\n",
    "check distribution of long lat in each district"
   ]
  },
  {
   "cell_type": "code",
   "execution_count": 171,
   "metadata": {},
   "outputs": [
    {
     "data": {
      "text/html": [
       "<div>\n",
       "<style scoped>\n",
       "    .dataframe tbody tr th:only-of-type {\n",
       "        vertical-align: middle;\n",
       "    }\n",
       "\n",
       "    .dataframe tbody tr th {\n",
       "        vertical-align: top;\n",
       "    }\n",
       "\n",
       "    .dataframe thead th {\n",
       "        text-align: right;\n",
       "    }\n",
       "</style>\n",
       "<table border=\"1\" class=\"dataframe\">\n",
       "  <thead>\n",
       "    <tr style=\"text-align: right;\">\n",
       "      <th></th>\n",
       "      <th>Ward</th>\n",
       "      <th>Longitude</th>\n",
       "      <th>Latitude</th>\n",
       "    </tr>\n",
       "  </thead>\n",
       "  <tbody>\n",
       "  </tbody>\n",
       "</table>\n",
       "</div>"
      ],
      "text/plain": [
       "Empty DataFrame\n",
       "Columns: [Ward, Longitude, Latitude]\n",
       "Index: []"
      ]
     },
     "execution_count": 171,
     "metadata": {},
     "output_type": "execute_result"
    }
   ],
   "source": [
    "df2 = df[df['Ward'].isnull()]\n",
    "\n",
    "features = [\"Ward\", \"Longitude\", \"Latitude\"]\n",
    "df2[features]"
   ]
  },
  {
   "cell_type": "code",
   "execution_count": 172,
   "metadata": {},
   "outputs": [
    {
     "data": {
      "text/html": [
       "<div>\n",
       "<style scoped>\n",
       "    .dataframe tbody tr th:only-of-type {\n",
       "        vertical-align: middle;\n",
       "    }\n",
       "\n",
       "    .dataframe tbody tr th {\n",
       "        vertical-align: top;\n",
       "    }\n",
       "\n",
       "    .dataframe thead th {\n",
       "        text-align: right;\n",
       "    }\n",
       "</style>\n",
       "<table border=\"1\" class=\"dataframe\">\n",
       "  <thead>\n",
       "    <tr style=\"text-align: right;\">\n",
       "      <th></th>\n",
       "      <th>Ward</th>\n",
       "      <th>Longitude</th>\n",
       "      <th>Latitude</th>\n",
       "    </tr>\n",
       "  </thead>\n",
       "  <tbody>\n",
       "    <tr>\n",
       "      <td>261588</td>\n",
       "      <td>1.0</td>\n",
       "      <td>-87.679551</td>\n",
       "      <td>41.932269</td>\n",
       "    </tr>\n",
       "    <tr>\n",
       "      <td>1303199</td>\n",
       "      <td>1.0</td>\n",
       "      <td>-87.679482</td>\n",
       "      <td>41.932269</td>\n",
       "    </tr>\n",
       "    <tr>\n",
       "      <td>162406</td>\n",
       "      <td>1.0</td>\n",
       "      <td>-87.688426</td>\n",
       "      <td>41.909347</td>\n",
       "    </tr>\n",
       "    <tr>\n",
       "      <td>717827</td>\n",
       "      <td>1.0</td>\n",
       "      <td>-87.686410</td>\n",
       "      <td>41.910335</td>\n",
       "    </tr>\n",
       "    <tr>\n",
       "      <td>717896</td>\n",
       "      <td>1.0</td>\n",
       "      <td>-87.674927</td>\n",
       "      <td>41.908752</td>\n",
       "    </tr>\n",
       "    <tr>\n",
       "      <td>...</td>\n",
       "      <td>...</td>\n",
       "      <td>...</td>\n",
       "      <td>...</td>\n",
       "    </tr>\n",
       "    <tr>\n",
       "      <td>686683</td>\n",
       "      <td>50.0</td>\n",
       "      <td>-87.686166</td>\n",
       "      <td>41.996266</td>\n",
       "    </tr>\n",
       "    <tr>\n",
       "      <td>1413347</td>\n",
       "      <td>50.0</td>\n",
       "      <td>-87.695121</td>\n",
       "      <td>42.000485</td>\n",
       "    </tr>\n",
       "    <tr>\n",
       "      <td>1072986</td>\n",
       "      <td>50.0</td>\n",
       "      <td>-87.698650</td>\n",
       "      <td>42.009387</td>\n",
       "    </tr>\n",
       "    <tr>\n",
       "      <td>738242</td>\n",
       "      <td>50.0</td>\n",
       "      <td>-87.715494</td>\n",
       "      <td>41.995376</td>\n",
       "    </tr>\n",
       "    <tr>\n",
       "      <td>79139</td>\n",
       "      <td>50.0</td>\n",
       "      <td>-87.689854</td>\n",
       "      <td>41.996830</td>\n",
       "    </tr>\n",
       "  </tbody>\n",
       "</table>\n",
       "<p>1456700 rows × 3 columns</p>\n",
       "</div>"
      ],
      "text/plain": [
       "         Ward  Longitude   Latitude\n",
       "261588    1.0 -87.679551  41.932269\n",
       "1303199   1.0 -87.679482  41.932269\n",
       "162406    1.0 -87.688426  41.909347\n",
       "717827    1.0 -87.686410  41.910335\n",
       "717896    1.0 -87.674927  41.908752\n",
       "...       ...        ...        ...\n",
       "686683   50.0 -87.686166  41.996266\n",
       "1413347  50.0 -87.695121  42.000485\n",
       "1072986  50.0 -87.698650  42.009387\n",
       "738242   50.0 -87.715494  41.995376\n",
       "79139    50.0 -87.689854  41.996830\n",
       "\n",
       "[1456700 rows x 3 columns]"
      ]
     },
     "execution_count": 172,
     "metadata": {},
     "output_type": "execute_result"
    }
   ],
   "source": [
    "features = [\"Ward\", \"Longitude\", \"Latitude\"]\n",
    "df[features].sort_values(by='Ward')\n"
   ]
  },
  {
   "cell_type": "markdown",
   "metadata": {},
   "source": [
    "1) Analyze only crime without reference to location"
   ]
  },
  {
   "cell_type": "code",
   "execution_count": 173,
   "metadata": {},
   "outputs": [],
   "source": [
    "df2 = df.copy()"
   ]
  },
  {
   "cell_type": "code",
   "execution_count": 174,
   "metadata": {},
   "outputs": [],
   "source": [
    "df2.drop(['Unnamed: 0', 'Case Number', 'IUCR','Updated On','Year', 'FBI Code', 'Beat','Ward','Community Area', 'Location'], \n",
    "         inplace=True, axis=1)\n"
   ]
  },
  {
   "cell_type": "code",
   "execution_count": 175,
   "metadata": {},
   "outputs": [
    {
     "data": {
      "text/html": [
       "<div>\n",
       "<style scoped>\n",
       "    .dataframe tbody tr th:only-of-type {\n",
       "        vertical-align: middle;\n",
       "    }\n",
       "\n",
       "    .dataframe tbody tr th {\n",
       "        vertical-align: top;\n",
       "    }\n",
       "\n",
       "    .dataframe thead th {\n",
       "        text-align: right;\n",
       "    }\n",
       "</style>\n",
       "<table border=\"1\" class=\"dataframe\">\n",
       "  <thead>\n",
       "    <tr style=\"text-align: right;\">\n",
       "      <th></th>\n",
       "      <th>ID</th>\n",
       "      <th>Date</th>\n",
       "      <th>Block</th>\n",
       "      <th>Primary Type</th>\n",
       "      <th>Description</th>\n",
       "      <th>Location Description</th>\n",
       "      <th>Arrest</th>\n",
       "      <th>Domestic</th>\n",
       "      <th>District</th>\n",
       "      <th>X Coordinate</th>\n",
       "      <th>Y Coordinate</th>\n",
       "      <th>Latitude</th>\n",
       "      <th>Longitude</th>\n",
       "    </tr>\n",
       "  </thead>\n",
       "  <tbody>\n",
       "    <tr>\n",
       "      <td>0</td>\n",
       "      <td>10508693</td>\n",
       "      <td>05/03/2016 11:40:00 PM</td>\n",
       "      <td>013XX S SAWYER AVE</td>\n",
       "      <td>BATTERY</td>\n",
       "      <td>DOMESTIC BATTERY SIMPLE</td>\n",
       "      <td>APARTMENT</td>\n",
       "      <td>True</td>\n",
       "      <td>True</td>\n",
       "      <td>10.0</td>\n",
       "      <td>1154907.0</td>\n",
       "      <td>1893681.0</td>\n",
       "      <td>41.864073</td>\n",
       "      <td>-87.706819</td>\n",
       "    </tr>\n",
       "    <tr>\n",
       "      <td>1</td>\n",
       "      <td>10508695</td>\n",
       "      <td>05/03/2016 09:40:00 PM</td>\n",
       "      <td>061XX S DREXEL AVE</td>\n",
       "      <td>BATTERY</td>\n",
       "      <td>DOMESTIC BATTERY SIMPLE</td>\n",
       "      <td>RESIDENCE</td>\n",
       "      <td>False</td>\n",
       "      <td>True</td>\n",
       "      <td>3.0</td>\n",
       "      <td>1183066.0</td>\n",
       "      <td>1864330.0</td>\n",
       "      <td>41.782922</td>\n",
       "      <td>-87.604363</td>\n",
       "    </tr>\n",
       "  </tbody>\n",
       "</table>\n",
       "</div>"
      ],
      "text/plain": [
       "         ID                    Date               Block Primary Type  \\\n",
       "0  10508693  05/03/2016 11:40:00 PM  013XX S SAWYER AVE      BATTERY   \n",
       "1  10508695  05/03/2016 09:40:00 PM  061XX S DREXEL AVE      BATTERY   \n",
       "\n",
       "               Description Location Description  Arrest  Domestic  District  \\\n",
       "0  DOMESTIC BATTERY SIMPLE            APARTMENT    True      True      10.0   \n",
       "1  DOMESTIC BATTERY SIMPLE            RESIDENCE   False      True       3.0   \n",
       "\n",
       "   X Coordinate  Y Coordinate   Latitude  Longitude  \n",
       "0     1154907.0     1893681.0  41.864073 -87.706819  \n",
       "1     1183066.0     1864330.0  41.782922 -87.604363  "
      ]
     },
     "execution_count": 175,
     "metadata": {},
     "output_type": "execute_result"
    }
   ],
   "source": [
    "df2.head(2)"
   ]
  },
  {
   "cell_type": "code",
   "execution_count": 176,
   "metadata": {},
   "outputs": [],
   "source": [
    "# convert dates to pandas datetime format\n",
    "df2.Date = pd.to_datetime(df2.Date, format='%m/%d/%Y %I:%M:%S %p')\n",
    "# setting the index to be the date will help us a lot later on\n",
    "df2.index = pd.DatetimeIndex(df2.Date)"
   ]
  },
  {
   "cell_type": "code",
   "execution_count": 177,
   "metadata": {},
   "outputs": [
    {
     "data": {
      "text/plain": [
       "(1456700, 13)"
      ]
     },
     "execution_count": 177,
     "metadata": {},
     "output_type": "execute_result"
    }
   ],
   "source": [
    "df2.shape"
   ]
  },
  {
   "cell_type": "code",
   "execution_count": 178,
   "metadata": {
    "scrolled": true
   },
   "outputs": [
    {
     "name": "stdout",
     "output_type": "stream",
     "text": [
      "<class 'pandas.core.frame.DataFrame'>\n",
      "DatetimeIndex: 1456700 entries, 2016-05-03 23:40:00 to 2016-05-03 23:38:00\n",
      "Data columns (total 13 columns):\n",
      "ID                      1456700 non-null int64\n",
      "Date                    1456700 non-null datetime64[ns]\n",
      "Block                   1456700 non-null object\n",
      "Primary Type            1456700 non-null object\n",
      "Description             1456700 non-null object\n",
      "Location Description    1456682 non-null object\n",
      "Arrest                  1456700 non-null bool\n",
      "Domestic                1456700 non-null bool\n",
      "District                1456700 non-null float64\n",
      "X Coordinate            1419617 non-null float64\n",
      "Y Coordinate            1419617 non-null float64\n",
      "Latitude                1456700 non-null float64\n",
      "Longitude               1456700 non-null float64\n",
      "dtypes: bool(2), datetime64[ns](1), float64(5), int64(1), object(4)\n",
      "memory usage: 136.1+ MB\n"
     ]
    }
   ],
   "source": [
    "df2.info()"
   ]
  },
  {
   "cell_type": "markdown",
   "metadata": {},
   "source": [
    "As 'Location Description', 'Description' and 'Primary Type' columns are actually categorical columns (or factors in R), we will only keep the most frequent categories and then cast them to a categorical type."
   ]
  },
  {
   "cell_type": "code",
   "execution_count": 179,
   "metadata": {},
   "outputs": [],
   "source": [
    "loc_to_change  = list(df2['Location Description'].value_counts()[20:].index)\n",
    "desc_to_change = list(df2['Description'].value_counts()[20:].index)\n",
    "\n",
    "df2.loc[df2['Location Description'].isin(loc_to_change) , df2.columns=='Location Description'] = 'OTHER'\n",
    "df2.loc[df2['Description'].isin(desc_to_change) , df2.columns=='Description'] = 'OTHER'"
   ]
  },
  {
   "cell_type": "code",
   "execution_count": 180,
   "metadata": {},
   "outputs": [],
   "source": [
    "# we convert those 3 columns into 'Categorical' types -- works like 'factor' in R\n",
    "df2['Primary Type']         = pd.Categorical(df2['Primary Type'])\n",
    "df2['Location Description'] = pd.Categorical(df2['Location Description'])\n",
    "df2['Description']          = pd.Categorical(df2['Description'])"
   ]
  },
  {
   "cell_type": "code",
   "execution_count": 181,
   "metadata": {},
   "outputs": [
    {
     "data": {
      "text/plain": [
       "Timestamp('2012-01-01 00:00:00')"
      ]
     },
     "execution_count": 181,
     "metadata": {},
     "output_type": "execute_result"
    }
   ],
   "source": [
    "df2['Date'].min()"
   ]
  },
  {
   "cell_type": "code",
   "execution_count": 182,
   "metadata": {
    "scrolled": true
   },
   "outputs": [
    {
     "data": {
      "text/plain": [
       "Timestamp('2017-01-18 23:49:00')"
      ]
     },
     "execution_count": 182,
     "metadata": {},
     "output_type": "execute_result"
    }
   ],
   "source": [
    "df2['Date'].max()"
   ]
  },
  {
   "cell_type": "code",
   "execution_count": 183,
   "metadata": {},
   "outputs": [
    {
     "data": {
      "image/png": "[encoded data removed]",
      "text/plain": [
       "<Figure size 792x360 with 1 Axes>"
      ]
     },
     "metadata": {
      "needs_background": "light"
     },
     "output_type": "display_data"
    }
   ],
   "source": [
    "plt.figure(figsize=(11,5))\n",
    "df2.resample('M').size().plot(legend=False)\n",
    "plt.title('Number of crimes per month (2012 - 2017)')\n",
    "plt.xlabel('Months')\n",
    "plt.ylabel('Number of crimes')\n",
    "plt.show()"
   ]
  },
  {
   "cell_type": "code",
   "execution_count": 184,
   "metadata": {},
   "outputs": [
    {
     "data": {
      "image/png": "[encoded data removed]",
      "text/plain": [
       "<Figure size 792x288 with 1 Axes>"
      ]
     },
     "metadata": {
      "needs_background": "light"
     },
     "output_type": "display_data"
    }
   ],
   "source": [
    "plt.figure(figsize=(11,4))\n",
    "df2.resample('D').size().rolling(365).sum().plot()\n",
    "plt.title('Rolling sum of all crimes from 2005 - 2016')\n",
    "plt.ylabel('Number of crimes')\n",
    "plt.xlabel('Days')\n",
    "plt.show()"
   ]
  },
  {
   "cell_type": "code",
   "execution_count": 187,
   "metadata": {},
   "outputs": [
    {
     "data": {
      "image/png": "[encoded data removed]",
      "text/plain": [
       "<Figure size 1080x1080 with 1 Axes>"
      ]
     },
     "metadata": {
      "needs_background": "light"
     },
     "output_type": "display_data"
    }
   ],
   "source": [
    "from sklearn import preprocessing\n",
    "viridis = cm.get_cmap('viridis')\n",
    "\n",
    "le = preprocessing.LabelEncoder()\n",
    "\n",
    "test  = pd.DataFrame()\n",
    "test['day'] = df2.index.dayofweek\n",
    "test['type'] = df2['Primary Type'].values\n",
    "\n",
    "le.fit(test['type'])\n",
    "test['type'] = le.transform(test['type'])\n",
    "\n",
    "features = ['day','type']\n",
    "temp = (test).groupby(features).aggregate({\"type\":['count']})\n",
    "temp = temp.reset_index()\n",
    "\n",
    "\n",
    "temp.columns = ['day', 'type','count']\n",
    "\n",
    "ax = pd.pivot_table(temp, index = 'day', columns = 'type', values = 'count') \\\n",
    ".plot(kind = 'bar',stacked = True, figsize = (15,15), cmap = viridis)\n",
    "ax.set_ylabel(\"# of crimes\")\n",
    "ax.figure.savefig('CrimesPerDay.png')"
   ]
  },
  {
   "cell_type": "code",
   "execution_count": 188,
   "metadata": {},
   "outputs": [
    {
     "data": {
      "text/html": [
       "<div>\n",
       "<style scoped>\n",
       "    .dataframe tbody tr th:only-of-type {\n",
       "        vertical-align: middle;\n",
       "    }\n",
       "\n",
       "    .dataframe tbody tr th {\n",
       "        vertical-align: top;\n",
       "    }\n",
       "\n",
       "    .dataframe thead tr th {\n",
       "        text-align: left;\n",
       "    }\n",
       "\n",
       "    .dataframe thead tr:last-of-type th {\n",
       "        text-align: right;\n",
       "    }\n",
       "</style>\n",
       "<table border=\"1\" class=\"dataframe\">\n",
       "  <thead>\n",
       "    <tr>\n",
       "      <th></th>\n",
       "      <th></th>\n",
       "      <th>type</th>\n",
       "    </tr>\n",
       "    <tr>\n",
       "      <th></th>\n",
       "      <th></th>\n",
       "      <th>count</th>\n",
       "    </tr>\n",
       "    <tr>\n",
       "      <th>day</th>\n",
       "      <th>type</th>\n",
       "      <th></th>\n",
       "    </tr>\n",
       "  </thead>\n",
       "  <tbody>\n",
       "    <tr>\n",
       "      <td rowspan=\"5\" valign=\"top\">0</td>\n",
       "      <td>ARSON</td>\n",
       "      <td>324</td>\n",
       "    </tr>\n",
       "    <tr>\n",
       "      <td>ASSAULT</td>\n",
       "      <td>13184</td>\n",
       "    </tr>\n",
       "    <tr>\n",
       "      <td>BATTERY</td>\n",
       "      <td>35765</td>\n",
       "    </tr>\n",
       "    <tr>\n",
       "      <td>BURGLARY</td>\n",
       "      <td>12733</td>\n",
       "    </tr>\n",
       "    <tr>\n",
       "      <td>CONCEALED CARRY LICENSE VIOLATION</td>\n",
       "      <td>20</td>\n",
       "    </tr>\n",
       "    <tr>\n",
       "      <td>...</td>\n",
       "      <td>...</td>\n",
       "      <td>...</td>\n",
       "    </tr>\n",
       "    <tr>\n",
       "      <td rowspan=\"5\" valign=\"top\">6</td>\n",
       "      <td>ROBBERY</td>\n",
       "      <td>8054</td>\n",
       "    </tr>\n",
       "    <tr>\n",
       "      <td>SEX OFFENSE</td>\n",
       "      <td>678</td>\n",
       "    </tr>\n",
       "    <tr>\n",
       "      <td>STALKING</td>\n",
       "      <td>101</td>\n",
       "    </tr>\n",
       "    <tr>\n",
       "      <td>THEFT</td>\n",
       "      <td>42409</td>\n",
       "    </tr>\n",
       "    <tr>\n",
       "      <td>WEAPONS VIOLATION</td>\n",
       "      <td>2383</td>\n",
       "    </tr>\n",
       "  </tbody>\n",
       "</table>\n",
       "<p>227 rows × 1 columns</p>\n",
       "</div>"
      ],
      "text/plain": [
       "                                        type\n",
       "                                       count\n",
       "day type                                    \n",
       "0   ARSON                                324\n",
       "    ASSAULT                            13184\n",
       "    BATTERY                            35765\n",
       "    BURGLARY                           12733\n",
       "    CONCEALED CARRY LICENSE VIOLATION     20\n",
       "...                                      ...\n",
       "6   ROBBERY                             8054\n",
       "    SEX OFFENSE                          678\n",
       "    STALKING                             101\n",
       "    THEFT                              42409\n",
       "    WEAPONS VIOLATION                   2383\n",
       "\n",
       "[227 rows x 1 columns]"
      ]
     },
     "execution_count": 188,
     "metadata": {},
     "output_type": "execute_result"
    }
   ],
   "source": [
    "test  = pd.DataFrame()\n",
    "test['day'] = df2.index.dayofweek\n",
    "test['type'] = df2['Primary Type'].values\n",
    "\n",
    "features = ['day','type']\n",
    "temp = (test).groupby(features).aggregate({\"type\":['count']})\n",
    "temp"
   ]
  },
  {
   "cell_type": "code",
   "execution_count": 189,
   "metadata": {},
   "outputs": [
    {
     "data": {
      "text/plain": [
       "[BATTERY, BATTERY, PUBLIC PEACE VIOLATION, BATTERY, THEFT, ..., BATTERY, CRIMINAL DAMAGE, BATTERY, BATTERY, OTHER OFFENSE]\n",
       "Length: 1456700\n",
       "Categories (33, object): [ARSON, ASSAULT, BATTERY, BURGLARY, ..., SEX OFFENSE, STALKING, THEFT, WEAPONS VIOLATION]"
      ]
     },
     "execution_count": 189,
     "metadata": {},
     "output_type": "execute_result"
    }
   ],
   "source": [
    "df2['Primary Type'].values"
   ]
  },
  {
   "cell_type": "code",
   "execution_count": 191,
   "metadata": {},
   "outputs": [
    {
     "data": {
      "image/png": "[encoded data removed]",
      "text/plain": [
       "<Figure size 1080x1080 with 1 Axes>"
      ]
     },
     "metadata": {
      "needs_background": "light"
     },
     "output_type": "display_data"
    }
   ],
   "source": [
    "test  = pd.DataFrame()\n",
    "test['month'] = df2.index.month\n",
    "test['type'] = df2['Primary Type'].values\n",
    "\n",
    "le.fit(test['type'])\n",
    "test['type'] = le.transform(test['type'])\n",
    "\n",
    "features = ['month','type']\n",
    "temp = (test).groupby(features).aggregate({\"type\":['count']})\n",
    "temp = temp.reset_index()\n",
    "\n",
    "\n",
    "temp.columns = ['month', 'type','count']\n",
    "\n",
    "temp = temp[temp['count'] > 1000]\n",
    "\n",
    "ax = pd.pivot_table(temp, index = 'month', columns = 'type', values = 'count') \\\n",
    ".plot(kind = 'bar',stacked = True, figsize = (15,15), cmap = viridis)\n",
    "ax.set_ylabel(\"# of crimes\")\n",
    "ax.figure.savefig('CrimesPerMonth.png')"
   ]
  },
  {
   "cell_type": "code",
   "execution_count": 192,
   "metadata": {},
   "outputs": [
    {
     "data": {
      "image/png": "[encoded data removed]",
      "text/plain": [
       "<Figure size 576x720 with 1 Axes>"
      ]
     },
     "metadata": {
      "needs_background": "light"
     },
     "output_type": "display_data"
    }
   ],
   "source": [
    "plt.figure(figsize=(8,10))\n",
    "df2.groupby([df2['Primary Type']]).size().sort_values(ascending=True).plot(kind='barh')\n",
    "plt.title('Number of crimes by type')\n",
    "plt.ylabel('Crime Type')\n",
    "plt.xlabel('Number of crimes')\n",
    "plt.show()"
   ]
  },
  {
   "cell_type": "code",
   "execution_count": 193,
   "metadata": {},
   "outputs": [
    {
     "data": {
      "image/png": "[encoded data removed]",
      "text/plain": [
       "<Figure size 576x720 with 1 Axes>"
      ]
     },
     "metadata": {
      "needs_background": "light"
     },
     "output_type": "display_data"
    }
   ],
   "source": [
    "plt.figure(figsize=(8,10))\n",
    "df2.groupby([df2['Location Description']]).size().sort_values(ascending=True).plot(kind='barh')\n",
    "plt.title('Number of crimes by Location')\n",
    "plt.ylabel('Crime Location')\n",
    "plt.xlabel('Number of crimes')\n",
    "plt.show()"
   ]
  },
  {
   "cell_type": "markdown",
   "metadata": {},
   "source": [
    "Study the following relations: \n",
    "- Distance from city center and type/quantity of crime\n",
    "- "
   ]
  },
  {
   "cell_type": "code",
   "execution_count": 194,
   "metadata": {},
   "outputs": [
    {
     "data": {
      "text/html": [
       "<div>\n",
       "<style scoped>\n",
       "    .dataframe tbody tr th:only-of-type {\n",
       "        vertical-align: middle;\n",
       "    }\n",
       "\n",
       "    .dataframe tbody tr th {\n",
       "        vertical-align: top;\n",
       "    }\n",
       "\n",
       "    .dataframe thead th {\n",
       "        text-align: right;\n",
       "    }\n",
       "</style>\n",
       "<table border=\"1\" class=\"dataframe\">\n",
       "  <thead>\n",
       "    <tr style=\"text-align: right;\">\n",
       "      <th></th>\n",
       "      <th>Unnamed: 0</th>\n",
       "      <th>ID</th>\n",
       "      <th>Arrest</th>\n",
       "      <th>Domestic</th>\n",
       "      <th>Beat</th>\n",
       "      <th>District</th>\n",
       "      <th>Ward</th>\n",
       "      <th>Community Area</th>\n",
       "      <th>X Coordinate</th>\n",
       "      <th>Y Coordinate</th>\n",
       "      <th>Year</th>\n",
       "      <th>Latitude</th>\n",
       "      <th>Longitude</th>\n",
       "    </tr>\n",
       "  </thead>\n",
       "  <tbody>\n",
       "    <tr>\n",
       "      <td>Unnamed: 0</td>\n",
       "      <td>1.000000</td>\n",
       "      <td>0.523202</td>\n",
       "      <td>-0.064176</td>\n",
       "      <td>0.004891</td>\n",
       "      <td>-0.003006</td>\n",
       "      <td>-0.001213</td>\n",
       "      <td>0.004971</td>\n",
       "      <td>-0.009290</td>\n",
       "      <td>0.002432</td>\n",
       "      <td>0.008668</td>\n",
       "      <td>0.597970</td>\n",
       "      <td>0.009668</td>\n",
       "      <td>0.000691</td>\n",
       "    </tr>\n",
       "    <tr>\n",
       "      <td>ID</td>\n",
       "      <td>0.523202</td>\n",
       "      <td>1.000000</td>\n",
       "      <td>-0.059896</td>\n",
       "      <td>0.017203</td>\n",
       "      <td>-0.003356</td>\n",
       "      <td>0.000165</td>\n",
       "      <td>0.008312</td>\n",
       "      <td>-0.014964</td>\n",
       "      <td>-0.000477</td>\n",
       "      <td>0.013891</td>\n",
       "      <td>0.836609</td>\n",
       "      <td>0.014663</td>\n",
       "      <td>-0.000862</td>\n",
       "    </tr>\n",
       "    <tr>\n",
       "      <td>Arrest</td>\n",
       "      <td>-0.064176</td>\n",
       "      <td>-0.059896</td>\n",
       "      <td>1.000000</td>\n",
       "      <td>-0.062657</td>\n",
       "      <td>-0.022106</td>\n",
       "      <td>-0.021944</td>\n",
       "      <td>-0.010856</td>\n",
       "      <td>0.017212</td>\n",
       "      <td>-0.030289</td>\n",
       "      <td>-0.019733</td>\n",
       "      <td>-0.056723</td>\n",
       "      <td>-0.019655</td>\n",
       "      <td>-0.032327</td>\n",
       "    </tr>\n",
       "    <tr>\n",
       "      <td>Domestic</td>\n",
       "      <td>0.004891</td>\n",
       "      <td>0.017203</td>\n",
       "      <td>-0.062657</td>\n",
       "      <td>1.000000</td>\n",
       "      <td>-0.046540</td>\n",
       "      <td>-0.046316</td>\n",
       "      <td>-0.065121</td>\n",
       "      <td>0.075593</td>\n",
       "      <td>0.012224</td>\n",
       "      <td>-0.078539</td>\n",
       "      <td>0.017894</td>\n",
       "      <td>-0.078752</td>\n",
       "      <td>0.012041</td>\n",
       "    </tr>\n",
       "    <tr>\n",
       "      <td>Beat</td>\n",
       "      <td>-0.003006</td>\n",
       "      <td>-0.003356</td>\n",
       "      <td>-0.022106</td>\n",
       "      <td>-0.046540</td>\n",
       "      <td>1.000000</td>\n",
       "      <td>0.997372</td>\n",
       "      <td>0.683299</td>\n",
       "      <td>-0.493862</td>\n",
       "      <td>-0.492189</td>\n",
       "      <td>0.585497</td>\n",
       "      <td>-0.008149</td>\n",
       "      <td>0.586491</td>\n",
       "      <td>-0.494017</td>\n",
       "    </tr>\n",
       "    <tr>\n",
       "      <td>District</td>\n",
       "      <td>-0.001213</td>\n",
       "      <td>0.000165</td>\n",
       "      <td>-0.021944</td>\n",
       "      <td>-0.046316</td>\n",
       "      <td>0.997372</td>\n",
       "      <td>1.000000</td>\n",
       "      <td>0.686929</td>\n",
       "      <td>-0.494083</td>\n",
       "      <td>-0.495039</td>\n",
       "      <td>0.586399</td>\n",
       "      <td>-0.004745</td>\n",
       "      <td>0.587394</td>\n",
       "      <td>-0.496830</td>\n",
       "    </tr>\n",
       "    <tr>\n",
       "      <td>Ward</td>\n",
       "      <td>0.004971</td>\n",
       "      <td>0.008312</td>\n",
       "      <td>-0.010856</td>\n",
       "      <td>-0.065121</td>\n",
       "      <td>0.683299</td>\n",
       "      <td>0.686929</td>\n",
       "      <td>1.000000</td>\n",
       "      <td>-0.542102</td>\n",
       "      <td>-0.405977</td>\n",
       "      <td>0.605661</td>\n",
       "      <td>0.003531</td>\n",
       "      <td>0.606630</td>\n",
       "      <td>-0.406476</td>\n",
       "    </tr>\n",
       "    <tr>\n",
       "      <td>Community Area</td>\n",
       "      <td>-0.009290</td>\n",
       "      <td>-0.014964</td>\n",
       "      <td>0.017212</td>\n",
       "      <td>0.075593</td>\n",
       "      <td>-0.493862</td>\n",
       "      <td>-0.494083</td>\n",
       "      <td>-0.542102</td>\n",
       "      <td>1.000000</td>\n",
       "      <td>0.230793</td>\n",
       "      <td>-0.711885</td>\n",
       "      <td>-0.009243</td>\n",
       "      <td>-0.710901</td>\n",
       "      <td>0.224842</td>\n",
       "    </tr>\n",
       "    <tr>\n",
       "      <td>X Coordinate</td>\n",
       "      <td>0.002432</td>\n",
       "      <td>-0.000477</td>\n",
       "      <td>-0.030289</td>\n",
       "      <td>0.012224</td>\n",
       "      <td>-0.492189</td>\n",
       "      <td>-0.495039</td>\n",
       "      <td>-0.405977</td>\n",
       "      <td>0.230793</td>\n",
       "      <td>1.000000</td>\n",
       "      <td>-0.267890</td>\n",
       "      <td>-0.000061</td>\n",
       "      <td>-0.268454</td>\n",
       "      <td>0.999698</td>\n",
       "    </tr>\n",
       "    <tr>\n",
       "      <td>Y Coordinate</td>\n",
       "      <td>0.008668</td>\n",
       "      <td>0.013891</td>\n",
       "      <td>-0.019733</td>\n",
       "      <td>-0.078539</td>\n",
       "      <td>0.585497</td>\n",
       "      <td>0.586399</td>\n",
       "      <td>0.605661</td>\n",
       "      <td>-0.711885</td>\n",
       "      <td>-0.267890</td>\n",
       "      <td>1.000000</td>\n",
       "      <td>0.008111</td>\n",
       "      <td>0.999992</td>\n",
       "      <td>-0.272461</td>\n",
       "    </tr>\n",
       "    <tr>\n",
       "      <td>Year</td>\n",
       "      <td>0.597970</td>\n",
       "      <td>0.836609</td>\n",
       "      <td>-0.056723</td>\n",
       "      <td>0.017894</td>\n",
       "      <td>-0.008149</td>\n",
       "      <td>-0.004745</td>\n",
       "      <td>0.003531</td>\n",
       "      <td>-0.009243</td>\n",
       "      <td>-0.000061</td>\n",
       "      <td>0.008111</td>\n",
       "      <td>1.000000</td>\n",
       "      <td>0.009140</td>\n",
       "      <td>-0.000522</td>\n",
       "    </tr>\n",
       "    <tr>\n",
       "      <td>Latitude</td>\n",
       "      <td>0.009668</td>\n",
       "      <td>0.014663</td>\n",
       "      <td>-0.019655</td>\n",
       "      <td>-0.078752</td>\n",
       "      <td>0.586491</td>\n",
       "      <td>0.587394</td>\n",
       "      <td>0.606630</td>\n",
       "      <td>-0.710901</td>\n",
       "      <td>-0.268454</td>\n",
       "      <td>0.999992</td>\n",
       "      <td>0.009140</td>\n",
       "      <td>1.000000</td>\n",
       "      <td>-0.279479</td>\n",
       "    </tr>\n",
       "    <tr>\n",
       "      <td>Longitude</td>\n",
       "      <td>0.000691</td>\n",
       "      <td>-0.000862</td>\n",
       "      <td>-0.032327</td>\n",
       "      <td>0.012041</td>\n",
       "      <td>-0.494017</td>\n",
       "      <td>-0.496830</td>\n",
       "      <td>-0.406476</td>\n",
       "      <td>0.224842</td>\n",
       "      <td>0.999698</td>\n",
       "      <td>-0.272461</td>\n",
       "      <td>-0.000522</td>\n",
       "      <td>-0.279479</td>\n",
       "      <td>1.000000</td>\n",
       "    </tr>\n",
       "  </tbody>\n",
       "</table>\n",
       "</div>"
      ],
      "text/plain": [
       "                Unnamed: 0        ID    Arrest  Domestic      Beat  District  \\\n",
       "Unnamed: 0        1.000000  0.523202 -0.064176  0.004891 -0.003006 -0.001213   \n",
       "ID                0.523202  1.000000 -0.059896  0.017203 -0.003356  0.000165   \n",
       "Arrest           -0.064176 -0.059896  1.000000 -0.062657 -0.022106 -0.021944   \n",
       "Domestic          0.004891  0.017203 -0.062657  1.000000 -0.046540 -0.046316   \n",
       "Beat             -0.003006 -0.003356 -0.022106 -0.046540  1.000000  0.997372   \n",
       "District         -0.001213  0.000165 -0.021944 -0.046316  0.997372  1.000000   \n",
       "Ward              0.004971  0.008312 -0.010856 -0.065121  0.683299  0.686929   \n",
       "Community Area   -0.009290 -0.014964  0.017212  0.075593 -0.493862 -0.494083   \n",
       "X Coordinate      0.002432 -0.000477 -0.030289  0.012224 -0.492189 -0.495039   \n",
       "Y Coordinate      0.008668  0.013891 -0.019733 -0.078539  0.585497  0.586399   \n",
       "Year              0.597970  0.836609 -0.056723  0.017894 -0.008149 -0.004745   \n",
       "Latitude          0.009668  0.014663 -0.019655 -0.078752  0.586491  0.587394   \n",
       "Longitude         0.000691 -0.000862 -0.032327  0.012041 -0.494017 -0.496830   \n",
       "\n",
       "                    Ward  Community Area  X Coordinate  Y Coordinate  \\\n",
       "Unnamed: 0      0.004971       -0.009290      0.002432      0.008668   \n",
       "ID              0.008312       -0.014964     -0.000477      0.013891   \n",
       "Arrest         -0.010856        0.017212     -0.030289     -0.019733   \n",
       "Domestic       -0.065121        0.075593      0.012224     -0.078539   \n",
       "Beat            0.683299       -0.493862     -0.492189      0.585497   \n",
       "District        0.686929       -0.494083     -0.495039      0.586399   \n",
       "Ward            1.000000       -0.542102     -0.405977      0.605661   \n",
       "Community Area -0.542102        1.000000      0.230793     -0.711885   \n",
       "X Coordinate   -0.405977        0.230793      1.000000     -0.267890   \n",
       "Y Coordinate    0.605661       -0.711885     -0.267890      1.000000   \n",
       "Year            0.003531       -0.009243     -0.000061      0.008111   \n",
       "Latitude        0.606630       -0.710901     -0.268454      0.999992   \n",
       "Longitude      -0.406476        0.224842      0.999698     -0.272461   \n",
       "\n",
       "                    Year  Latitude  Longitude  \n",
       "Unnamed: 0      0.597970  0.009668   0.000691  \n",
       "ID              0.836609  0.014663  -0.000862  \n",
       "Arrest         -0.056723 -0.019655  -0.032327  \n",
       "Domestic        0.017894 -0.078752   0.012041  \n",
       "Beat           -0.008149  0.586491  -0.494017  \n",
       "District       -0.004745  0.587394  -0.496830  \n",
       "Ward            0.003531  0.606630  -0.406476  \n",
       "Community Area -0.009243 -0.710901   0.224842  \n",
       "X Coordinate   -0.000061 -0.268454   0.999698  \n",
       "Y Coordinate    0.008111  0.999992  -0.272461  \n",
       "Year            1.000000  0.009140  -0.000522  \n",
       "Latitude        0.009140  1.000000  -0.279479  \n",
       "Longitude      -0.000522 -0.279479   1.000000  "
      ]
     },
     "execution_count": 194,
     "metadata": {},
     "output_type": "execute_result"
    }
   ],
   "source": [
    "df.corr()"
   ]
  },
  {
   "cell_type": "code",
   "execution_count": 195,
   "metadata": {},
   "outputs": [
    {
     "data": {
      "text/html": [
       "<div>\n",
       "<style scoped>\n",
       "    .dataframe tbody tr th:only-of-type {\n",
       "        vertical-align: middle;\n",
       "    }\n",
       "\n",
       "    .dataframe tbody tr th {\n",
       "        vertical-align: top;\n",
       "    }\n",
       "\n",
       "    .dataframe thead th {\n",
       "        text-align: right;\n",
       "    }\n",
       "</style>\n",
       "<table border=\"1\" class=\"dataframe\">\n",
       "  <thead>\n",
       "    <tr style=\"text-align: right;\">\n",
       "      <th></th>\n",
       "      <th>Description</th>\n",
       "      <th>Location Description</th>\n",
       "      <th>Arrest</th>\n",
       "      <th>Domestic</th>\n",
       "      <th>Beat</th>\n",
       "      <th>District</th>\n",
       "      <th>Ward</th>\n",
       "      <th>Community Area</th>\n",
       "      <th>FBI Code</th>\n",
       "      <th>X Coordinate</th>\n",
       "      <th>Y Coordinate</th>\n",
       "      <th>Year</th>\n",
       "      <th>Updated On</th>\n",
       "      <th>Latitude</th>\n",
       "      <th>Longitude</th>\n",
       "      <th>Location</th>\n",
       "    </tr>\n",
       "  </thead>\n",
       "  <tbody>\n",
       "    <tr>\n",
       "      <td>0</td>\n",
       "      <td>DOMESTIC BATTERY SIMPLE</td>\n",
       "      <td>APARTMENT</td>\n",
       "      <td>True</td>\n",
       "      <td>True</td>\n",
       "      <td>1022</td>\n",
       "      <td>10.0</td>\n",
       "      <td>24.0</td>\n",
       "      <td>29.0</td>\n",
       "      <td>08B</td>\n",
       "      <td>1154907.0</td>\n",
       "      <td>1893681.0</td>\n",
       "      <td>2016</td>\n",
       "      <td>05/10/2016 03:56:50 PM</td>\n",
       "      <td>41.864073</td>\n",
       "      <td>-87.706819</td>\n",
       "      <td>(41.864073157, -87.706818608)</td>\n",
       "    </tr>\n",
       "    <tr>\n",
       "      <td>1</td>\n",
       "      <td>DOMESTIC BATTERY SIMPLE</td>\n",
       "      <td>RESIDENCE</td>\n",
       "      <td>False</td>\n",
       "      <td>True</td>\n",
       "      <td>313</td>\n",
       "      <td>3.0</td>\n",
       "      <td>20.0</td>\n",
       "      <td>42.0</td>\n",
       "      <td>08B</td>\n",
       "      <td>1183066.0</td>\n",
       "      <td>1864330.0</td>\n",
       "      <td>2016</td>\n",
       "      <td>05/10/2016 03:56:50 PM</td>\n",
       "      <td>41.782922</td>\n",
       "      <td>-87.604363</td>\n",
       "      <td>(41.782921527, -87.60436317)</td>\n",
       "    </tr>\n",
       "    <tr>\n",
       "      <td>2</td>\n",
       "      <td>RECKLESS CONDUCT</td>\n",
       "      <td>STREET</td>\n",
       "      <td>False</td>\n",
       "      <td>False</td>\n",
       "      <td>1524</td>\n",
       "      <td>15.0</td>\n",
       "      <td>37.0</td>\n",
       "      <td>25.0</td>\n",
       "      <td>24</td>\n",
       "      <td>1140789.0</td>\n",
       "      <td>1904819.0</td>\n",
       "      <td>2016</td>\n",
       "      <td>05/10/2016 03:56:50 PM</td>\n",
       "      <td>41.894908</td>\n",
       "      <td>-87.758372</td>\n",
       "      <td>(41.894908283, -87.758371958)</td>\n",
       "    </tr>\n",
       "    <tr>\n",
       "      <td>3</td>\n",
       "      <td>SIMPLE</td>\n",
       "      <td>SIDEWALK</td>\n",
       "      <td>False</td>\n",
       "      <td>False</td>\n",
       "      <td>1532</td>\n",
       "      <td>15.0</td>\n",
       "      <td>28.0</td>\n",
       "      <td>25.0</td>\n",
       "      <td>08B</td>\n",
       "      <td>1143223.0</td>\n",
       "      <td>1901475.0</td>\n",
       "      <td>2016</td>\n",
       "      <td>05/10/2016 03:56:50 PM</td>\n",
       "      <td>41.885687</td>\n",
       "      <td>-87.749516</td>\n",
       "      <td>(41.885686845, -87.749515983)</td>\n",
       "    </tr>\n",
       "    <tr>\n",
       "      <td>4</td>\n",
       "      <td>$500 AND UNDER</td>\n",
       "      <td>RESIDENCE</td>\n",
       "      <td>False</td>\n",
       "      <td>True</td>\n",
       "      <td>1523</td>\n",
       "      <td>15.0</td>\n",
       "      <td>28.0</td>\n",
       "      <td>25.0</td>\n",
       "      <td>06</td>\n",
       "      <td>1139890.0</td>\n",
       "      <td>1901675.0</td>\n",
       "      <td>2016</td>\n",
       "      <td>05/10/2016 03:56:50 PM</td>\n",
       "      <td>41.886297</td>\n",
       "      <td>-87.761751</td>\n",
       "      <td>(41.886297242, -87.761750709)</td>\n",
       "    </tr>\n",
       "    <tr>\n",
       "      <td>...</td>\n",
       "      <td>...</td>\n",
       "      <td>...</td>\n",
       "      <td>...</td>\n",
       "      <td>...</td>\n",
       "      <td>...</td>\n",
       "      <td>...</td>\n",
       "      <td>...</td>\n",
       "      <td>...</td>\n",
       "      <td>...</td>\n",
       "      <td>...</td>\n",
       "      <td>...</td>\n",
       "      <td>...</td>\n",
       "      <td>...</td>\n",
       "      <td>...</td>\n",
       "      <td>...</td>\n",
       "      <td>...</td>\n",
       "    </tr>\n",
       "    <tr>\n",
       "      <td>1456709</td>\n",
       "      <td>DOMESTIC BATTERY SIMPLE</td>\n",
       "      <td>APARTMENT</td>\n",
       "      <td>True</td>\n",
       "      <td>True</td>\n",
       "      <td>1034</td>\n",
       "      <td>10.0</td>\n",
       "      <td>28.0</td>\n",
       "      <td>30.0</td>\n",
       "      <td>08B</td>\n",
       "      <td>1159105.0</td>\n",
       "      <td>1888300.0</td>\n",
       "      <td>2016</td>\n",
       "      <td>05/10/2016 03:56:50 PM</td>\n",
       "      <td>41.849222</td>\n",
       "      <td>-87.691556</td>\n",
       "      <td>(41.849222028, -87.69155551)</td>\n",
       "    </tr>\n",
       "    <tr>\n",
       "      <td>1456710</td>\n",
       "      <td>TO PROPERTY</td>\n",
       "      <td>APARTMENT</td>\n",
       "      <td>True</td>\n",
       "      <td>True</td>\n",
       "      <td>731</td>\n",
       "      <td>7.0</td>\n",
       "      <td>17.0</td>\n",
       "      <td>69.0</td>\n",
       "      <td>14</td>\n",
       "      <td>1175230.0</td>\n",
       "      <td>1856183.0</td>\n",
       "      <td>2016</td>\n",
       "      <td>05/10/2016 03:56:50 PM</td>\n",
       "      <td>41.760744</td>\n",
       "      <td>-87.633335</td>\n",
       "      <td>(41.760743949, -87.63333531)</td>\n",
       "    </tr>\n",
       "    <tr>\n",
       "      <td>1456711</td>\n",
       "      <td>AGGRAVATED: HANDGUN</td>\n",
       "      <td>SIDEWALK</td>\n",
       "      <td>False</td>\n",
       "      <td>False</td>\n",
       "      <td>825</td>\n",
       "      <td>8.0</td>\n",
       "      <td>15.0</td>\n",
       "      <td>66.0</td>\n",
       "      <td>04B</td>\n",
       "      <td>1161027.0</td>\n",
       "      <td>1862810.0</td>\n",
       "      <td>2016</td>\n",
       "      <td>05/10/2016 03:56:50 PM</td>\n",
       "      <td>41.779235</td>\n",
       "      <td>-87.685207</td>\n",
       "      <td>(41.779234743, -87.685207125)</td>\n",
       "    </tr>\n",
       "    <tr>\n",
       "      <td>1456712</td>\n",
       "      <td>DOMESTIC BATTERY SIMPLE</td>\n",
       "      <td>SIDEWALK</td>\n",
       "      <td>False</td>\n",
       "      <td>True</td>\n",
       "      <td>423</td>\n",
       "      <td>4.0</td>\n",
       "      <td>7.0</td>\n",
       "      <td>46.0</td>\n",
       "      <td>08B</td>\n",
       "      <td>1197261.0</td>\n",
       "      <td>1850727.0</td>\n",
       "      <td>2016</td>\n",
       "      <td>05/10/2016 03:56:50 PM</td>\n",
       "      <td>41.745252</td>\n",
       "      <td>-87.552773</td>\n",
       "      <td>(41.745251975, -87.552773464)</td>\n",
       "    </tr>\n",
       "    <tr>\n",
       "      <td>1456713</td>\n",
       "      <td>OTHER WEAPONS VIOLATION</td>\n",
       "      <td>PARKING LOT/GARAGE(NON.RESID.)</td>\n",
       "      <td>True</td>\n",
       "      <td>False</td>\n",
       "      <td>323</td>\n",
       "      <td>3.0</td>\n",
       "      <td>6.0</td>\n",
       "      <td>69.0</td>\n",
       "      <td>26</td>\n",
       "      <td>1178696.0</td>\n",
       "      <td>1855324.0</td>\n",
       "      <td>2016</td>\n",
       "      <td>05/10/2016 03:56:50 PM</td>\n",
       "      <td>41.758309</td>\n",
       "      <td>-87.620658</td>\n",
       "      <td>(41.75830866, -87.620658418)</td>\n",
       "    </tr>\n",
       "  </tbody>\n",
       "</table>\n",
       "<p>1456700 rows × 16 columns</p>\n",
       "</div>"
      ],
      "text/plain": [
       "                     Description            Location Description  Arrest  \\\n",
       "0        DOMESTIC BATTERY SIMPLE                       APARTMENT    True   \n",
       "1        DOMESTIC BATTERY SIMPLE                       RESIDENCE   False   \n",
       "2               RECKLESS CONDUCT                          STREET   False   \n",
       "3                         SIMPLE                        SIDEWALK   False   \n",
       "4                 $500 AND UNDER                       RESIDENCE   False   \n",
       "...                          ...                             ...     ...   \n",
       "1456709  DOMESTIC BATTERY SIMPLE                       APARTMENT    True   \n",
       "1456710              TO PROPERTY                       APARTMENT    True   \n",
       "1456711      AGGRAVATED: HANDGUN                        SIDEWALK   False   \n",
       "1456712  DOMESTIC BATTERY SIMPLE                        SIDEWALK   False   \n",
       "1456713  OTHER WEAPONS VIOLATION  PARKING LOT/GARAGE(NON.RESID.)    True   \n",
       "\n",
       "         Domestic  Beat  District  Ward  Community Area FBI Code  \\\n",
       "0            True  1022      10.0  24.0            29.0      08B   \n",
       "1            True   313       3.0  20.0            42.0      08B   \n",
       "2           False  1524      15.0  37.0            25.0       24   \n",
       "3           False  1532      15.0  28.0            25.0      08B   \n",
       "4            True  1523      15.0  28.0            25.0       06   \n",
       "...           ...   ...       ...   ...             ...      ...   \n",
       "1456709      True  1034      10.0  28.0            30.0      08B   \n",
       "1456710      True   731       7.0  17.0            69.0       14   \n",
       "1456711     False   825       8.0  15.0            66.0      04B   \n",
       "1456712      True   423       4.0   7.0            46.0      08B   \n",
       "1456713     False   323       3.0   6.0            69.0       26   \n",
       "\n",
       "         X Coordinate  Y Coordinate  Year              Updated On   Latitude  \\\n",
       "0           1154907.0     1893681.0  2016  05/10/2016 03:56:50 PM  41.864073   \n",
       "1           1183066.0     1864330.0  2016  05/10/2016 03:56:50 PM  41.782922   \n",
       "2           1140789.0     1904819.0  2016  05/10/2016 03:56:50 PM  41.894908   \n",
       "3           1143223.0     1901475.0  2016  05/10/2016 03:56:50 PM  41.885687   \n",
       "4           1139890.0     1901675.0  2016  05/10/2016 03:56:50 PM  41.886297   \n",
       "...               ...           ...   ...                     ...        ...   \n",
       "1456709     1159105.0     1888300.0  2016  05/10/2016 03:56:50 PM  41.849222   \n",
       "1456710     1175230.0     1856183.0  2016  05/10/2016 03:56:50 PM  41.760744   \n",
       "1456711     1161027.0     1862810.0  2016  05/10/2016 03:56:50 PM  41.779235   \n",
       "1456712     1197261.0     1850727.0  2016  05/10/2016 03:56:50 PM  41.745252   \n",
       "1456713     1178696.0     1855324.0  2016  05/10/2016 03:56:50 PM  41.758309   \n",
       "\n",
       "         Longitude                       Location  \n",
       "0       -87.706819  (41.864073157, -87.706818608)  \n",
       "1       -87.604363   (41.782921527, -87.60436317)  \n",
       "2       -87.758372  (41.894908283, -87.758371958)  \n",
       "3       -87.749516  (41.885686845, -87.749515983)  \n",
       "4       -87.761751  (41.886297242, -87.761750709)  \n",
       "...            ...                            ...  \n",
       "1456709 -87.691556   (41.849222028, -87.69155551)  \n",
       "1456710 -87.633335   (41.760743949, -87.63333531)  \n",
       "1456711 -87.685207  (41.779234743, -87.685207125)  \n",
       "1456712 -87.552773  (41.745251975, -87.552773464)  \n",
       "1456713 -87.620658   (41.75830866, -87.620658418)  \n",
       "\n",
       "[1456700 rows x 16 columns]"
      ]
     },
     "execution_count": 195,
     "metadata": {},
     "output_type": "execute_result"
    }
   ],
   "source": [
    "feats = ['Description', 'Location Description', 'Arrest',\n",
    "       'Domestic', 'Beat', 'District', 'Ward', 'Community Area', 'FBI Code',\n",
    "       'X Coordinate', 'Y Coordinate', 'Year', 'Updated On', 'Latitude',\n",
    "       'Longitude', 'Location']\n",
    "\n",
    "df[feats]"
   ]
  },
  {
   "cell_type": "code",
   "execution_count": 196,
   "metadata": {},
   "outputs": [
    {
     "data": {
      "text/plain": [
       "Index(['Unnamed: 0', 'ID', 'Case Number', 'Date', 'Block', 'IUCR',\n",
       "       'Primary Type', 'Description', 'Location Description', 'Arrest',\n",
       "       'Domestic', 'Beat', 'District', 'Ward', 'Community Area', 'FBI Code',\n",
       "       'X Coordinate', 'Y Coordinate', 'Year', 'Updated On', 'Latitude',\n",
       "       'Longitude', 'Location'],\n",
       "      dtype='object')"
      ]
     },
     "execution_count": 196,
     "metadata": {},
     "output_type": "execute_result"
    }
   ],
   "source": [
    "df.columns"
   ]
  },
  {
   "cell_type": "code",
   "execution_count": 197,
   "metadata": {},
   "outputs": [],
   "source": [
    "# eda = ['Location Description', 'Beat', 'District', 'Ward', 'Community Area', 'FBI Code','Year', 'Primary Type']\n",
    "# df_eda = df[eda]\n",
    "# a = sns.pairplot(df_eda)\n",
    "# a.savefig(\"output.png\")"
   ]
  },
  {
   "cell_type": "code",
   "execution_count": 198,
   "metadata": {},
   "outputs": [
    {
     "data": {
      "text/plain": [
       "<matplotlib.axes._subplots.AxesSubplot at 0x288b3bb1bc8>"
      ]
     },
     "execution_count": 198,
     "metadata": {},
     "output_type": "execute_result"
    },
    {
     "data": {
      "image/png": "[encoded data removed]",
      "text/plain": [
       "<Figure size 1080x1080 with 2 Axes>"
      ]
     },
     "metadata": {
      "needs_background": "light"
     },
     "output_type": "display_data"
    }
   ],
   "source": [
    "eda = ['Location Description', 'Beat', 'District', 'Ward', 'Community Area', 'FBI Code','Year',\n",
    "       'Longitude','Latitude', 'Primary Type']\n",
    "df_eda = df[eda]\n",
    "cor = df_eda.corr()\n",
    "fig = plt.figure(figsize = (15,15))\n",
    "sns.heatmap(cor, annot = True, square = True, vmax = 1)"
   ]
  },
  {
   "cell_type": "markdown",
   "metadata": {},
   "source": [
    "## Random Forrest ##"
   ]
  },
  {
   "cell_type": "code",
   "execution_count": 199,
   "metadata": {},
   "outputs": [],
   "source": [
    "from sklearn import preprocessing\n",
    "from sklearn import utils\n",
    "from sklearn import metrics\n",
    "from sklearn.preprocessing import LabelEncoder\n",
    "LE = LabelEncoder()"
   ]
  },
  {
   "cell_type": "markdown",
   "metadata": {},
   "source": [
    "Don't need the following: \n",
    "\n",
    "Description - should overlap with FBI Code\n",
    "'X Coordinate', 'Y Coordinate' - Long Lat is already there \n",
    "location - same as X/Y\n",
    "'Updated On' - year the crime was commited on is recorded. Don't need updated year"
   ]
  },
  {
   "cell_type": "code",
   "execution_count": 200,
   "metadata": {},
   "outputs": [],
   "source": [
    "working_features = ['Location Description', 'Arrest','Domestic', 'Beat', 'District', 'Ward', 'Community Area', \n",
    "                    'FBI Code','Year','Longitude','Latitude']\n",
    "\n",
    "target = ['Primary Type']"
   ]
  },
  {
   "cell_type": "code",
   "execution_count": 201,
   "metadata": {},
   "outputs": [],
   "source": [
    "df = df.dropna()"
   ]
  },
  {
   "cell_type": "code",
   "execution_count": 202,
   "metadata": {},
   "outputs": [],
   "source": [
    "working_df = df[working_features].copy()"
   ]
  },
  {
   "cell_type": "code",
   "execution_count": 203,
   "metadata": {},
   "outputs": [
    {
     "data": {
      "text/html": [
       "<div>\n",
       "<style scoped>\n",
       "    .dataframe tbody tr th:only-of-type {\n",
       "        vertical-align: middle;\n",
       "    }\n",
       "\n",
       "    .dataframe tbody tr th {\n",
       "        vertical-align: top;\n",
       "    }\n",
       "\n",
       "    .dataframe thead th {\n",
       "        text-align: right;\n",
       "    }\n",
       "</style>\n",
       "<table border=\"1\" class=\"dataframe\">\n",
       "  <thead>\n",
       "    <tr style=\"text-align: right;\">\n",
       "      <th></th>\n",
       "      <th>loc_desc</th>\n",
       "      <th>Arrest</th>\n",
       "      <th>Domestic</th>\n",
       "      <th>Beat</th>\n",
       "      <th>District</th>\n",
       "      <th>Ward</th>\n",
       "      <th>area</th>\n",
       "      <th>FBI</th>\n",
       "      <th>Year</th>\n",
       "      <th>Longitude</th>\n",
       "      <th>Latitude</th>\n",
       "    </tr>\n",
       "  </thead>\n",
       "  <tbody>\n",
       "    <tr>\n",
       "      <td>0</td>\n",
       "      <td>APARTMENT</td>\n",
       "      <td>True</td>\n",
       "      <td>True</td>\n",
       "      <td>1022</td>\n",
       "      <td>10.0</td>\n",
       "      <td>24.0</td>\n",
       "      <td>29.0</td>\n",
       "      <td>08B</td>\n",
       "      <td>2016</td>\n",
       "      <td>-87.706819</td>\n",
       "      <td>41.864073</td>\n",
       "    </tr>\n",
       "    <tr>\n",
       "      <td>1</td>\n",
       "      <td>RESIDENCE</td>\n",
       "      <td>False</td>\n",
       "      <td>True</td>\n",
       "      <td>313</td>\n",
       "      <td>3.0</td>\n",
       "      <td>20.0</td>\n",
       "      <td>42.0</td>\n",
       "      <td>08B</td>\n",
       "      <td>2016</td>\n",
       "      <td>-87.604363</td>\n",
       "      <td>41.782922</td>\n",
       "    </tr>\n",
       "    <tr>\n",
       "      <td>2</td>\n",
       "      <td>STREET</td>\n",
       "      <td>False</td>\n",
       "      <td>False</td>\n",
       "      <td>1524</td>\n",
       "      <td>15.0</td>\n",
       "      <td>37.0</td>\n",
       "      <td>25.0</td>\n",
       "      <td>24</td>\n",
       "      <td>2016</td>\n",
       "      <td>-87.758372</td>\n",
       "      <td>41.894908</td>\n",
       "    </tr>\n",
       "    <tr>\n",
       "      <td>3</td>\n",
       "      <td>SIDEWALK</td>\n",
       "      <td>False</td>\n",
       "      <td>False</td>\n",
       "      <td>1532</td>\n",
       "      <td>15.0</td>\n",
       "      <td>28.0</td>\n",
       "      <td>25.0</td>\n",
       "      <td>08B</td>\n",
       "      <td>2016</td>\n",
       "      <td>-87.749516</td>\n",
       "      <td>41.885687</td>\n",
       "    </tr>\n",
       "    <tr>\n",
       "      <td>4</td>\n",
       "      <td>RESIDENCE</td>\n",
       "      <td>False</td>\n",
       "      <td>True</td>\n",
       "      <td>1523</td>\n",
       "      <td>15.0</td>\n",
       "      <td>28.0</td>\n",
       "      <td>25.0</td>\n",
       "      <td>06</td>\n",
       "      <td>2016</td>\n",
       "      <td>-87.761751</td>\n",
       "      <td>41.886297</td>\n",
       "    </tr>\n",
       "  </tbody>\n",
       "</table>\n",
       "</div>"
      ],
      "text/plain": [
       "    loc_desc  Arrest  Domestic  Beat  District  Ward  area  FBI  Year  \\\n",
       "0  APARTMENT    True      True  1022      10.0  24.0  29.0  08B  2016   \n",
       "1  RESIDENCE   False      True   313       3.0  20.0  42.0  08B  2016   \n",
       "2     STREET   False     False  1524      15.0  37.0  25.0   24  2016   \n",
       "3   SIDEWALK   False     False  1532      15.0  28.0  25.0  08B  2016   \n",
       "4  RESIDENCE   False      True  1523      15.0  28.0  25.0   06  2016   \n",
       "\n",
       "   Longitude   Latitude  \n",
       "0 -87.706819  41.864073  \n",
       "1 -87.604363  41.782922  \n",
       "2 -87.758372  41.894908  \n",
       "3 -87.749516  41.885687  \n",
       "4 -87.761751  41.886297  "
      ]
     },
     "execution_count": 203,
     "metadata": {},
     "output_type": "execute_result"
    }
   ],
   "source": [
    "working_df = working_df.rename(columns={\"Location Description\": \"loc_desc\", \"Community Area\": \"area\",'FBI Code':'FBI'})\n",
    "working_df.head()"
   ]
  },
  {
   "cell_type": "code",
   "execution_count": 204,
   "metadata": {},
   "outputs": [
    {
     "data": {
      "text/plain": [
       "array(['APARTMENT', 'RESIDENCE', 'STREET', 'SIDEWALK',\n",
       "       'CHA HALLWAY/STAIRWELL/ELEVATOR', 'RESIDENCE PORCH/HALLWAY',\n",
       "       'VEHICLE NON-COMMERCIAL', 'OTHER', 'RESIDENCE-GARAGE',\n",
       "       'VEHICLE-COMMERCIAL', 'PARKING LOT/GARAGE(NON.RESID.)',\n",
       "       'SCHOOL, PUBLIC, GROUNDS', 'CHA PARKING LOT/GROUNDS',\n",
       "       'MEDICAL/DENTAL OFFICE', 'RESTAURANT', 'SMALL RETAIL STORE',\n",
       "       'CTA TRAIN', 'SCHOOL, PUBLIC, BUILDING',\n",
       "       'HOSPITAL BUILDING/GROUNDS', 'DRUG STORE',\n",
       "       'RESIDENTIAL YARD (FRONT/BACK)', 'GROCERY FOOD STORE',\n",
       "       'COLLEGE/UNIVERSITY GROUNDS', 'BANK', 'BAR OR TAVERN',\n",
       "       'ATHLETIC CLUB', 'SPORTS ARENA/STADIUM', 'PARK PROPERTY', 'ALLEY',\n",
       "       'VACANT LOT/LAND', 'GAS STATION',\n",
       "       'POLICE FACILITY/VEH PARKING LOT', 'HOTEL/MOTEL', 'TAXICAB',\n",
       "       'SCHOOL, PRIVATE, GROUNDS', 'COMMERCIAL / BUSINESS OFFICE',\n",
       "       'ATM (AUTOMATIC TELLER MACHINE)', 'LIBRARY', 'HIGHWAY/EXPRESSWAY',\n",
       "       'CONVENIENCE STORE', 'TAVERN/LIQUOR STORE', 'ABANDONED BUILDING',\n",
       "       'CTA BUS', 'DEPARTMENT STORE', 'CTA STATION', 'CTA PLATFORM',\n",
       "       'OTHER COMMERCIAL TRANSPORTATION', 'NURSING HOME/RETIREMENT HOME',\n",
       "       'CHA APARTMENT', 'ANIMAL HOSPITAL', 'DRIVEWAY - RESIDENTIAL',\n",
       "       'BARBERSHOP', 'CHURCH/SYNAGOGUE/PLACE OF WORSHIP',\n",
       "       'SCHOOL, PRIVATE, BUILDING', 'YARD',\n",
       "       'GOVERNMENT BUILDING/PROPERTY', 'AIRPORT/AIRCRAFT',\n",
       "       'CTA GARAGE / OTHER PROPERTY',\n",
       "       'AIRPORT TERMINAL LOWER LEVEL - NON-SECURE AREA',\n",
       "       'CURRENCY EXCHANGE', 'AIRPORT TERMINAL UPPER LEVEL - SECURE AREA',\n",
       "       'VEHICLE - OTHER RIDE SERVICE', 'WAREHOUSE', 'CONSTRUCTION SITE',\n",
       "       'CTA BUS STOP', 'DAY CARE CENTER', 'MOVIE HOUSE/THEATER',\n",
       "       'AIRPORT EXTERIOR - NON-SECURE AREA', 'CAR WASH',\n",
       "       'OTHER RAILROAD PROP / TRAIN DEPOT', 'POOL ROOM', 'AUTO', 'BRIDGE',\n",
       "       'APPLIANCE STORE', 'CLEANING STORE', 'HOUSE',\n",
       "       'VEHICLE - DELIVERY TRUCK', 'AIRPORT PARKING LOT', 'FIRE STATION',\n",
       "       'AIRPORT BUILDING NON-TERMINAL - SECURE AREA',\n",
       "       'AIRPORT VENDING ESTABLISHMENT', 'LAKEFRONT/WATERFRONT/RIVERBANK',\n",
       "       'COLLEGE/UNIVERSITY RESIDENCE HALL', 'CREDIT UNION',\n",
       "       'AIRPORT TERMINAL MEZZANINE - NON-SECURE AREA', 'FEDERAL BUILDING',\n",
       "       'AIRPORT TERMINAL LOWER LEVEL - SECURE AREA',\n",
       "       'FACTORY/MANUFACTURING BUILDING', 'PORCH',\n",
       "       'AIRPORT EXTERIOR - SECURE AREA', 'SAVINGS AND LOAN',\n",
       "       'AIRPORT BUILDING NON-TERMINAL - NON-SECURE AREA',\n",
       "       'JAIL / LOCK-UP FACILITY', 'PARKING LOT', 'PAWN SHOP', 'AIRCRAFT',\n",
       "       'AIRPORT TERMINAL UPPER LEVEL - NON-SECURE AREA',\n",
       "       'BOAT/WATERCRAFT', 'BARBER SHOP/BEAUTY SALON',\n",
       "       'COIN OPERATED MACHINE', 'AIRPORT TRANSPORTATION SYSTEM (ATS)',\n",
       "       'BOWLING ALLEY', 'CTA TRACKS - RIGHT OF WAY', 'NEWSSTAND',\n",
       "       'FOREST PRESERVE', 'DELIVERY TRUCK', 'CEMETARY', 'GARAGE',\n",
       "       'HOSPITAL', 'ELEVATOR', 'RAILROAD PROPERTY', 'HALLWAY',\n",
       "       'RETAIL STORE', 'CLEANERS/LAUNDROMAT', 'VACANT LOT',\n",
       "       'GAS STATION DRIVE/PROP.', 'PUBLIC HIGH SCHOOL', 'TAXI CAB',\n",
       "       'GANGWAY', 'LIQUOR STORE', 'CHA PARKING LOT', 'BASEMENT', 'HOTEL',\n",
       "       'VESTIBULE', 'SCHOOL YARD', 'CHURCH PROPERTY',\n",
       "       'GARAGE/AUTO REPAIR', 'CTA \"L\" PLATFORM', 'CLUB', 'MOTEL',\n",
       "       'TAVERN', 'STAIRWELL', 'NURSING HOME', 'DRIVEWAY',\n",
       "       'GOVERNMENT BUILDING', 'OFFICE', 'TRUCK', 'POOLROOM',\n",
       "       'CTA \"L\" TRAIN', 'LAUNDRY ROOM'], dtype=object)"
      ]
     },
     "execution_count": 204,
     "metadata": {},
     "output_type": "execute_result"
    }
   ],
   "source": [
    "working_df['loc_desc'].unique()"
   ]
  },
  {
   "cell_type": "code",
   "execution_count": 205,
   "metadata": {},
   "outputs": [],
   "source": [
    "working_df['loc_desc'] = working_df.loc_desc.fillna('APARTMENT')"
   ]
  },
  {
   "cell_type": "code",
   "execution_count": 206,
   "metadata": {},
   "outputs": [
    {
     "data": {
      "text/html": [
       "<div>\n",
       "<style scoped>\n",
       "    .dataframe tbody tr th:only-of-type {\n",
       "        vertical-align: middle;\n",
       "    }\n",
       "\n",
       "    .dataframe tbody tr th {\n",
       "        vertical-align: top;\n",
       "    }\n",
       "\n",
       "    .dataframe thead th {\n",
       "        text-align: right;\n",
       "    }\n",
       "</style>\n",
       "<table border=\"1\" class=\"dataframe\">\n",
       "  <thead>\n",
       "    <tr style=\"text-align: right;\">\n",
       "      <th></th>\n",
       "      <th>loc_desc</th>\n",
       "      <th>Arrest</th>\n",
       "      <th>Domestic</th>\n",
       "      <th>Beat</th>\n",
       "      <th>District</th>\n",
       "      <th>Ward</th>\n",
       "      <th>area</th>\n",
       "      <th>FBI</th>\n",
       "      <th>Year</th>\n",
       "      <th>Longitude</th>\n",
       "      <th>Latitude</th>\n",
       "    </tr>\n",
       "  </thead>\n",
       "  <tbody>\n",
       "    <tr>\n",
       "      <td>0</td>\n",
       "      <td>17</td>\n",
       "      <td>True</td>\n",
       "      <td>True</td>\n",
       "      <td>1022</td>\n",
       "      <td>10.0</td>\n",
       "      <td>24.0</td>\n",
       "      <td>29.0</td>\n",
       "      <td>08B</td>\n",
       "      <td>2016</td>\n",
       "      <td>-87.706819</td>\n",
       "      <td>41.864073</td>\n",
       "    </tr>\n",
       "    <tr>\n",
       "      <td>1</td>\n",
       "      <td>109</td>\n",
       "      <td>False</td>\n",
       "      <td>True</td>\n",
       "      <td>313</td>\n",
       "      <td>3.0</td>\n",
       "      <td>20.0</td>\n",
       "      <td>42.0</td>\n",
       "      <td>08B</td>\n",
       "      <td>2016</td>\n",
       "      <td>-87.604363</td>\n",
       "      <td>41.782922</td>\n",
       "    </tr>\n",
       "    <tr>\n",
       "      <td>2</td>\n",
       "      <td>125</td>\n",
       "      <td>False</td>\n",
       "      <td>False</td>\n",
       "      <td>1524</td>\n",
       "      <td>15.0</td>\n",
       "      <td>37.0</td>\n",
       "      <td>25.0</td>\n",
       "      <td>24</td>\n",
       "      <td>2016</td>\n",
       "      <td>-87.758372</td>\n",
       "      <td>41.894908</td>\n",
       "    </tr>\n",
       "    <tr>\n",
       "      <td>3</td>\n",
       "      <td>121</td>\n",
       "      <td>False</td>\n",
       "      <td>False</td>\n",
       "      <td>1532</td>\n",
       "      <td>15.0</td>\n",
       "      <td>28.0</td>\n",
       "      <td>25.0</td>\n",
       "      <td>08B</td>\n",
       "      <td>2016</td>\n",
       "      <td>-87.749516</td>\n",
       "      <td>41.885687</td>\n",
       "    </tr>\n",
       "    <tr>\n",
       "      <td>4</td>\n",
       "      <td>109</td>\n",
       "      <td>False</td>\n",
       "      <td>True</td>\n",
       "      <td>1523</td>\n",
       "      <td>15.0</td>\n",
       "      <td>28.0</td>\n",
       "      <td>25.0</td>\n",
       "      <td>06</td>\n",
       "      <td>2016</td>\n",
       "      <td>-87.761751</td>\n",
       "      <td>41.886297</td>\n",
       "    </tr>\n",
       "  </tbody>\n",
       "</table>\n",
       "</div>"
      ],
      "text/plain": [
       "   loc_desc  Arrest  Domestic  Beat  District  Ward  area  FBI  Year  \\\n",
       "0        17    True      True  1022      10.0  24.0  29.0  08B  2016   \n",
       "1       109   False      True   313       3.0  20.0  42.0  08B  2016   \n",
       "2       125   False     False  1524      15.0  37.0  25.0   24  2016   \n",
       "3       121   False     False  1532      15.0  28.0  25.0  08B  2016   \n",
       "4       109   False      True  1523      15.0  28.0  25.0   06  2016   \n",
       "\n",
       "   Longitude   Latitude  \n",
       "0 -87.706819  41.864073  \n",
       "1 -87.604363  41.782922  \n",
       "2 -87.758372  41.894908  \n",
       "3 -87.749516  41.885687  \n",
       "4 -87.761751  41.886297  "
      ]
     },
     "execution_count": 206,
     "metadata": {},
     "output_type": "execute_result"
    }
   ],
   "source": [
    "working_df['loc_desc'] = LE.fit_transform(working_df['loc_desc'])\n",
    "working_df.head()"
   ]
  },
  {
   "cell_type": "code",
   "execution_count": 207,
   "metadata": {},
   "outputs": [
    {
     "data": {
      "text/html": [
       "<div>\n",
       "<style scoped>\n",
       "    .dataframe tbody tr th:only-of-type {\n",
       "        vertical-align: middle;\n",
       "    }\n",
       "\n",
       "    .dataframe tbody tr th {\n",
       "        vertical-align: top;\n",
       "    }\n",
       "\n",
       "    .dataframe thead th {\n",
       "        text-align: right;\n",
       "    }\n",
       "</style>\n",
       "<table border=\"1\" class=\"dataframe\">\n",
       "  <thead>\n",
       "    <tr style=\"text-align: right;\">\n",
       "      <th></th>\n",
       "      <th>loc_desc</th>\n",
       "      <th>Arrest</th>\n",
       "      <th>Domestic</th>\n",
       "      <th>Beat</th>\n",
       "      <th>District</th>\n",
       "      <th>Ward</th>\n",
       "      <th>area</th>\n",
       "      <th>FBI</th>\n",
       "      <th>Year</th>\n",
       "      <th>Longitude</th>\n",
       "      <th>Latitude</th>\n",
       "    </tr>\n",
       "  </thead>\n",
       "  <tbody>\n",
       "    <tr>\n",
       "      <td>0</td>\n",
       "      <td>17</td>\n",
       "      <td>1</td>\n",
       "      <td>1</td>\n",
       "      <td>1022</td>\n",
       "      <td>10.0</td>\n",
       "      <td>24.0</td>\n",
       "      <td>29.0</td>\n",
       "      <td>10</td>\n",
       "      <td>2016</td>\n",
       "      <td>-87.706819</td>\n",
       "      <td>41.864073</td>\n",
       "    </tr>\n",
       "    <tr>\n",
       "      <td>1</td>\n",
       "      <td>109</td>\n",
       "      <td>0</td>\n",
       "      <td>1</td>\n",
       "      <td>313</td>\n",
       "      <td>3.0</td>\n",
       "      <td>20.0</td>\n",
       "      <td>42.0</td>\n",
       "      <td>10</td>\n",
       "      <td>2016</td>\n",
       "      <td>-87.604363</td>\n",
       "      <td>41.782922</td>\n",
       "    </tr>\n",
       "    <tr>\n",
       "      <td>2</td>\n",
       "      <td>125</td>\n",
       "      <td>0</td>\n",
       "      <td>0</td>\n",
       "      <td>1524</td>\n",
       "      <td>15.0</td>\n",
       "      <td>37.0</td>\n",
       "      <td>25.0</td>\n",
       "      <td>24</td>\n",
       "      <td>2016</td>\n",
       "      <td>-87.758372</td>\n",
       "      <td>41.894908</td>\n",
       "    </tr>\n",
       "    <tr>\n",
       "      <td>3</td>\n",
       "      <td>121</td>\n",
       "      <td>0</td>\n",
       "      <td>0</td>\n",
       "      <td>1532</td>\n",
       "      <td>15.0</td>\n",
       "      <td>28.0</td>\n",
       "      <td>25.0</td>\n",
       "      <td>10</td>\n",
       "      <td>2016</td>\n",
       "      <td>-87.749516</td>\n",
       "      <td>41.885687</td>\n",
       "    </tr>\n",
       "    <tr>\n",
       "      <td>4</td>\n",
       "      <td>109</td>\n",
       "      <td>0</td>\n",
       "      <td>1</td>\n",
       "      <td>1523</td>\n",
       "      <td>15.0</td>\n",
       "      <td>28.0</td>\n",
       "      <td>25.0</td>\n",
       "      <td>7</td>\n",
       "      <td>2016</td>\n",
       "      <td>-87.761751</td>\n",
       "      <td>41.886297</td>\n",
       "    </tr>\n",
       "  </tbody>\n",
       "</table>\n",
       "</div>"
      ],
      "text/plain": [
       "   loc_desc  Arrest  Domestic  Beat  District  Ward  area  FBI  Year  \\\n",
       "0        17       1         1  1022      10.0  24.0  29.0   10  2016   \n",
       "1       109       0         1   313       3.0  20.0  42.0   10  2016   \n",
       "2       125       0         0  1524      15.0  37.0  25.0   24  2016   \n",
       "3       121       0         0  1532      15.0  28.0  25.0   10  2016   \n",
       "4       109       0         1  1523      15.0  28.0  25.0    7  2016   \n",
       "\n",
       "   Longitude   Latitude  \n",
       "0 -87.706819  41.864073  \n",
       "1 -87.604363  41.782922  \n",
       "2 -87.758372  41.894908  \n",
       "3 -87.749516  41.885687  \n",
       "4 -87.761751  41.886297  "
      ]
     },
     "execution_count": 207,
     "metadata": {},
     "output_type": "execute_result"
    }
   ],
   "source": [
    "working_df['Arrest'] = LE.fit_transform(working_df['Arrest'])\n",
    "working_df['Domestic'] = LE.fit_transform(working_df['Domestic'])\n",
    "working_df['FBI'] = LE.fit_transform(working_df['FBI'])\n",
    "working_df.head()"
   ]
  },
  {
   "cell_type": "code",
   "execution_count": 208,
   "metadata": {},
   "outputs": [
    {
     "data": {
      "text/plain": [
       "loc_desc     0\n",
       "Arrest       0\n",
       "Domestic     0\n",
       "Beat         0\n",
       "District     0\n",
       "Ward         0\n",
       "area         0\n",
       "FBI          0\n",
       "Year         0\n",
       "Longitude    0\n",
       "Latitude     0\n",
       "dtype: int64"
      ]
     },
     "execution_count": 208,
     "metadata": {},
     "output_type": "execute_result"
    }
   ],
   "source": [
    "working_df.isnull().sum()"
   ]
  },
  {
   "cell_type": "code",
   "execution_count": 209,
   "metadata": {},
   "outputs": [],
   "source": [
    "target_df = df[target].copy()\n",
    "target_df['Primary Type'] = LE.fit_transform(target_df['Primary Type'])"
   ]
  },
  {
   "cell_type": "code",
   "execution_count": 210,
   "metadata": {},
   "outputs": [],
   "source": [
    "X = working_df\n",
    "y = target_df"
   ]
  },
  {
   "cell_type": "code",
   "execution_count": 211,
   "metadata": {},
   "outputs": [],
   "source": [
    "from sklearn.model_selection import train_test_split\n",
    "from sklearn.ensemble import RandomForestClassifier"
   ]
  },
  {
   "cell_type": "code",
   "execution_count": 212,
   "metadata": {},
   "outputs": [],
   "source": [
    "X_train, X_test, y_train, y_test = train_test_split(X,y,test_size=0.2)"
   ]
  },
  {
   "cell_type": "code",
   "execution_count": 213,
   "metadata": {},
   "outputs": [
    {
     "name": "stderr",
     "output_type": "stream",
     "text": [
      "C:\\Users\\Dhruv-PC\\Anaconda3\\lib\\site-packages\\ipykernel_launcher.py:2: DataConversionWarning: A column-vector y was passed when a 1d array was expected. Please change the shape of y to (n_samples,), for example using ravel().\n",
      "  \n"
     ]
    },
    {
     "name": "stdout",
     "output_type": "stream",
     "text": [
      "loc_desc  : 0.04273419337685217\n",
      "Arrest  : 0.04288777899414751\n",
      "Domestic  : 0.03364143885977192\n",
      "Beat  : 0.008517582072790722\n",
      "District  : 0.0019338553010778694\n",
      "Ward  : 0.005207890429326637\n",
      "area  : 0.005121792418962825\n",
      "FBI  : 0.8047357179292284\n",
      "Year  : 0.007519033489666028\n",
      "Longitude  : 0.024735919640900595\n",
      "Latitude  : 0.022964797487275444\n"
     ]
    }
   ],
   "source": [
    "model = RandomForestClassifier(n_estimators=1)\n",
    "model.fit(X_train, y_train)\n",
    "imp = model.feature_importances_\n",
    "\n",
    "for i in range(0,len(X.columns)):\n",
    "    print(X.columns[i],\" :\" ,imp[i])"
   ]
  },
  {
   "cell_type": "code",
   "execution_count": 214,
   "metadata": {
    "scrolled": true
   },
   "outputs": [
    {
     "data": {
      "text/plain": [
       "0.9435265443556482"
      ]
     },
     "execution_count": 214,
     "metadata": {},
     "output_type": "execute_result"
    }
   ],
   "source": [
    "model.score(X_test, y_test)"
   ]
  },
  {
   "cell_type": "code",
   "execution_count": 215,
   "metadata": {},
   "outputs": [
    {
     "name": "stdout",
     "output_type": "stream",
     "text": [
      "Model score for no of trees 1  is :  0.924648053507842\n",
      "Model score for no of trees 2  is :  0.9159308399167374\n",
      "Model score for no of trees 3  is :  0.960309381835088\n",
      "Model score for no of trees 4  is :  0.9646591833643866\n",
      "Model score for no of trees 5  is :  0.9670189947203623\n",
      "Model score for no of trees 6  is :  0.9682763867413823\n",
      "Model score for no of trees 7  is :  0.9663321839525784\n",
      "Model score for no of trees 8  is :  0.9685651994745017\n",
      "Model score for no of trees 9  is :  0.9698155472825187\n",
      "Model score for no of trees 10  is :  0.9705375791153172\n",
      "Model score for no of trees 11  is :  0.9711609919660751\n",
      "Model score for no of trees 12  is :  0.9709813645345008\n",
      "Model score for no of trees 13  is :  0.9711539477530722\n",
      "Model score for no of trees 14  is :  0.970195934784676\n",
      "Model score for no of trees 15  is :  0.9709250108304774\n",
      "Model score for no of trees 16  is :  0.9716893079412935\n",
      "Model score for no of trees 17  is :  0.9716611310892819\n",
      "Model score for no of trees 18  is :  0.9717069184738009\n",
      "Model score for no of trees 19  is :  0.9720274301654334\n"
     ]
    }
   ],
   "source": [
    "temp_train = y_train.values.reshape(-1,)\n",
    "temp_test = y_test.values.reshape(-1,)\n",
    "\n",
    "for i in range(1,20):\n",
    "    model = RandomForestClassifier(n_estimators=i)\n",
    "    model.fit(X_train, temp_train)\n",
    "    print(\"Model score for no of trees\",i,\" is : \",model.score(X_test, temp_test))"
   ]
  },
  {
   "cell_type": "code",
   "execution_count": 216,
   "metadata": {},
   "outputs": [
    {
     "name": "stderr",
     "output_type": "stream",
     "text": [
      "C:\\Users\\Dhruv-PC\\Anaconda3\\lib\\site-packages\\sklearn\\model_selection\\_split.py:657: Warning: The least populated class in y has only 4 members, which is too few. The minimum number of members in any class cannot be less than n_splits=5.\n",
      "  % (min_groups, self.n_splits)), Warning)\n",
      "C:\\Users\\Dhruv-PC\\Anaconda3\\lib\\site-packages\\sklearn\\model_selection\\_split.py:657: Warning: The least populated class in y has only 4 members, which is too few. The minimum number of members in any class cannot be less than n_splits=6.\n",
      "  % (min_groups, self.n_splits)), Warning)\n",
      "C:\\Users\\Dhruv-PC\\Anaconda3\\lib\\site-packages\\sklearn\\model_selection\\_split.py:657: Warning: The least populated class in y has only 4 members, which is too few. The minimum number of members in any class cannot be less than n_splits=7.\n",
      "  % (min_groups, self.n_splits)), Warning)\n",
      "C:\\Users\\Dhruv-PC\\Anaconda3\\lib\\site-packages\\sklearn\\model_selection\\_split.py:657: Warning: The least populated class in y has only 4 members, which is too few. The minimum number of members in any class cannot be less than n_splits=8.\n",
      "  % (min_groups, self.n_splits)), Warning)\n",
      "C:\\Users\\Dhruv-PC\\Anaconda3\\lib\\site-packages\\sklearn\\model_selection\\_split.py:657: Warning: The least populated class in y has only 4 members, which is too few. The minimum number of members in any class cannot be less than n_splits=9.\n",
      "  % (min_groups, self.n_splits)), Warning)\n",
      "C:\\Users\\Dhruv-PC\\Anaconda3\\lib\\site-packages\\sklearn\\model_selection\\_split.py:657: Warning: The least populated class in y has only 4 members, which is too few. The minimum number of members in any class cannot be less than n_splits=10.\n",
      "  % (min_groups, self.n_splits)), Warning)\n",
      "C:\\Users\\Dhruv-PC\\Anaconda3\\lib\\site-packages\\sklearn\\model_selection\\_split.py:657: Warning: The least populated class in y has only 4 members, which is too few. The minimum number of members in any class cannot be less than n_splits=11.\n",
      "  % (min_groups, self.n_splits)), Warning)\n",
      "C:\\Users\\Dhruv-PC\\Anaconda3\\lib\\site-packages\\sklearn\\model_selection\\_split.py:657: Warning: The least populated class in y has only 4 members, which is too few. The minimum number of members in any class cannot be less than n_splits=12.\n",
      "  % (min_groups, self.n_splits)), Warning)\n",
      "C:\\Users\\Dhruv-PC\\Anaconda3\\lib\\site-packages\\sklearn\\model_selection\\_split.py:657: Warning: The least populated class in y has only 4 members, which is too few. The minimum number of members in any class cannot be less than n_splits=13.\n",
      "  % (min_groups, self.n_splits)), Warning)\n",
      "C:\\Users\\Dhruv-PC\\Anaconda3\\lib\\site-packages\\sklearn\\model_selection\\_split.py:657: Warning: The least populated class in y has only 4 members, which is too few. The minimum number of members in any class cannot be less than n_splits=14.\n",
      "  % (min_groups, self.n_splits)), Warning)\n"
     ]
    }
   ],
   "source": [
    "from sklearn.model_selection import cross_val_score\n",
    "\n",
    "k_fold_summary = []\n",
    "for i in range(3,15):\n",
    "    model = RandomForestClassifier(n_estimators = 20, random_state = 0)\n",
    "    scores = cross_val_score(model, X=X, y=y, cv=i, n_jobs=6)\n",
    "    k_fold_summary.append((i,scores.mean()))"
   ]
  },
  {
   "cell_type": "code",
   "execution_count": 217,
   "metadata": {},
   "outputs": [
    {
     "name": "stdout",
     "output_type": "stream",
     "text": [
      "[(3, 0.9653015538685942),\n",
      " (4, 0.9675902699889074),\n",
      " (5, 0.969630259433392),\n",
      " (6, 0.9700190755209617),\n",
      " (7, 0.970493889725196),\n",
      " (8, 0.9706439383552756),\n",
      " (9, 0.9704882559076036),\n",
      " (10, 0.9705755967108016),\n",
      " (11, 0.9708137036879492),\n",
      " (12, 0.970774961843672),\n",
      " (13, 0.9709235866373608),\n",
      " (14, 0.9709200841449472)]\n"
     ]
    }
   ],
   "source": [
    "from pprint import pprint\n",
    "pprint(k_fold_summary)"
   ]
  },
  {
   "cell_type": "code",
   "execution_count": null,
   "metadata": {},
   "outputs": [],
   "source": []
  },
  {
   "cell_type": "markdown",
   "metadata": {},
   "source": [
    "## Results Discussions ##\n",
    "\n",
    "\n",
    "### Classification Report ###\n",
    "\n",
    "A Classification report is used to measure the quality of predictions from a classification algorithm. How many predictions are True and how many are False. More specifically, True Positives, False Positives, True negatives and False Negatives are used to predict the metrics of a classification report as\n",
    "\n",
    "The report shows the main classification metrics precision, recall and f1-score on a per-class basis. The metrics are calculated by using true and false positives, true and false negatives. Positive and negative in this case are generic names for the predicted classes. There are four ways to check if the predictions are right or wrong:\n",
    "\n",
    "TN / True Negative: when a case was negative and predicted negative\n",
    "TP / True Positive: when a case was positive and predicted positive\n",
    "FN / False Negative: when a case was positive but predicted negative\n",
    "FP / False Positive: when a case was negative but predicted positive\n",
    "\n",
    "Precision – What percent of your predictions were correct\n",
    "\n",
    "Precision is the ability of a classifier not to label an instance positive that is actually negative. For each class it is defined as the ratio of true positives to the sum of true and false positives.\n",
    "\n",
    "Recall – What percent of the positive cases did you catch\n",
    "\n",
    "Recall is the ability of a classifier to find all positive instances. For each class it is defined as the ratio of true positives to the sum of true positives and false negatives.\n",
    "\n",
    "F1 score – What percent of positive predictions were correct\n",
    "\n",
    "### Precision Recall Curve ###\n",
    "\n",
    "Precision-Recall curves summarize the trade-off between the true positive rate and the positive predictive value for a predictive model using different probability thresholds.\n",
    "\n",
    "Sensitivity or True Positive Rate = TP/(TP+FN)\n",
    "Positive Predictive value = TP/(TP+FP)\n",
    "\n",
    "### ROC Curves ###\n",
    "\n",
    "Reciever Operating Charecteristic Curve\n",
    "\n",
    "Usefull when predicting probability of a binary outcome.\n",
    "\n",
    "ROC Curves summarize the trade-off between the true positive rate and false positive rate for a predictive model using different probability thresholds. \n",
    "\n",
    "ROC curves are appropriate when the observations are balanced between each class, whereas precision-recall curves are appropriate for imbalanced datasets."
   ]
  },
  {
   "cell_type": "code",
   "execution_count": 218,
   "metadata": {},
   "outputs": [
    {
     "name": "stderr",
     "output_type": "stream",
     "text": [
      "C:\\Users\\Dhruv-PC\\Anaconda3\\lib\\site-packages\\sklearn\\metrics\\classification.py:1437: UndefinedMetricWarning: Precision and F-score are ill-defined and being set to 0.0 in labels with no predicted samples.\n",
      "  'precision', 'predicted', average, warn_for)\n"
     ]
    },
    {
     "name": "stdout",
     "output_type": "stream",
     "text": [
      "              precision    recall  f1-score   support\n",
      "\n",
      "           0       0.99      0.94      0.96       424\n",
      "           1       0.99      1.00      0.99     18049\n",
      "           2       1.00      1.00      1.00     51982\n",
      "           3       1.00      1.00      1.00     16120\n",
      "           4       1.00      0.19      0.32        21\n",
      "           5       0.90      0.94      0.92      1230\n",
      "           6       1.00      1.00      1.00     30552\n",
      "           7       0.71      0.70      0.71      7272\n",
      "           8       1.00      1.00      1.00     13641\n",
      "           9       0.96      0.97      0.97       445\n",
      "          10       0.99      0.93      0.96       546\n",
      "          11       0.00      0.00      0.00         6\n",
      "          12       0.49      0.48      0.49      1248\n",
      "          13       0.09      0.06      0.07       109\n",
      "          14       0.46      0.21      0.29       220\n",
      "          15       0.94      0.91      0.92       406\n",
      "          16       1.00      1.00      1.00     11876\n",
      "          17       0.98      0.98      0.98     26264\n",
      "          18       0.00      0.00      0.00        10\n",
      "          19       0.00      0.00      0.00        13\n",
      "          20       0.00      0.00      0.00         1\n",
      "          21       0.25      0.14      0.18        35\n",
      "          22       0.77      0.59      0.67      2091\n",
      "          23       1.00      0.17      0.29         6\n",
      "          24       0.82      0.87      0.84     17059\n",
      "          25       0.99      0.99      0.99      1555\n",
      "          26       0.00      0.00      0.00        14\n",
      "          27       0.67      0.61      0.64      2601\n",
      "          28       1.00      1.00      1.00     11160\n",
      "          29       0.84      0.83      0.83       888\n",
      "          30       0.24      0.04      0.06       164\n",
      "          31       1.00      1.00      1.00     64581\n",
      "          32       0.98      0.99      0.99      3332\n",
      "\n",
      "    accuracy                           0.97    283921\n",
      "   macro avg       0.70      0.62      0.64    283921\n",
      "weighted avg       0.97      0.97      0.97    283921\n",
      "\n"
     ]
    }
   ],
   "source": [
    "from sklearn.metrics import classification_report\n",
    "model = RandomForestClassifier(n_estimators=10)\n",
    "model.fit(X_train, temp_train)\n",
    "model.score(X_test, y_test)\n",
    "\n",
    "y_pred = model.predict(X_test)\n",
    "print(classification_report(y_test, y_pred))"
   ]
  },
  {
   "cell_type": "code",
   "execution_count": 219,
   "metadata": {},
   "outputs": [
    {
     "name": "stdout",
     "output_type": "stream",
     "text": [
      "array([[  398,     0,     9, ...,     0,     0,     0],\n",
      "       [    0, 18018,    10, ...,    13,     0,     0],\n",
      "       [    0,    20, 51959, ...,     0,     0,     0],\n",
      "       ...,\n",
      "       [    0,   131,     0, ...,     6,     0,     0],\n",
      "       [    0,     1,     3, ...,     0, 64577,     0],\n",
      "       [    0,     0,     0, ...,     0,     0,  3303]], dtype=int64)\n"
     ]
    }
   ],
   "source": [
    "from sklearn.metrics import confusion_matrix\n",
    "from pprint import pprint\n",
    "pprint(confusion_matrix(y_test,y_pred))"
   ]
  },
  {
   "cell_type": "code",
   "execution_count": 220,
   "metadata": {},
   "outputs": [
    {
     "data": {
      "image/png": "[encoded data removed]",
      "text/plain": [
       "<Figure size 1440x1440 with 2 Axes>"
      ]
     },
     "metadata": {
      "needs_background": "light"
     },
     "output_type": "display_data"
    }
   ],
   "source": [
    "plt.figure(figsize = (20,20))\n",
    "df_cm = confusion_matrix(y_test,y_pred)\n",
    "sns.set(font_scale=1.4)#for label size\n",
    "sns.heatmap(confusion_matrix(y_test,y_pred), annot_kws={\"size\": 16})# font size\n",
    "\n",
    "plt.show()"
   ]
  },
  {
   "cell_type": "code",
   "execution_count": 221,
   "metadata": {},
   "outputs": [
    {
     "data": {
      "text/plain": [
       "<Figure size 1440x1440 with 0 Axes>"
      ]
     },
     "execution_count": 221,
     "metadata": {},
     "output_type": "execute_result"
    },
    {
     "data": {
      "text/plain": [
       "<Figure size 1440x1440 with 0 Axes>"
      ]
     },
     "metadata": {},
     "output_type": "display_data"
    }
   ],
   "source": [
    "plt.figure(figsize = (20,20))\n"
   ]
  },
  {
   "cell_type": "code",
   "execution_count": 222,
   "metadata": {},
   "outputs": [],
   "source": [
    "# corr(df['Arrest'], df['Description'])"
   ]
  },
  {
   "cell_type": "code",
   "execution_count": 223,
   "metadata": {},
   "outputs": [],
   "source": [
    "# pd.read_csv(\"Classifier_inputs.csv\",engine='c')"
   ]
  },
  {
   "cell_type": "code",
   "execution_count": 224,
   "metadata": {},
   "outputs": [
    {
     "data": {
      "text/plain": [
       "Index(['loc_desc', 'Arrest', 'Domestic', 'Beat', 'District', 'Ward', 'area',\n",
       "       'FBI', 'Year', 'Longitude', 'Latitude'],\n",
       "      dtype='object')"
      ]
     },
     "execution_count": 224,
     "metadata": {},
     "output_type": "execute_result"
    }
   ],
   "source": [
    "X.columns"
   ]
  },
  {
   "cell_type": "code",
   "execution_count": 225,
   "metadata": {},
   "outputs": [],
   "source": [
    "from sklearn.preprocessing import StandardScaler\n",
    "feat = ['loc_desc', 'Arrest', 'Domestic', 'Beat', 'District', 'Ward', 'area', 'Year', 'Longitude', 'Latitude'] \n",
    "working_df2 = working_df[feat]\n",
    "# working_df2 = StandardScaler().fit_transform(working_df2)"
   ]
  },
  {
   "cell_type": "code",
   "execution_count": 226,
   "metadata": {},
   "outputs": [],
   "source": [
    "working_df2 = pd.DataFrame(data = working_df2, columns = feat)"
   ]
  },
  {
   "cell_type": "code",
   "execution_count": 227,
   "metadata": {},
   "outputs": [
    {
     "data": {
      "text/html": [
       "<div>\n",
       "<style scoped>\n",
       "    .dataframe tbody tr th:only-of-type {\n",
       "        vertical-align: middle;\n",
       "    }\n",
       "\n",
       "    .dataframe tbody tr th {\n",
       "        vertical-align: top;\n",
       "    }\n",
       "\n",
       "    .dataframe thead th {\n",
       "        text-align: right;\n",
       "    }\n",
       "</style>\n",
       "<table border=\"1\" class=\"dataframe\">\n",
       "  <thead>\n",
       "    <tr style=\"text-align: right;\">\n",
       "      <th></th>\n",
       "      <th>loc_desc</th>\n",
       "      <th>Arrest</th>\n",
       "      <th>Domestic</th>\n",
       "      <th>Beat</th>\n",
       "      <th>District</th>\n",
       "      <th>Ward</th>\n",
       "      <th>area</th>\n",
       "      <th>Year</th>\n",
       "      <th>Longitude</th>\n",
       "      <th>Latitude</th>\n",
       "    </tr>\n",
       "  </thead>\n",
       "  <tbody>\n",
       "    <tr>\n",
       "      <td>0</td>\n",
       "      <td>17</td>\n",
       "      <td>1</td>\n",
       "      <td>1</td>\n",
       "      <td>1022</td>\n",
       "      <td>10.0</td>\n",
       "      <td>24.0</td>\n",
       "      <td>29.0</td>\n",
       "      <td>2016</td>\n",
       "      <td>-87.706819</td>\n",
       "      <td>41.864073</td>\n",
       "    </tr>\n",
       "    <tr>\n",
       "      <td>1</td>\n",
       "      <td>109</td>\n",
       "      <td>0</td>\n",
       "      <td>1</td>\n",
       "      <td>313</td>\n",
       "      <td>3.0</td>\n",
       "      <td>20.0</td>\n",
       "      <td>42.0</td>\n",
       "      <td>2016</td>\n",
       "      <td>-87.604363</td>\n",
       "      <td>41.782922</td>\n",
       "    </tr>\n",
       "    <tr>\n",
       "      <td>2</td>\n",
       "      <td>125</td>\n",
       "      <td>0</td>\n",
       "      <td>0</td>\n",
       "      <td>1524</td>\n",
       "      <td>15.0</td>\n",
       "      <td>37.0</td>\n",
       "      <td>25.0</td>\n",
       "      <td>2016</td>\n",
       "      <td>-87.758372</td>\n",
       "      <td>41.894908</td>\n",
       "    </tr>\n",
       "    <tr>\n",
       "      <td>3</td>\n",
       "      <td>121</td>\n",
       "      <td>0</td>\n",
       "      <td>0</td>\n",
       "      <td>1532</td>\n",
       "      <td>15.0</td>\n",
       "      <td>28.0</td>\n",
       "      <td>25.0</td>\n",
       "      <td>2016</td>\n",
       "      <td>-87.749516</td>\n",
       "      <td>41.885687</td>\n",
       "    </tr>\n",
       "    <tr>\n",
       "      <td>4</td>\n",
       "      <td>109</td>\n",
       "      <td>0</td>\n",
       "      <td>1</td>\n",
       "      <td>1523</td>\n",
       "      <td>15.0</td>\n",
       "      <td>28.0</td>\n",
       "      <td>25.0</td>\n",
       "      <td>2016</td>\n",
       "      <td>-87.761751</td>\n",
       "      <td>41.886297</td>\n",
       "    </tr>\n",
       "  </tbody>\n",
       "</table>\n",
       "</div>"
      ],
      "text/plain": [
       "   loc_desc  Arrest  Domestic  Beat  District  Ward  area  Year  Longitude  \\\n",
       "0        17       1         1  1022      10.0  24.0  29.0  2016 -87.706819   \n",
       "1       109       0         1   313       3.0  20.0  42.0  2016 -87.604363   \n",
       "2       125       0         0  1524      15.0  37.0  25.0  2016 -87.758372   \n",
       "3       121       0         0  1532      15.0  28.0  25.0  2016 -87.749516   \n",
       "4       109       0         1  1523      15.0  28.0  25.0  2016 -87.761751   \n",
       "\n",
       "    Latitude  \n",
       "0  41.864073  \n",
       "1  41.782922  \n",
       "2  41.894908  \n",
       "3  41.885687  \n",
       "4  41.886297  "
      ]
     },
     "execution_count": 227,
     "metadata": {},
     "output_type": "execute_result"
    }
   ],
   "source": [
    "working_df2.head()"
   ]
  },
  {
   "cell_type": "code",
   "execution_count": 228,
   "metadata": {},
   "outputs": [
    {
     "data": {
      "text/plain": [
       "0.3826839155962398"
      ]
     },
     "execution_count": 228,
     "metadata": {},
     "output_type": "execute_result"
    }
   ],
   "source": [
    "#workingdf2 is dataframe w/o scaling and w/o FBI code\n",
    "X_train, X_test, y_train, y_test = train_test_split(working_df2,y,test_size=0.2)\n",
    "model = RandomForestClassifier(n_estimators=10)\n",
    "temp_train = y_train.values.reshape(-1,)\n",
    "model.fit(X_train, temp_train)\n",
    "\n",
    "temp_test = y_test.values.reshape(-1,)\n",
    "model.score(X_test, temp_test)\n"
   ]
  },
  {
   "cell_type": "code",
   "execution_count": 229,
   "metadata": {},
   "outputs": [
    {
     "data": {
      "text/plain": [
       "array([ 2, 27, 31, 32, 28, 16,  1, 24,  8,  6,  7,  3, 30,  5, 17, 29, 10,\n",
       "       22, 12, 25, 14,  9, 13,  0, 15, 21, 19, 26, 11,  4, 18, 23, 20],\n",
       "      dtype=int64)"
      ]
     },
     "execution_count": 229,
     "metadata": {},
     "output_type": "execute_result"
    }
   ],
   "source": [
    "y['Primary Type'].unique()"
   ]
  },
  {
   "cell_type": "code",
   "execution_count": 230,
   "metadata": {},
   "outputs": [],
   "source": [
    "y2 = y['Primary Type'].replace({    \n",
    "0:0,\n",
    "1:0,\n",
    "2:0,\n",
    "3:1,\n",
    "4:1,\n",
    "5:1,\n",
    "6:1,\n",
    "7:1,\n",
    "8:2,\n",
    "9:2,\n",
    "10:2,\n",
    "11:2,\n",
    "12:2,\n",
    "13:2,\n",
    "14:2,\n",
    "15:3,\n",
    "16:3,\n",
    "17:3,\n",
    "18:3,\n",
    "19:3,\n",
    "20:3,\n",
    "21:3,\n",
    "22:3,\n",
    "23:3,\n",
    "24:4,\n",
    "25:4,   \n",
    "26:4,\n",
    "27:4,\n",
    "28:4,\n",
    "29:4,\n",
    "30:5,\n",
    "31:5,   \n",
    "32:5,\n",
    "33:5\n",
    "})"
   ]
  },
  {
   "cell_type": "code",
   "execution_count": 231,
   "metadata": {},
   "outputs": [
    {
     "data": {
      "text/plain": [
       "RandomForestClassifier(bootstrap=True, class_weight=None, criterion='gini',\n",
       "                       max_depth=None, max_features='auto', max_leaf_nodes=None,\n",
       "                       min_impurity_decrease=0.0, min_impurity_split=None,\n",
       "                       min_samples_leaf=1, min_samples_split=2,\n",
       "                       min_weight_fraction_leaf=0.0, n_estimators=15,\n",
       "                       n_jobs=None, oob_score=False, random_state=None,\n",
       "                       verbose=0, warm_start=False)"
      ]
     },
     "execution_count": 231,
     "metadata": {},
     "output_type": "execute_result"
    }
   ],
   "source": [
    "X_train, X_test, y_train, y_test = train_test_split(working_df2,y2,test_size=0.2)\n",
    "model = RandomForestClassifier(n_estimators=15)\n",
    "model.fit(X_train, y_train)"
   ]
  },
  {
   "cell_type": "code",
   "execution_count": 232,
   "metadata": {},
   "outputs": [
    {
     "data": {
      "text/plain": [
       "0.45961024369454884"
      ]
     },
     "execution_count": 232,
     "metadata": {},
     "output_type": "execute_result"
    }
   ],
   "source": [
    "temp_test = y_test.values.reshape(-1,)\n",
    "model.score(X_test, temp_test)"
   ]
  },
  {
   "cell_type": "code",
   "execution_count": 235,
   "metadata": {},
   "outputs": [],
   "source": [
    "y2 = pd.read_csv(\"primary_type_table.csv\")"
   ]
  },
  {
   "cell_type": "code",
   "execution_count": 236,
   "metadata": {},
   "outputs": [
    {
     "data": {
      "text/html": [
       "<div>\n",
       "<style scoped>\n",
       "    .dataframe tbody tr th:only-of-type {\n",
       "        vertical-align: middle;\n",
       "    }\n",
       "\n",
       "    .dataframe tbody tr th {\n",
       "        vertical-align: top;\n",
       "    }\n",
       "\n",
       "    .dataframe thead th {\n",
       "        text-align: right;\n",
       "    }\n",
       "</style>\n",
       "<table border=\"1\" class=\"dataframe\">\n",
       "  <thead>\n",
       "    <tr style=\"text-align: right;\">\n",
       "      <th></th>\n",
       "      <th>primary_type</th>\n",
       "      <th>cluster</th>\n",
       "      <th>count</th>\n",
       "    </tr>\n",
       "  </thead>\n",
       "  <tbody>\n",
       "    <tr>\n",
       "      <td>0</td>\n",
       "      <td>0</td>\n",
       "      <td>4</td>\n",
       "      <td>961</td>\n",
       "    </tr>\n",
       "    <tr>\n",
       "      <td>1</td>\n",
       "      <td>1</td>\n",
       "      <td>4</td>\n",
       "      <td>25855</td>\n",
       "    </tr>\n",
       "    <tr>\n",
       "      <td>2</td>\n",
       "      <td>2</td>\n",
       "      <td>5</td>\n",
       "      <td>106661</td>\n",
       "    </tr>\n",
       "    <tr>\n",
       "      <td>3</td>\n",
       "      <td>3</td>\n",
       "      <td>4</td>\n",
       "      <td>27624</td>\n",
       "    </tr>\n",
       "    <tr>\n",
       "      <td>4</td>\n",
       "      <td>4</td>\n",
       "      <td>0</td>\n",
       "      <td>34</td>\n",
       "    </tr>\n",
       "  </tbody>\n",
       "</table>\n",
       "</div>"
      ],
      "text/plain": [
       "   primary_type  cluster   count\n",
       "0             0        4     961\n",
       "1             1        4   25855\n",
       "2             2        5  106661\n",
       "3             3        4   27624\n",
       "4             4        0      34"
      ]
     },
     "execution_count": 236,
     "metadata": {},
     "output_type": "execute_result"
    }
   ],
   "source": [
    "y2.head()"
   ]
  },
  {
   "cell_type": "code",
   "execution_count": 237,
   "metadata": {},
   "outputs": [
    {
     "data": {
      "text/html": [
       "<div>\n",
       "<style scoped>\n",
       "    .dataframe tbody tr th:only-of-type {\n",
       "        vertical-align: middle;\n",
       "    }\n",
       "\n",
       "    .dataframe tbody tr th {\n",
       "        vertical-align: top;\n",
       "    }\n",
       "\n",
       "    .dataframe thead th {\n",
       "        text-align: right;\n",
       "    }\n",
       "</style>\n",
       "<table border=\"1\" class=\"dataframe\">\n",
       "  <thead>\n",
       "    <tr style=\"text-align: right;\">\n",
       "      <th></th>\n",
       "      <th>Primary Type</th>\n",
       "      <th>cluster</th>\n",
       "    </tr>\n",
       "  </thead>\n",
       "  <tbody>\n",
       "    <tr>\n",
       "      <td>0</td>\n",
       "      <td>0</td>\n",
       "      <td>4</td>\n",
       "    </tr>\n",
       "    <tr>\n",
       "      <td>1</td>\n",
       "      <td>1</td>\n",
       "      <td>4</td>\n",
       "    </tr>\n",
       "    <tr>\n",
       "      <td>2</td>\n",
       "      <td>2</td>\n",
       "      <td>5</td>\n",
       "    </tr>\n",
       "    <tr>\n",
       "      <td>3</td>\n",
       "      <td>3</td>\n",
       "      <td>4</td>\n",
       "    </tr>\n",
       "    <tr>\n",
       "      <td>4</td>\n",
       "      <td>4</td>\n",
       "      <td>0</td>\n",
       "    </tr>\n",
       "  </tbody>\n",
       "</table>\n",
       "</div>"
      ],
      "text/plain": [
       "   Primary Type  cluster\n",
       "0             0        4\n",
       "1             1        4\n",
       "2             2        5\n",
       "3             3        4\n",
       "4             4        0"
      ]
     },
     "execution_count": 237,
     "metadata": {},
     "output_type": "execute_result"
    }
   ],
   "source": [
    "y2.columns = ['Primary Type', 'cluster', 'count']\n",
    "y2 = y2.drop('count',axis=1)\n",
    "y2.head()"
   ]
  },
  {
   "cell_type": "code",
   "execution_count": 239,
   "metadata": {},
   "outputs": [
    {
     "data": {
      "text/plain": [
       "array([ 0,  1,  2,  3,  4,  5,  6,  7,  8,  9, 10, 11, 12, 13, 14, 15, 16,\n",
       "       17, 18, 19, 20, 21, 22, 23, 24, 25, 26, 27, 28, 29, 30, 31, 32],\n",
       "      dtype=int64)"
      ]
     },
     "execution_count": 239,
     "metadata": {},
     "output_type": "execute_result"
    }
   ],
   "source": [
    "y2['Primary Type'].unique()"
   ]
  },
  {
   "cell_type": "code",
   "execution_count": 245,
   "metadata": {},
   "outputs": [
    {
     "name": "stdout",
     "output_type": "stream",
     "text": [
      "[ 0  1  2  3  4  5  6  7  8  9 10 11 12 13 14 15 16 17 18 19 20 21 22 23\n",
      " 24 25 26 27 28 29 30 31 32]\n"
     ]
    }
   ],
   "source": [
    "print(y['Primary Type'].sort_values(ascending=True).unique())"
   ]
  },
  {
   "cell_type": "code",
   "execution_count": null,
   "metadata": {},
   "outputs": [],
   "source": [
    "y2.set_index('Primary Type')"
   ]
  },
  {
   "cell_type": "code",
   "execution_count": 252,
   "metadata": {},
   "outputs": [
    {
     "ename": "MemoryError",
     "evalue": "",
     "output_type": "error",
     "traceback": [
      "\u001b[1;31m---------------------------------------------------------------------------\u001b[0m",
      "\u001b[1;31mMemoryError\u001b[0m                               Traceback (most recent call last)",
      "\u001b[1;32m<ipython-input-252-833e87736d93>\u001b[0m in \u001b[0;36m<module>\u001b[1;34m\u001b[0m\n\u001b[1;32m----> 1\u001b[1;33m \u001b[0my2\u001b[0m \u001b[1;33m=\u001b[0m \u001b[0my\u001b[0m\u001b[1;33m.\u001b[0m\u001b[0mmerge\u001b[0m\u001b[1;33m(\u001b[0m\u001b[0my2\u001b[0m\u001b[1;33m,\u001b[0m \u001b[0mon\u001b[0m\u001b[1;33m=\u001b[0m\u001b[1;34m'Primary Type'\u001b[0m\u001b[1;33m,\u001b[0m \u001b[0mhow\u001b[0m\u001b[1;33m=\u001b[0m\u001b[1;34m'left'\u001b[0m\u001b[1;33m)\u001b[0m\u001b[1;33m\u001b[0m\u001b[1;33m\u001b[0m\u001b[0m\n\u001b[0m",
      "\u001b[1;32m~\\Anaconda3\\lib\\site-packages\\pandas\\core\\frame.py\u001b[0m in \u001b[0;36mmerge\u001b[1;34m(self, right, how, on, left_on, right_on, left_index, right_index, sort, suffixes, copy, indicator, validate)\u001b[0m\n\u001b[0;32m   7332\u001b[0m             \u001b[0mcopy\u001b[0m\u001b[1;33m=\u001b[0m\u001b[0mcopy\u001b[0m\u001b[1;33m,\u001b[0m\u001b[1;33m\u001b[0m\u001b[1;33m\u001b[0m\u001b[0m\n\u001b[0;32m   7333\u001b[0m             \u001b[0mindicator\u001b[0m\u001b[1;33m=\u001b[0m\u001b[0mindicator\u001b[0m\u001b[1;33m,\u001b[0m\u001b[1;33m\u001b[0m\u001b[1;33m\u001b[0m\u001b[0m\n\u001b[1;32m-> 7334\u001b[1;33m             \u001b[0mvalidate\u001b[0m\u001b[1;33m=\u001b[0m\u001b[0mvalidate\u001b[0m\u001b[1;33m,\u001b[0m\u001b[1;33m\u001b[0m\u001b[1;33m\u001b[0m\u001b[0m\n\u001b[0m\u001b[0;32m   7335\u001b[0m         )\n\u001b[0;32m   7336\u001b[0m \u001b[1;33m\u001b[0m\u001b[0m\n",
      "\u001b[1;32m~\\Anaconda3\\lib\\site-packages\\pandas\\core\\reshape\\merge.py\u001b[0m in \u001b[0;36mmerge\u001b[1;34m(left, right, how, on, left_on, right_on, left_index, right_index, sort, suffixes, copy, indicator, validate)\u001b[0m\n\u001b[0;32m     81\u001b[0m         \u001b[0mvalidate\u001b[0m\u001b[1;33m=\u001b[0m\u001b[0mvalidate\u001b[0m\u001b[1;33m,\u001b[0m\u001b[1;33m\u001b[0m\u001b[1;33m\u001b[0m\u001b[0m\n\u001b[0;32m     82\u001b[0m     )\n\u001b[1;32m---> 83\u001b[1;33m     \u001b[1;32mreturn\u001b[0m \u001b[0mop\u001b[0m\u001b[1;33m.\u001b[0m\u001b[0mget_result\u001b[0m\u001b[1;33m(\u001b[0m\u001b[1;33m)\u001b[0m\u001b[1;33m\u001b[0m\u001b[1;33m\u001b[0m\u001b[0m\n\u001b[0m\u001b[0;32m     84\u001b[0m \u001b[1;33m\u001b[0m\u001b[0m\n\u001b[0;32m     85\u001b[0m \u001b[1;33m\u001b[0m\u001b[0m\n",
      "\u001b[1;32m~\\Anaconda3\\lib\\site-packages\\pandas\\core\\reshape\\merge.py\u001b[0m in \u001b[0;36mget_result\u001b[1;34m(self)\u001b[0m\n\u001b[0;32m    640\u001b[0m             \u001b[0mself\u001b[0m\u001b[1;33m.\u001b[0m\u001b[0mleft\u001b[0m\u001b[1;33m,\u001b[0m \u001b[0mself\u001b[0m\u001b[1;33m.\u001b[0m\u001b[0mright\u001b[0m \u001b[1;33m=\u001b[0m \u001b[0mself\u001b[0m\u001b[1;33m.\u001b[0m\u001b[0m_indicator_pre_merge\u001b[0m\u001b[1;33m(\u001b[0m\u001b[0mself\u001b[0m\u001b[1;33m.\u001b[0m\u001b[0mleft\u001b[0m\u001b[1;33m,\u001b[0m \u001b[0mself\u001b[0m\u001b[1;33m.\u001b[0m\u001b[0mright\u001b[0m\u001b[1;33m)\u001b[0m\u001b[1;33m\u001b[0m\u001b[1;33m\u001b[0m\u001b[0m\n\u001b[0;32m    641\u001b[0m \u001b[1;33m\u001b[0m\u001b[0m\n\u001b[1;32m--> 642\u001b[1;33m         \u001b[0mjoin_index\u001b[0m\u001b[1;33m,\u001b[0m \u001b[0mleft_indexer\u001b[0m\u001b[1;33m,\u001b[0m \u001b[0mright_indexer\u001b[0m \u001b[1;33m=\u001b[0m \u001b[0mself\u001b[0m\u001b[1;33m.\u001b[0m\u001b[0m_get_join_info\u001b[0m\u001b[1;33m(\u001b[0m\u001b[1;33m)\u001b[0m\u001b[1;33m\u001b[0m\u001b[1;33m\u001b[0m\u001b[0m\n\u001b[0m\u001b[0;32m    643\u001b[0m \u001b[1;33m\u001b[0m\u001b[0m\n\u001b[0;32m    644\u001b[0m         \u001b[0mldata\u001b[0m\u001b[1;33m,\u001b[0m \u001b[0mrdata\u001b[0m \u001b[1;33m=\u001b[0m \u001b[0mself\u001b[0m\u001b[1;33m.\u001b[0m\u001b[0mleft\u001b[0m\u001b[1;33m.\u001b[0m\u001b[0m_data\u001b[0m\u001b[1;33m,\u001b[0m \u001b[0mself\u001b[0m\u001b[1;33m.\u001b[0m\u001b[0mright\u001b[0m\u001b[1;33m.\u001b[0m\u001b[0m_data\u001b[0m\u001b[1;33m\u001b[0m\u001b[1;33m\u001b[0m\u001b[0m\n",
      "\u001b[1;32m~\\Anaconda3\\lib\\site-packages\\pandas\\core\\reshape\\merge.py\u001b[0m in \u001b[0;36m_get_join_info\u001b[1;34m(self)\u001b[0m\n\u001b[0;32m    857\u001b[0m             )\n\u001b[0;32m    858\u001b[0m         \u001b[1;32melse\u001b[0m\u001b[1;33m:\u001b[0m\u001b[1;33m\u001b[0m\u001b[1;33m\u001b[0m\u001b[0m\n\u001b[1;32m--> 859\u001b[1;33m             \u001b[1;33m(\u001b[0m\u001b[0mleft_indexer\u001b[0m\u001b[1;33m,\u001b[0m \u001b[0mright_indexer\u001b[0m\u001b[1;33m)\u001b[0m \u001b[1;33m=\u001b[0m \u001b[0mself\u001b[0m\u001b[1;33m.\u001b[0m\u001b[0m_get_join_indexers\u001b[0m\u001b[1;33m(\u001b[0m\u001b[1;33m)\u001b[0m\u001b[1;33m\u001b[0m\u001b[1;33m\u001b[0m\u001b[0m\n\u001b[0m\u001b[0;32m    860\u001b[0m \u001b[1;33m\u001b[0m\u001b[0m\n\u001b[0;32m    861\u001b[0m             \u001b[1;32mif\u001b[0m \u001b[0mself\u001b[0m\u001b[1;33m.\u001b[0m\u001b[0mright_index\u001b[0m\u001b[1;33m:\u001b[0m\u001b[1;33m\u001b[0m\u001b[1;33m\u001b[0m\u001b[0m\n",
      "\u001b[1;32m~\\Anaconda3\\lib\\site-packages\\pandas\\core\\reshape\\merge.py\u001b[0m in \u001b[0;36m_get_join_indexers\u001b[1;34m(self)\u001b[0m\n\u001b[0;32m    836\u001b[0m         \u001b[1;34m\"\"\" return the join indexers \"\"\"\u001b[0m\u001b[1;33m\u001b[0m\u001b[1;33m\u001b[0m\u001b[0m\n\u001b[0;32m    837\u001b[0m         return _get_join_indexers(\n\u001b[1;32m--> 838\u001b[1;33m             \u001b[0mself\u001b[0m\u001b[1;33m.\u001b[0m\u001b[0mleft_join_keys\u001b[0m\u001b[1;33m,\u001b[0m \u001b[0mself\u001b[0m\u001b[1;33m.\u001b[0m\u001b[0mright_join_keys\u001b[0m\u001b[1;33m,\u001b[0m \u001b[0msort\u001b[0m\u001b[1;33m=\u001b[0m\u001b[0mself\u001b[0m\u001b[1;33m.\u001b[0m\u001b[0msort\u001b[0m\u001b[1;33m,\u001b[0m \u001b[0mhow\u001b[0m\u001b[1;33m=\u001b[0m\u001b[0mself\u001b[0m\u001b[1;33m.\u001b[0m\u001b[0mhow\u001b[0m\u001b[1;33m\u001b[0m\u001b[1;33m\u001b[0m\u001b[0m\n\u001b[0m\u001b[0;32m    839\u001b[0m         )\n\u001b[0;32m    840\u001b[0m \u001b[1;33m\u001b[0m\u001b[0m\n",
      "\u001b[1;32m~\\Anaconda3\\lib\\site-packages\\pandas\\core\\reshape\\merge.py\u001b[0m in \u001b[0;36m_get_join_indexers\u001b[1;34m(left_keys, right_keys, sort, how, **kwargs)\u001b[0m\n\u001b[0;32m   1318\u001b[0m     \u001b[0mjoin_func\u001b[0m \u001b[1;33m=\u001b[0m \u001b[0m_join_functions\u001b[0m\u001b[1;33m[\u001b[0m\u001b[0mhow\u001b[0m\u001b[1;33m]\u001b[0m\u001b[1;33m\u001b[0m\u001b[1;33m\u001b[0m\u001b[0m\n\u001b[0;32m   1319\u001b[0m \u001b[1;33m\u001b[0m\u001b[0m\n\u001b[1;32m-> 1320\u001b[1;33m     \u001b[1;32mreturn\u001b[0m \u001b[0mjoin_func\u001b[0m\u001b[1;33m(\u001b[0m\u001b[0mlkey\u001b[0m\u001b[1;33m,\u001b[0m \u001b[0mrkey\u001b[0m\u001b[1;33m,\u001b[0m \u001b[0mcount\u001b[0m\u001b[1;33m,\u001b[0m \u001b[1;33m**\u001b[0m\u001b[0mkwargs\u001b[0m\u001b[1;33m)\u001b[0m\u001b[1;33m\u001b[0m\u001b[1;33m\u001b[0m\u001b[0m\n\u001b[0m\u001b[0;32m   1321\u001b[0m \u001b[1;33m\u001b[0m\u001b[0m\n\u001b[0;32m   1322\u001b[0m \u001b[1;33m\u001b[0m\u001b[0m\n",
      "\u001b[1;32mpandas\\_libs\\join.pyx\u001b[0m in \u001b[0;36mpandas._libs.join.left_outer_join\u001b[1;34m()\u001b[0m\n",
      "\u001b[1;31mMemoryError\u001b[0m: "
     ]
    }
   ],
   "source": [
    "y2 = y.merge(y2, on='Primary Type', how='left')\n"
   ]
  },
  {
   "cell_type": "code",
   "execution_count": 253,
   "metadata": {},
   "outputs": [],
   "source": [
    "# y2 = y2['cluster']\n",
    "y_input = y2['cluster']"
   ]
  },
  {
   "cell_type": "code",
   "execution_count": 255,
   "metadata": {},
   "outputs": [
    {
     "data": {
      "text/plain": [
       "0.7321719774162531"
      ]
     },
     "execution_count": 255,
     "metadata": {},
     "output_type": "execute_result"
    }
   ],
   "source": [
    "\n",
    "X_train, X_test, y_train, y_test = train_test_split(working_df2,y_input,test_size=0.2)\n",
    "model = RandomForestClassifier(n_estimators=15)\n",
    "model.fit(X_train, y_train)\n",
    "model.score(X_test, y_test)"
   ]
  },
  {
   "cell_type": "code",
   "execution_count": 259,
   "metadata": {},
   "outputs": [
    {
     "data": {
      "text/plain": [
       "0.733997365473616"
      ]
     },
     "execution_count": 259,
     "metadata": {},
     "output_type": "execute_result"
    }
   ],
   "source": [
    "X_train, X_test, y_train, y_test = train_test_split(working_df2,y_input,test_size=0.1)\n",
    "model = RandomForestClassifier(n_estimators=19)\n",
    "model.fit(X_train, y_train)\n",
    "model.score(X_test, y_test)"
   ]
  },
  {
   "cell_type": "code",
   "execution_count": 261,
   "metadata": {},
   "outputs": [
    {
     "name": "stdout",
     "output_type": "stream",
     "text": [
      "[0.73542475 0.73727106 0.72897999 0.70662863 0.71128487]\n"
     ]
    }
   ],
   "source": [
    "k_fold_summary = []\n",
    "model = RandomForestClassifier(n_estimators = 20, random_state = 0)\n",
    "scores = cross_val_score(model, X=working_df2, y=y_input, cv=5, n_jobs=6)\n",
    "# k_fold_summary.append((scores.mean()))\n",
    "print(scores)"
   ]
  },
  {
   "cell_type": "code",
   "execution_count": 262,
   "metadata": {},
   "outputs": [
    {
     "data": {
      "text/plain": [
       "0.7239178597673737"
      ]
     },
     "execution_count": 262,
     "metadata": {},
     "output_type": "execute_result"
    }
   ],
   "source": [
    "scores.mean()"
   ]
  },
  {
   "cell_type": "code",
   "execution_count": 258,
   "metadata": {},
   "outputs": [
    {
     "data": {
      "text/plain": [
       "0.981301136583768"
      ]
     },
     "execution_count": 258,
     "metadata": {},
     "output_type": "execute_result"
    }
   ],
   "source": [
    "X_train, X_test, y_train, y_test = train_test_split(X,y_input,test_size=0.2)\n",
    "model = RandomForestClassifier(n_estimators=15)\n",
    "model.fit(X_train, y_train)\n",
    "model.score(X_test, y_test)"
   ]
  },
  {
   "cell_type": "code",
   "execution_count": null,
   "metadata": {},
   "outputs": [],
   "source": [
    "X.head()"
   ]
  },
  {
   "cell_type": "code",
   "execution_count": null,
   "metadata": {},
   "outputs": [],
   "source": [
    "X_train, X_test, y_train, y_test = train_test_split(working_df2,y_input,test_size=0.2)\n",
    "model = RandomForestClassifier(n_estimators=31)\n",
    "model.fit(X_train, y_train)\n",
    "model.score(X_test, y_test)"
   ]
  },
  {
   "cell_type": "code",
   "execution_count": null,
   "metadata": {},
   "outputs": [],
   "source": []
  }
 ],
 "metadata": {
  "kernelspec": {
   "display_name": "Python 3",
   "language": "python",
   "name": "python3"
  },
  "language_info": {
   "codemirror_mode": {
    "name": "ipython",
    "version": 3
   },
   "file_extension": ".py",
   "mimetype": "text/x-python",
   "name": "python",
   "nbconvert_exporter": "python",
   "pygments_lexer": "ipython3",
   "version": "3.7.4"
  }
 },
 "nbformat": 4,
 "nbformat_minor": 2
}
