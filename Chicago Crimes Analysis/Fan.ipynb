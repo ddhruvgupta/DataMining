{
 "cells": [
  {
   "cell_type": "code",
   "execution_count": null,
   "metadata": {},
   "outputs": [],
   "source": []
  },
  {
   "cell_type": "code",
   "execution_count": 79,
   "metadata": {},
   "outputs": [],
   "source": [
    "import pandas as pd\n",
    "import numpy as np"
   ]
  },
  {
   "cell_type": "code",
   "execution_count": 80,
   "metadata": {},
   "outputs": [],
   "source": [
    "import graphviz\n",
    "from matplotlib import pyplot as plt\n",
    "import numpy as np\n",
    "import pandas as pd \n",
    "import seaborn as sns\n",
    "from scipy import misc\n",
    "from sklearn import tree\n",
    "from sklearn.metrics import accuracy_score\n",
    "from sklearn.model_selection import train_test_split\n",
    "from sklearn.tree import DecisionTreeClassifier, export_graphviz"
   ]
  },
  {
   "cell_type": "code",
   "execution_count": 81,
   "metadata": {},
   "outputs": [],
   "source": [
    "df = pd.read_csv(\"C:\\\\Users\\\\Fan_2019\\\\Downloads\\\\Data Mining\\\\Project\\\\Chicago_Crimes_2012_to_2017.csv\")"
   ]
  },
  {
   "cell_type": "code",
   "execution_count": 82,
   "metadata": {},
   "outputs": [
    {
     "data": {
      "text/html": [
       "<div>\n",
       "<style scoped>\n",
       "    .dataframe tbody tr th:only-of-type {\n",
       "        vertical-align: middle;\n",
       "    }\n",
       "\n",
       "    .dataframe tbody tr th {\n",
       "        vertical-align: top;\n",
       "    }\n",
       "\n",
       "    .dataframe thead th {\n",
       "        text-align: right;\n",
       "    }\n",
       "</style>\n",
       "<table border=\"1\" class=\"dataframe\">\n",
       "  <thead>\n",
       "    <tr style=\"text-align: right;\">\n",
       "      <th></th>\n",
       "      <th>Unnamed: 0</th>\n",
       "      <th>ID</th>\n",
       "      <th>Case Number</th>\n",
       "      <th>Date</th>\n",
       "      <th>Block</th>\n",
       "      <th>IUCR</th>\n",
       "      <th>Primary Type</th>\n",
       "      <th>Description</th>\n",
       "      <th>Location Description</th>\n",
       "      <th>Arrest</th>\n",
       "      <th>...</th>\n",
       "      <th>Ward</th>\n",
       "      <th>Community Area</th>\n",
       "      <th>FBI Code</th>\n",
       "      <th>X Coordinate</th>\n",
       "      <th>Y Coordinate</th>\n",
       "      <th>Year</th>\n",
       "      <th>Updated On</th>\n",
       "      <th>Latitude</th>\n",
       "      <th>Longitude</th>\n",
       "      <th>Location</th>\n",
       "    </tr>\n",
       "  </thead>\n",
       "  <tbody>\n",
       "    <tr>\n",
       "      <th>0</th>\n",
       "      <td>3</td>\n",
       "      <td>10508693</td>\n",
       "      <td>HZ250496</td>\n",
       "      <td>05/03/2016 11:40:00 PM</td>\n",
       "      <td>013XX S SAWYER AVE</td>\n",
       "      <td>0486</td>\n",
       "      <td>BATTERY</td>\n",
       "      <td>DOMESTIC BATTERY SIMPLE</td>\n",
       "      <td>APARTMENT</td>\n",
       "      <td>True</td>\n",
       "      <td>...</td>\n",
       "      <td>24.0</td>\n",
       "      <td>29.0</td>\n",
       "      <td>08B</td>\n",
       "      <td>1154907.0</td>\n",
       "      <td>1893681.0</td>\n",
       "      <td>2016</td>\n",
       "      <td>05/10/2016 03:56:50 PM</td>\n",
       "      <td>41.864073</td>\n",
       "      <td>-87.706819</td>\n",
       "      <td>(41.864073157, -87.706818608)</td>\n",
       "    </tr>\n",
       "    <tr>\n",
       "      <th>1</th>\n",
       "      <td>89</td>\n",
       "      <td>10508695</td>\n",
       "      <td>HZ250409</td>\n",
       "      <td>05/03/2016 09:40:00 PM</td>\n",
       "      <td>061XX S DREXEL AVE</td>\n",
       "      <td>0486</td>\n",
       "      <td>BATTERY</td>\n",
       "      <td>DOMESTIC BATTERY SIMPLE</td>\n",
       "      <td>RESIDENCE</td>\n",
       "      <td>False</td>\n",
       "      <td>...</td>\n",
       "      <td>20.0</td>\n",
       "      <td>42.0</td>\n",
       "      <td>08B</td>\n",
       "      <td>1183066.0</td>\n",
       "      <td>1864330.0</td>\n",
       "      <td>2016</td>\n",
       "      <td>05/10/2016 03:56:50 PM</td>\n",
       "      <td>41.782922</td>\n",
       "      <td>-87.604363</td>\n",
       "      <td>(41.782921527, -87.60436317)</td>\n",
       "    </tr>\n",
       "    <tr>\n",
       "      <th>2</th>\n",
       "      <td>197</td>\n",
       "      <td>10508697</td>\n",
       "      <td>HZ250503</td>\n",
       "      <td>05/03/2016 11:31:00 PM</td>\n",
       "      <td>053XX W CHICAGO AVE</td>\n",
       "      <td>0470</td>\n",
       "      <td>PUBLIC PEACE VIOLATION</td>\n",
       "      <td>RECKLESS CONDUCT</td>\n",
       "      <td>STREET</td>\n",
       "      <td>False</td>\n",
       "      <td>...</td>\n",
       "      <td>37.0</td>\n",
       "      <td>25.0</td>\n",
       "      <td>24</td>\n",
       "      <td>1140789.0</td>\n",
       "      <td>1904819.0</td>\n",
       "      <td>2016</td>\n",
       "      <td>05/10/2016 03:56:50 PM</td>\n",
       "      <td>41.894908</td>\n",
       "      <td>-87.758372</td>\n",
       "      <td>(41.894908283, -87.758371958)</td>\n",
       "    </tr>\n",
       "    <tr>\n",
       "      <th>3</th>\n",
       "      <td>673</td>\n",
       "      <td>10508698</td>\n",
       "      <td>HZ250424</td>\n",
       "      <td>05/03/2016 10:10:00 PM</td>\n",
       "      <td>049XX W FULTON ST</td>\n",
       "      <td>0460</td>\n",
       "      <td>BATTERY</td>\n",
       "      <td>SIMPLE</td>\n",
       "      <td>SIDEWALK</td>\n",
       "      <td>False</td>\n",
       "      <td>...</td>\n",
       "      <td>28.0</td>\n",
       "      <td>25.0</td>\n",
       "      <td>08B</td>\n",
       "      <td>1143223.0</td>\n",
       "      <td>1901475.0</td>\n",
       "      <td>2016</td>\n",
       "      <td>05/10/2016 03:56:50 PM</td>\n",
       "      <td>41.885687</td>\n",
       "      <td>-87.749516</td>\n",
       "      <td>(41.885686845, -87.749515983)</td>\n",
       "    </tr>\n",
       "    <tr>\n",
       "      <th>4</th>\n",
       "      <td>911</td>\n",
       "      <td>10508699</td>\n",
       "      <td>HZ250455</td>\n",
       "      <td>05/03/2016 10:00:00 PM</td>\n",
       "      <td>003XX N LOTUS AVE</td>\n",
       "      <td>0820</td>\n",
       "      <td>THEFT</td>\n",
       "      <td>$500 AND UNDER</td>\n",
       "      <td>RESIDENCE</td>\n",
       "      <td>False</td>\n",
       "      <td>...</td>\n",
       "      <td>28.0</td>\n",
       "      <td>25.0</td>\n",
       "      <td>06</td>\n",
       "      <td>1139890.0</td>\n",
       "      <td>1901675.0</td>\n",
       "      <td>2016</td>\n",
       "      <td>05/10/2016 03:56:50 PM</td>\n",
       "      <td>41.886297</td>\n",
       "      <td>-87.761751</td>\n",
       "      <td>(41.886297242, -87.761750709)</td>\n",
       "    </tr>\n",
       "  </tbody>\n",
       "</table>\n",
       "<p>5 rows × 23 columns</p>\n",
       "</div>"
      ],
      "text/plain": [
       "   Unnamed: 0        ID Case Number                    Date  \\\n",
       "0           3  10508693    HZ250496  05/03/2016 11:40:00 PM   \n",
       "1          89  10508695    HZ250409  05/03/2016 09:40:00 PM   \n",
       "2         197  10508697    HZ250503  05/03/2016 11:31:00 PM   \n",
       "3         673  10508698    HZ250424  05/03/2016 10:10:00 PM   \n",
       "4         911  10508699    HZ250455  05/03/2016 10:00:00 PM   \n",
       "\n",
       "                 Block  IUCR            Primary Type              Description  \\\n",
       "0   013XX S SAWYER AVE  0486                 BATTERY  DOMESTIC BATTERY SIMPLE   \n",
       "1   061XX S DREXEL AVE  0486                 BATTERY  DOMESTIC BATTERY SIMPLE   \n",
       "2  053XX W CHICAGO AVE  0470  PUBLIC PEACE VIOLATION         RECKLESS CONDUCT   \n",
       "3    049XX W FULTON ST  0460                 BATTERY                   SIMPLE   \n",
       "4    003XX N LOTUS AVE  0820                   THEFT           $500 AND UNDER   \n",
       "\n",
       "  Location Description  Arrest  ...  Ward  Community Area  FBI Code  \\\n",
       "0            APARTMENT    True  ...  24.0            29.0       08B   \n",
       "1            RESIDENCE   False  ...  20.0            42.0       08B   \n",
       "2               STREET   False  ...  37.0            25.0        24   \n",
       "3             SIDEWALK   False  ...  28.0            25.0       08B   \n",
       "4            RESIDENCE   False  ...  28.0            25.0        06   \n",
       "\n",
       "   X Coordinate  Y Coordinate  Year              Updated On   Latitude  \\\n",
       "0     1154907.0     1893681.0  2016  05/10/2016 03:56:50 PM  41.864073   \n",
       "1     1183066.0     1864330.0  2016  05/10/2016 03:56:50 PM  41.782922   \n",
       "2     1140789.0     1904819.0  2016  05/10/2016 03:56:50 PM  41.894908   \n",
       "3     1143223.0     1901475.0  2016  05/10/2016 03:56:50 PM  41.885687   \n",
       "4     1139890.0     1901675.0  2016  05/10/2016 03:56:50 PM  41.886297   \n",
       "\n",
       "   Longitude                       Location  \n",
       "0 -87.706819  (41.864073157, -87.706818608)  \n",
       "1 -87.604363   (41.782921527, -87.60436317)  \n",
       "2 -87.758372  (41.894908283, -87.758371958)  \n",
       "3 -87.749516  (41.885686845, -87.749515983)  \n",
       "4 -87.761751  (41.886297242, -87.761750709)  \n",
       "\n",
       "[5 rows x 23 columns]"
      ]
     },
     "execution_count": 82,
     "metadata": {},
     "output_type": "execute_result"
    }
   ],
   "source": [
    "df.head()"
   ]
  },
  {
   "cell_type": "code",
   "execution_count": 83,
   "metadata": {},
   "outputs": [
    {
     "data": {
      "text/plain": [
       "array(['013XX S SAWYER AVE', '061XX S DREXEL AVE', '053XX W CHICAGO AVE',\n",
       "       ..., '041XX N Troy St', '016XX W Superior St', '000XX W 79TH ST'],\n",
       "      dtype=object)"
      ]
     },
     "execution_count": 83,
     "metadata": {},
     "output_type": "execute_result"
    }
   ],
   "source": [
    "#Block - The partially redacted address where the incident occurred, placing it on the same block as the actual address.\n",
    "df['Block'].unique()"
   ]
  },
  {
   "cell_type": "code",
   "execution_count": 84,
   "metadata": {},
   "outputs": [
    {
     "data": {
      "text/plain": [
       "array(['BATTERY', 'PUBLIC PEACE VIOLATION', 'THEFT', 'WEAPONS VIOLATION',\n",
       "       'ROBBERY', 'MOTOR VEHICLE THEFT', 'ASSAULT', 'OTHER OFFENSE',\n",
       "       'DECEPTIVE PRACTICE', 'CRIMINAL DAMAGE', 'CRIMINAL TRESPASS',\n",
       "       'BURGLARY', 'STALKING', 'CRIM SEXUAL ASSAULT', 'NARCOTICS',\n",
       "       'SEX OFFENSE', 'OBSCENITY', 'OFFENSE INVOLVING CHILDREN',\n",
       "       'KIDNAPPING', 'HOMICIDE', 'INTERFERENCE WITH PUBLIC OFFICER',\n",
       "       'PROSTITUTION', 'GAMBLING', 'INTIMIDATION', 'ARSON',\n",
       "       'LIQUOR LAW VIOLATION', 'NON-CRIMINAL', 'PUBLIC INDECENCY',\n",
       "       'HUMAN TRAFFICKING', 'CONCEALED CARRY LICENSE VIOLATION',\n",
       "       'NON - CRIMINAL', 'OTHER NARCOTIC VIOLATION',\n",
       "       'NON-CRIMINAL (SUBJECT SPECIFIED)'], dtype=object)"
      ]
     },
     "execution_count": 84,
     "metadata": {},
     "output_type": "execute_result"
    }
   ],
   "source": [
    "#Primary Type - The primary description of the IUCR code.\n",
    "df['Primary Type'].unique()"
   ]
  },
  {
   "cell_type": "code",
   "execution_count": 85,
   "metadata": {},
   "outputs": [],
   "source": [
    "# df['Primary Type'] = df['Primary Type'].replace({\n",
    "#     'BATTERY':0,\n",
    "#     'PUBLIC PEACE VIOLATION':1,\n",
    "#     'THEFT':2,\n",
    "#     'WEAPONS VIOLATION':3,\n",
    "#     'ROBBERY':4, \n",
    "#     'MOTOR VEHICLE THEFT':5,\n",
    "#     'ASSAULT':6,\n",
    "#     'OTHER OFFENSE':7,\n",
    "#     'DECEPTIVE PRACTICE':8,\n",
    "#     'CRIMINAL DAMAGE':9,\n",
    "#     'CRIMINAL TRESPASS':10,\n",
    "#     'BURGLARY':11,\n",
    "#     'STALKING':12,\n",
    "#     'CRIM SEXUAL ASSAULT':13,\n",
    "#     'NARCOTICS':14,\n",
    "#     'SEX OFFENSE':15,\n",
    "#     'OBSCENITY':16,\n",
    "#     'OFFENSE INVOLVING CHILDREN':17,\n",
    "#     'KIDNAPPING':18,\n",
    "#     'HOMICIDE':19,\n",
    "#     'INTERFERENCE WITH PUBLIC OFFICER':20,\n",
    "#     'PROSTITUTION':21,\n",
    "#     'GAMBLING':22,\n",
    "#     'INTIMIDATION':23,\n",
    "#     'ARSON':24,\n",
    "#     'LIQUOR LAW VIOLATION':25,\n",
    "#     'NON-CRIMINAL':26,\n",
    "#     'PUBLIC INDECENCY':27,\n",
    "#     'HUMAN TRAFFICKING':28,\n",
    "#     'CONCEALED CARRY LICENSE VIOLATION':29,\n",
    "#     'NON - CRIMINAL':30,\n",
    "#     'OTHER NARCOTIC VIOLATION':31,\n",
    "#     'NON-CRIMINAL (SUBJECT SPECIFIED)':32\n",
    "# })\n"
   ]
  },
  {
   "cell_type": "code",
   "execution_count": 86,
   "metadata": {},
   "outputs": [],
   "source": [
    "# df['Primary Type'] = df['Primary Type'].replace({\n",
    "#     'BATTERY':0,\n",
    "#     'PUBLIC PEACE VIOLATION':0,\n",
    "#     'THEFT':0,\n",
    "#     'WEAPONS VIOLATION':1,\n",
    "#     'ROBBERY':1, \n",
    "#     'MOTOR VEHICLE THEFT':0,\n",
    "#     'ASSAULT':0,\n",
    "#     'OTHER OFFENSE':0,\n",
    "#     'DECEPTIVE PRACTICE':0,\n",
    "#     'CRIMINAL DAMAGE':0,\n",
    "#     'CRIMINAL TRESPASS':0,\n",
    "#     'BURGLARY':0,\n",
    "#     'STALKING':0,\n",
    "#     'CRIM SEXUAL ASSAULT':1,\n",
    "#     'NARCOTICS':0,\n",
    "#     'SEX OFFENSE':1,\n",
    "#     'OBSCENITY':1,\n",
    "#     'OFFENSE INVOLVING CHILDREN':1,\n",
    "#     'KIDNAPPING':1,\n",
    "#     'HOMICIDE':1,\n",
    "#     'INTERFERENCE WITH PUBLIC OFFICER':1,\n",
    "#     'PROSTITUTION':0,\n",
    "#     'GAMBLING':0,\n",
    "#     'INTIMIDATION':0,\n",
    "#     'ARSON':1,\n",
    "#     'LIQUOR LAW VIOLATION':0,\n",
    "#     'NON-CRIMINAL':0,\n",
    "#     'PUBLIC INDECENCY':0,\n",
    "#     'HUMAN TRAFFICKING':1,\n",
    "#     'CONCEALED CARRY LICENSE VIOLATION':0,\n",
    "#     'NON - CRIMINAL':0,\n",
    "#     'OTHER NARCOTIC VIOLATION':0,\n",
    "#     'NON-CRIMINAL (SUBJECT SPECIFIED)':0\n",
    "# })\n"
   ]
  },
  {
   "cell_type": "code",
   "execution_count": 87,
   "metadata": {},
   "outputs": [],
   "source": [
    "df['Primary Type'] = df['Primary Type'].replace({    \n",
    "'ROBBERY':0,\n",
    "'THEFT':0,\n",
    "'BURGLARY':0,\n",
    "'ARSON':1,\n",
    "'BATTERY':1,\n",
    "'ASSAULT':1,\n",
    "'KIDNAPPING':1,\n",
    "'HOMICIDE':1,\n",
    "'MOTOR VEHICLE THEFT':2,\n",
    "'CRIMINAL DAMAGE':2,\n",
    "'CRIMINAL TRESPASS':2,\n",
    "'PUBLIC PEACE VIOLATION':2,\n",
    "'DECEPTIVE PRACTICE':2,\n",
    "'INTERFERENCE WITH PUBLIC OFFICER':2,\n",
    "'INTIMIDATION':2,\n",
    "'STALKING':3,\n",
    "'CRIM SEXUAL ASSAULT':3,\n",
    "'NARCOTICS':3,\n",
    "'SEX OFFENSE':3,\n",
    "'OBSCENITY':3,\n",
    "'OFFENSE INVOLVING CHILDREN':3,\n",
    "'PROSTITUTION':3,\n",
    "'PUBLIC INDECENCY':3,\n",
    "'HUMAN TRAFFICKING':3,\n",
    "'WEAPONS VIOLATION':4,\n",
    "'LIQUOR LAW VIOLATION':4,   \n",
    "'CONCEALED CARRY LICENSE VIOLATION':4,\n",
    "'GAMBLING':4,\n",
    "'NARCOTICS':4,\n",
    "'OTHER NARCOTIC VIOLATION':4,\n",
    "'NON-CRIMINAL':5,\n",
    "'OTHER OFFENSE':5,   \n",
    "'NON-CRIMINAL (SUBJECT SPECIFIED)':5,\n",
    "'NON - CRIMINAL':5\n",
    "})"
   ]
  },
  {
   "cell_type": "code",
   "execution_count": 88,
   "metadata": {
    "scrolled": false
   },
   "outputs": [],
   "source": [
    "# #Description - The secondary description of the IUCR code, a subcategory of the primary description.\n",
    "# df['Description'].unique()"
   ]
  },
  {
   "cell_type": "code",
   "execution_count": 89,
   "metadata": {},
   "outputs": [
    {
     "data": {
      "text/plain": [
       "array(['APARTMENT', 'RESIDENCE', 'STREET', 'SIDEWALK',\n",
       "       'CHA HALLWAY/STAIRWELL/ELEVATOR', 'RESIDENCE PORCH/HALLWAY',\n",
       "       'VEHICLE NON-COMMERCIAL', 'OTHER', 'RESIDENCE-GARAGE',\n",
       "       'VEHICLE-COMMERCIAL', 'PARKING LOT/GARAGE(NON.RESID.)',\n",
       "       'SCHOOL, PUBLIC, GROUNDS', 'CHA PARKING LOT/GROUNDS',\n",
       "       'MEDICAL/DENTAL OFFICE', 'RESTAURANT', 'SMALL RETAIL STORE',\n",
       "       'CTA TRAIN', 'SCHOOL, PUBLIC, BUILDING',\n",
       "       'HOSPITAL BUILDING/GROUNDS', 'DRUG STORE',\n",
       "       'RESIDENTIAL YARD (FRONT/BACK)', 'GROCERY FOOD STORE', nan,\n",
       "       'COLLEGE/UNIVERSITY GROUNDS', 'BANK', 'BAR OR TAVERN',\n",
       "       'ATHLETIC CLUB', 'SPORTS ARENA/STADIUM', 'PARK PROPERTY',\n",
       "       'NURSING HOME/RETIREMENT HOME', 'ATM (AUTOMATIC TELLER MACHINE)',\n",
       "       'COMMERCIAL / BUSINESS OFFICE', 'ALLEY', 'VACANT LOT/LAND',\n",
       "       'GAS STATION', 'POLICE FACILITY/VEH PARKING LOT', 'HOTEL/MOTEL',\n",
       "       'LIBRARY', 'TAXICAB', 'SCHOOL, PRIVATE, GROUNDS',\n",
       "       'HIGHWAY/EXPRESSWAY', 'CONVENIENCE STORE', 'TAVERN/LIQUOR STORE',\n",
       "       'ABANDONED BUILDING', 'CTA BUS', 'DEPARTMENT STORE', 'CTA STATION',\n",
       "       'CTA PLATFORM', 'OTHER COMMERCIAL TRANSPORTATION', 'CHA APARTMENT',\n",
       "       'ANIMAL HOSPITAL', 'DRIVEWAY - RESIDENTIAL', 'BARBERSHOP',\n",
       "       'CHURCH/SYNAGOGUE/PLACE OF WORSHIP', 'SCHOOL, PRIVATE, BUILDING',\n",
       "       'YARD', 'GOVERNMENT BUILDING/PROPERTY', 'AIRPORT/AIRCRAFT',\n",
       "       'CTA GARAGE / OTHER PROPERTY',\n",
       "       'AIRPORT TERMINAL LOWER LEVEL - NON-SECURE AREA',\n",
       "       'CURRENCY EXCHANGE', 'AIRPORT TERMINAL UPPER LEVEL - SECURE AREA',\n",
       "       'VEHICLE - OTHER RIDE SERVICE', 'WAREHOUSE', 'CONSTRUCTION SITE',\n",
       "       'CTA BUS STOP', 'DAY CARE CENTER', 'PAWN SHOP',\n",
       "       'MOVIE HOUSE/THEATER', 'AIRPORT EXTERIOR - NON-SECURE AREA',\n",
       "       'CAR WASH', 'OTHER RAILROAD PROP / TRAIN DEPOT', 'POOL ROOM',\n",
       "       'AUTO', 'AIRPORT BUILDING NON-TERMINAL - NON-SECURE AREA',\n",
       "       'AIRPORT BUILDING NON-TERMINAL - SECURE AREA', 'BRIDGE',\n",
       "       'APPLIANCE STORE', 'CLEANING STORE', 'HOUSE',\n",
       "       'VEHICLE - DELIVERY TRUCK', 'AIRPORT PARKING LOT', 'FIRE STATION',\n",
       "       'AIRPORT VENDING ESTABLISHMENT', 'LAKEFRONT/WATERFRONT/RIVERBANK',\n",
       "       'COLLEGE/UNIVERSITY RESIDENCE HALL', 'CREDIT UNION',\n",
       "       'AIRPORT TERMINAL MEZZANINE - NON-SECURE AREA', 'FEDERAL BUILDING',\n",
       "       'AIRPORT TERMINAL LOWER LEVEL - SECURE AREA',\n",
       "       'FACTORY/MANUFACTURING BUILDING', 'PORCH',\n",
       "       'AIRPORT EXTERIOR - SECURE AREA', 'SAVINGS AND LOAN',\n",
       "       'JAIL / LOCK-UP FACILITY', 'PARKING LOT', 'AIRCRAFT',\n",
       "       'AIRPORT TERMINAL UPPER LEVEL - NON-SECURE AREA',\n",
       "       'BOAT/WATERCRAFT', 'BARBER SHOP/BEAUTY SALON',\n",
       "       'COIN OPERATED MACHINE', 'AIRPORT TRANSPORTATION SYSTEM (ATS)',\n",
       "       'CEMETARY', 'FOREST PRESERVE', 'BOWLING ALLEY',\n",
       "       'CTA TRACKS - RIGHT OF WAY', 'NEWSSTAND', 'DELIVERY TRUCK',\n",
       "       'GARAGE', 'HOSPITAL', 'ELEVATOR', 'RAILROAD PROPERTY', 'HALLWAY',\n",
       "       'RETAIL STORE', 'CLEANERS/LAUNDROMAT', 'VACANT LOT',\n",
       "       'EXPRESSWAY EMBANKMENT', 'GAS STATION DRIVE/PROP.',\n",
       "       'PUBLIC HIGH SCHOOL', 'TAXI CAB', 'GANGWAY', 'LIQUOR STORE',\n",
       "       'CHA PARKING LOT', 'BASEMENT', 'HOTEL', 'VESTIBULE', 'SCHOOL YARD',\n",
       "       'CHURCH PROPERTY', 'GARAGE/AUTO REPAIR', 'CTA \"L\" PLATFORM',\n",
       "       'CLUB', 'MOTEL', 'TAVERN', 'STAIRWELL', 'NURSING HOME', 'DRIVEWAY',\n",
       "       'GOVERNMENT BUILDING', 'OFFICE', 'TRUCK', 'POOLROOM',\n",
       "       'CTA \"L\" TRAIN', 'LAUNDRY ROOM', 'LAGOON'], dtype=object)"
      ]
     },
     "execution_count": 89,
     "metadata": {},
     "output_type": "execute_result"
    }
   ],
   "source": [
    "#Location Description - Description of the location where the incident occurred.\n",
    "df['Location Description'].unique()"
   ]
  },
  {
   "cell_type": "code",
   "execution_count": 90,
   "metadata": {},
   "outputs": [],
   "source": [
    "df['Location Description'] = df['Location Description'].replace({\n",
    "    'APARTMENT':1,\n",
    "    'RESIDENCE':1,\n",
    "    'STREET':0,\n",
    "    'SIDEWALK':0,\n",
    "    'CHA HALLWAY/STAIRWELL/ELEVATOR':0,\n",
    "    'RESIDENCE PORCH/HALLWAY':0,\n",
    "    'VEHICLE NON-COMMERCIAL':1,\n",
    "    'OTHER':0,\n",
    "    'RESIDENCE-GARAGE':1,\n",
    "    'VEHICLE-COMMERCIAL':1,\n",
    "    'PARKING LOT/GARAGE(NON.RESID.)':1,\n",
    "    'SCHOOL, PUBLIC, GROUNDS':0, \n",
    "    'CHA PARKING LOT/GROUNDS':0,\n",
    "    'MEDICAL/DENTAL OFFICE':1, \n",
    "    'RESTAURANT':0, \n",
    "    'SMALL RETAIL STORE':1,\n",
    "    'CTA TRAIN':0, \n",
    "    'SCHOOL, PUBLIC, BUILDING':0,\n",
    "    'HOSPITAL BUILDING/GROUNDS':0, \n",
    "    'DRUG STORE':0,\n",
    "    'RESIDENTIAL YARD (FRONT/BACK)':0, \n",
    "    'GROCERY FOOD STORE':0,\n",
    " \n",
    "    'COLLEGE/UNIVERSITY GROUNDS':0, \n",
    "    'BANK':0, \n",
    "    'BAR OR TAVERN':0,\n",
    "    'ATHLETIC CLUB':0, \n",
    "    'SPORTS ARENA/STADIUM':0, \n",
    "    'PARK PROPERTY':0,\n",
    "    'NURSING HOME/RETIREMENT HOME':0,\n",
    "    'ATM (AUTOMATIC TELLER MACHINE)':0,\n",
    "    'COMMERCIAL / BUSINESS OFFICE':1, \n",
    "    'ALLEY':0, \n",
    "    'VACANT LOT/LAND':0,\n",
    "    'GAS STATION':0, \n",
    "    'POLICE FACILITY/VEH PARKING LOT':0, \n",
    "    'HOTEL/MOTEL':1,\n",
    "    'LIBRARY':0, \n",
    "    'TAXICAB':0, \n",
    "    'SCHOOL, PRIVATE, GROUNDS':1,\n",
    "    'HIGHWAY/EXPRESSWAY':0,\n",
    "    'CONVENIENCE STORE':0,\n",
    "    'TAVERN/LIQUOR STORE':0,\n",
    "    'ABANDONED BUILDING':0,\n",
    "        'CTA BUS':0,\n",
    "    'DEPARTMENT STORE':0,\n",
    "    'CTA STATION':0,\n",
    "    'CTA PLATFORM':0,\n",
    "    'OTHER COMMERCIAL TRANSPORTATION':0,\n",
    "        'CHA APARTMENT':0,\n",
    "    'ANIMAL HOSPITAL':0,\n",
    "    'DRIVEWAY - RESIDENTIAL':0,\n",
    "    'BARBERSHOP':0,\n",
    "    'CHURCH/SYNAGOGUE/PLACE OF WORSHIP':0,\n",
    "    'SCHOOL, PRIVATE, BUILDING':1,\n",
    "    'YARD':0,\n",
    "    'GOVERNMENT BUILDING/PROPERTY':0,\n",
    "    'AIRPORT/AIRCRAFT':0,\n",
    "    'CTA GARAGE / OTHER PROPERTY':1,\n",
    "    'AIRPORT TERMINAL LOWER LEVEL - NON-SECURE AREA':0,\n",
    "    'CURRENCY EXCHANGE':0,\n",
    "    'AIRPORT TERMINAL UPPER LEVEL - SECURE AREA':1,\n",
    "    'VEHICLE - OTHER RIDE SERVICE':0,\n",
    "    'WAREHOUSE':1,\n",
    "    'CONSTRUCTION SITE':1,\n",
    "        'CTA BUS STOP':0,\n",
    "    'DAY CARE CENTER':0,\n",
    "    'PAWN SHOP':0,\n",
    "    'MOVIE HOUSE/THEATER':1,\n",
    "    'AIRPORT EXTERIOR - NON-SECURE AREA':0,\n",
    "    'CAR WASH':0,\n",
    "    'OTHER RAILROAD PROP / TRAIN DEPOT':0,\n",
    "    'POOL ROOM':1,\n",
    "    'AUTO':1,\n",
    "    'AIRPORT BUILDING NON-TERMINAL - NON-SECURE AREA':0,\n",
    "    'AIRPORT BUILDING NON-TERMINAL - SECURE AREA':1,\n",
    "    'BRIDGE':0,\n",
    "    'APPLIANCE STORE':0,\n",
    "    'CLEANING STORE':0,\n",
    "    'HOUSE':1,\n",
    "    'VEHICLE - DELIVERY TRUCK':1,\n",
    "    'AIRPORT PARKING LOT':0,\n",
    "    'FIRE STATION':0,\n",
    "    'AIRPORT VENDING ESTABLISHMENT':0,\n",
    "    'LAKEFRONT/WATERFRONT/RIVERBANK':0,\n",
    "    'COLLEGE/UNIVERSITY RESIDENCE HALL':0,\n",
    "        'CREDIT UNION':0,\n",
    "    'AIRPORT TERMINAL MEZZANINE - NON-SECURE AREA':0,\n",
    "    'FEDERAL BUILDING':0,\n",
    "    'AIRPORT TERMINAL LOWER LEVEL - SECURE AREA':1,\n",
    "    'FACTORY/MANUFACTURING BUILDING':0,\n",
    "    'PORCH':1,\n",
    "    'AIRPORT EXTERIOR - SECURE AREA':1,\n",
    "    'SAVINGS AND LOAN':0,\n",
    "    'JAIL / LOCK-UP FACILITY':0,\n",
    "    'PARKING LOT':0, \n",
    "    'AIRCRAFT':0,\n",
    "    'AIRPORT TERMINAL UPPER LEVEL - NON-SECURE AREA':0,\n",
    "    'BOAT/WATERCRAFT':0,\n",
    "    'BARBER SHOP/BEAUTY SALON':0,\n",
    "    'COIN OPERATED MACHINE':0,\n",
    "    'AIRPORT TRANSPORTATION SYSTEM (ATS)':0,\n",
    "    'CEMETARY':0,\n",
    "    'FOREST PRESERVE':0,\n",
    "    'BOWLING ALLEY':0,\n",
    "    'CTA TRACKS - RIGHT OF WAY':0,\n",
    "    'NEWSSTAND':0,\n",
    "    'DELIVERY TRUCK':0,\n",
    "    'GARAGE':1,\n",
    "    'HOSPITAL':0,\n",
    "    'ELEVATOR':0,\n",
    "    'RAILROAD PROPERTY':0,\n",
    "    'HALLWAY':0,\n",
    "    'RETAIL STORE':0,\n",
    "    'CLEANERS/LAUNDROMAT':0,\n",
    "    'VACANT LOT':0,\n",
    "    'EXPRESSWAY EMBANKMENT':0,\n",
    "    'GAS STATION DRIVE/PROP.':0,\n",
    "    'PUBLIC HIGH SCHOOL':0,\n",
    "    'TAXI CAB':0,\n",
    "    'GANGWAY':0,\n",
    "    'LIQUOR STORE':0,\n",
    "    'CHA PARKING LOT':0,\n",
    "    'BASEMENT':1, \n",
    "    'HOTEL':1,\n",
    "    'VESTIBULE':0,\n",
    "    'SCHOOL YARD':0,\n",
    "    'CHURCH PROPERTY':0,\n",
    "    'GARAGE/AUTO REPAIR':1,\n",
    "    'CTA \"L\" PLATFORM':0,\n",
    "    'CLUB':1,\n",
    "    'MOTEL':1,\n",
    "    'TAVERN':0,\n",
    "    'STAIRWELL':1,\n",
    "    'NURSING HOME':0,\n",
    "    'DRIVEWAY':0,\n",
    "    'GOVERNMENT BUILDING':0,\n",
    "    'OFFICE':1,\n",
    "    'TRUCK':1,\n",
    "    'POOLROOM':0,\n",
    "    'CTA \"L\" TRAIN':0,\n",
    "    'LAUNDRY ROOM':1, \n",
    "    'LAGOON':1\n",
    "    })"
   ]
  },
  {
   "cell_type": "code",
   "execution_count": 91,
   "metadata": {},
   "outputs": [
    {
     "data": {
      "text/plain": [
       "array([ True, False])"
      ]
     },
     "execution_count": 91,
     "metadata": {},
     "output_type": "execute_result"
    }
   ],
   "source": [
    "#Arrest - Indicates whether an arrest was made.\n",
    "df['Arrest'].unique()"
   ]
  },
  {
   "cell_type": "code",
   "execution_count": 92,
   "metadata": {},
   "outputs": [
    {
     "data": {
      "text/plain": [
       "array([ True, False])"
      ]
     },
     "execution_count": 92,
     "metadata": {},
     "output_type": "execute_result"
    }
   ],
   "source": [
    "#Domestic - Indicates whether the incident was domestic-related as defined by the Illinois Domestic Violence Act.\n",
    "df['Domestic'].unique()"
   ]
  },
  {
   "cell_type": "code",
   "execution_count": 93,
   "metadata": {},
   "outputs": [
    {
     "data": {
      "text/plain": [
       "array([1022,  313, 1524, 1532, 1523,  631,  133,  215, 2432,  735,  334,\n",
       "       1834, 1232, 1434,  831, 1424,  225, 2232,  222,  235, 1932, 1611,\n",
       "       1831, 2223,  915,  821,  613,  122, 1513, 2534, 1923, 2433,  511,\n",
       "        925, 1733,  331,  725,  533,  824,  811, 2213, 1732,  112,  424,\n",
       "       2511,  914,  324, 1832,  723, 1812,  912,  622, 2531, 1422, 1432,\n",
       "        922, 1122,  123,  111,  121,  512,  411, 1032, 1623,  611,  634,\n",
       "        624, 1023, 2032,  712, 2535, 1634, 2412,  333, 2012, 1824,  822,\n",
       "        214, 1121, 2212, 1112,  321,  412,  833,  825, 1633, 1933,  633,\n",
       "        931, 1712, 2533, 1833, 1024, 1235, 1924,  623, 1934,  332,  131,\n",
       "        223, 1724, 1814,  132, 1411, 1214, 1222, 1631,  232, 1632, 1231,\n",
       "        715,  832, 1225,  312,  823,  422,  614, 1124, 1421, 1915,  413,\n",
       "        935,  523,  722, 1423,  513,  835, 1533,  934, 1134,  421,  724,\n",
       "       1213,  234, 2013, 2422, 2411, 2512, 2532, 1132,  323, 1021, 1034,\n",
       "        211,  531, 1131, 1531, 1133,  726, 1613,  632, 1033, 1821,  612,\n",
       "       1731,  711,  532, 1925, 2424, 1135, 1624, 1522,  423, 1115, 2011,\n",
       "       1614,  224,  923, 2413,  933, 1031, 1722, 2234,  714, 1723,  431,\n",
       "        813,  815, 2221,  212, 1511, 1221, 1913, 1014,  414, 1713,  432,\n",
       "       1215,  713,  621,  921, 1113,  734, 2031, 2523,  433, 2513, 1123,\n",
       "       1931,  524, 2233, 2515,  913,  731, 1914, 2514, 1622, 1013,  733,\n",
       "       2524, 2525, 1512, 1111,  834, 1012,  221, 2431,  924,  522,  231,\n",
       "        911,  814, 1223, 1011,  124, 1935, 1813, 1822,  213, 1413, 1912,\n",
       "       1412, 2423, 2024, 1922,  434, 1654, 1651, 1114,  812, 2521,  932,\n",
       "       2033,  322, 1212, 1431, 2522,  113,  114, 1414, 2211, 1224, 1234,\n",
       "       1621, 1233, 1612, 2023, 1711,  732, 1911, 2222,  314, 1653, 1433,\n",
       "       1811,  311, 1823, 2022, 1211,  233, 1921, 1125, 1652, 1655, 2323,\n",
       "       2111, 2322, 2133, 1312, 1332, 1313, 1324, 1323, 2331, 1333, 2313,\n",
       "       2123, 2324, 2124, 2333, 2311, 1331, 1311, 2122, 2332, 2132,  134,\n",
       "       2112, 1322, 2312, 2131, 2113], dtype=int64)"
      ]
     },
     "execution_count": 93,
     "metadata": {},
     "output_type": "execute_result"
    }
   ],
   "source": [
    "#Beat - Indicates the beat where the incident occurred.\n",
    "#A beat is the smallest police geographic area – each beat has a dedicated police beat car. \n",
    "#Three to five beats make up a police sector, and three sectors make up a police district. \n",
    "#The Chicago Police Department has 22 police districts. \n",
    "df['Beat'].unique()"
   ]
  },
  {
   "cell_type": "code",
   "execution_count": 94,
   "metadata": {},
   "outputs": [
    {
     "data": {
      "text/plain": [
       "array([10.,  3., 15.,  6.,  1.,  2., 24.,  7., 18., 12., 14.,  8., 22.,\n",
       "       19., 16.,  9., 25.,  5., 17.,  4., 11., 20., 13., 31., nan])"
      ]
     },
     "execution_count": 94,
     "metadata": {},
     "output_type": "execute_result"
    }
   ],
   "source": [
    "#District - Indicates the police district where the incident occurred. \n",
    "df['District'].unique()"
   ]
  },
  {
   "cell_type": "code",
   "execution_count": 95,
   "metadata": {},
   "outputs": [
    {
     "data": {
      "text/plain": [
       "array([24., 20., 37., 28.,  8.,  3., 40., 17.,  7., 42.,  2.,  4.,  1.,\n",
       "       18., 34.,  5., 32., 41., 21., 11., 14., 29., 44., 48.,  9., 33.,\n",
       "       16., 23., 30., 43., 26., 27., 12., 45.,  6., 25., 47., 38., 50.,\n",
       "       22., 19., 13., 36., 35., 15., 46., 10., 49., 39., 31., nan])"
      ]
     },
     "execution_count": 95,
     "metadata": {},
     "output_type": "execute_result"
    }
   ],
   "source": [
    "#Ward - The ward (City Council district) where the incident occurred.\n",
    "df['Ward'].unique()"
   ]
  },
  {
   "cell_type": "code",
   "execution_count": 96,
   "metadata": {},
   "outputs": [],
   "source": [
    "# #Community Area - Indicates the community area where the incident occurred.\n",
    "# df['Community Area'].unique()"
   ]
  },
  {
   "cell_type": "code",
   "execution_count": 97,
   "metadata": {},
   "outputs": [],
   "source": [
    "# #FBI Code - Indicates the crime classification as outlined in the FBI's National Incident-Based Reporting System (NIBRS).\n",
    "# df['FBI Code'].unique()"
   ]
  },
  {
   "cell_type": "code",
   "execution_count": 98,
   "metadata": {},
   "outputs": [],
   "source": [
    "df.drop(['Unnamed: 0', 'ID', 'Case Number', 'Block', 'IUCR', 'Description', 'Domestic', 'Ward', 'Community Area', 'FBI Code', 'X Coordinate', 'Y Coordinate', 'Year', 'Updated On', 'Latitude', 'Longitude', 'Location'], \n",
    "         inplace=True, axis=1)"
   ]
  },
  {
   "cell_type": "code",
   "execution_count": 99,
   "metadata": {},
   "outputs": [],
   "source": [
    "df = df.dropna(axis = 0, how ='any') "
   ]
  },
  {
   "cell_type": "code",
   "execution_count": 100,
   "metadata": {},
   "outputs": [],
   "source": [
    "# convert dates to pandas datetime format\n",
    "df.Date = pd.to_datetime(df.Date, format='%m/%d/%Y %I:%M:%S %p')"
   ]
  },
  {
   "cell_type": "code",
   "execution_count": 101,
   "metadata": {},
   "outputs": [],
   "source": [
    "# add a new column called Hours and time_of_day in dataframe.\n",
    "df.insert(6,\"Hours\",df.Date.dt.hour)\n",
    "df.insert(7,\"time_of_day\",df.Date.dt.hour/8)"
   ]
  },
  {
   "cell_type": "code",
   "execution_count": 102,
   "metadata": {},
   "outputs": [
    {
     "data": {
      "text/html": [
       "<div>\n",
       "<style scoped>\n",
       "    .dataframe tbody tr th:only-of-type {\n",
       "        vertical-align: middle;\n",
       "    }\n",
       "\n",
       "    .dataframe tbody tr th {\n",
       "        vertical-align: top;\n",
       "    }\n",
       "\n",
       "    .dataframe thead th {\n",
       "        text-align: right;\n",
       "    }\n",
       "</style>\n",
       "<table border=\"1\" class=\"dataframe\">\n",
       "  <thead>\n",
       "    <tr style=\"text-align: right;\">\n",
       "      <th></th>\n",
       "      <th>Date</th>\n",
       "      <th>Primary Type</th>\n",
       "      <th>Location Description</th>\n",
       "      <th>Arrest</th>\n",
       "      <th>Beat</th>\n",
       "      <th>District</th>\n",
       "      <th>Hours</th>\n",
       "      <th>time_of_day</th>\n",
       "    </tr>\n",
       "  </thead>\n",
       "  <tbody>\n",
       "    <tr>\n",
       "      <th>0</th>\n",
       "      <td>2016-05-03 23:40:00</td>\n",
       "      <td>1</td>\n",
       "      <td>1.0</td>\n",
       "      <td>True</td>\n",
       "      <td>1022</td>\n",
       "      <td>10.0</td>\n",
       "      <td>23</td>\n",
       "      <td>2.875</td>\n",
       "    </tr>\n",
       "    <tr>\n",
       "      <th>1</th>\n",
       "      <td>2016-05-03 21:40:00</td>\n",
       "      <td>1</td>\n",
       "      <td>1.0</td>\n",
       "      <td>False</td>\n",
       "      <td>313</td>\n",
       "      <td>3.0</td>\n",
       "      <td>21</td>\n",
       "      <td>2.625</td>\n",
       "    </tr>\n",
       "    <tr>\n",
       "      <th>2</th>\n",
       "      <td>2016-05-03 23:31:00</td>\n",
       "      <td>2</td>\n",
       "      <td>0.0</td>\n",
       "      <td>False</td>\n",
       "      <td>1524</td>\n",
       "      <td>15.0</td>\n",
       "      <td>23</td>\n",
       "      <td>2.875</td>\n",
       "    </tr>\n",
       "    <tr>\n",
       "      <th>3</th>\n",
       "      <td>2016-05-03 22:10:00</td>\n",
       "      <td>1</td>\n",
       "      <td>0.0</td>\n",
       "      <td>False</td>\n",
       "      <td>1532</td>\n",
       "      <td>15.0</td>\n",
       "      <td>22</td>\n",
       "      <td>2.750</td>\n",
       "    </tr>\n",
       "    <tr>\n",
       "      <th>4</th>\n",
       "      <td>2016-05-03 22:00:00</td>\n",
       "      <td>0</td>\n",
       "      <td>1.0</td>\n",
       "      <td>False</td>\n",
       "      <td>1523</td>\n",
       "      <td>15.0</td>\n",
       "      <td>22</td>\n",
       "      <td>2.750</td>\n",
       "    </tr>\n",
       "  </tbody>\n",
       "</table>\n",
       "</div>"
      ],
      "text/plain": [
       "                 Date  Primary Type  Location Description  Arrest  Beat  \\\n",
       "0 2016-05-03 23:40:00             1                   1.0    True  1022   \n",
       "1 2016-05-03 21:40:00             1                   1.0   False   313   \n",
       "2 2016-05-03 23:31:00             2                   0.0   False  1524   \n",
       "3 2016-05-03 22:10:00             1                   0.0   False  1532   \n",
       "4 2016-05-03 22:00:00             0                   1.0   False  1523   \n",
       "\n",
       "   District  Hours  time_of_day  \n",
       "0      10.0     23        2.875  \n",
       "1       3.0     21        2.625  \n",
       "2      15.0     23        2.875  \n",
       "3      15.0     22        2.750  \n",
       "4      15.0     22        2.750  "
      ]
     },
     "execution_count": 102,
     "metadata": {},
     "output_type": "execute_result"
    }
   ],
   "source": [
    "df.head(5)"
   ]
  },
  {
   "cell_type": "code",
   "execution_count": 103,
   "metadata": {},
   "outputs": [],
   "source": [
    "def replace_time(val):\n",
    "    if 3>=val>2:\n",
    "        return 3\n",
    "    elif 2>=val>1:\n",
    "        return 2\n",
    "    else:\n",
    "        return 1\n",
    "\n",
    "df[\"time_of_day\"] = df[\"time_of_day\"].apply(replace_time, 1)"
   ]
  },
  {
   "cell_type": "code",
   "execution_count": 104,
   "metadata": {},
   "outputs": [
    {
     "data": {
      "text/html": [
       "<div>\n",
       "<style scoped>\n",
       "    .dataframe tbody tr th:only-of-type {\n",
       "        vertical-align: middle;\n",
       "    }\n",
       "\n",
       "    .dataframe tbody tr th {\n",
       "        vertical-align: top;\n",
       "    }\n",
       "\n",
       "    .dataframe thead th {\n",
       "        text-align: right;\n",
       "    }\n",
       "</style>\n",
       "<table border=\"1\" class=\"dataframe\">\n",
       "  <thead>\n",
       "    <tr style=\"text-align: right;\">\n",
       "      <th></th>\n",
       "      <th>Date</th>\n",
       "      <th>Primary Type</th>\n",
       "      <th>Location Description</th>\n",
       "      <th>Arrest</th>\n",
       "      <th>Beat</th>\n",
       "      <th>District</th>\n",
       "      <th>Hours</th>\n",
       "      <th>time_of_day</th>\n",
       "    </tr>\n",
       "  </thead>\n",
       "  <tbody>\n",
       "    <tr>\n",
       "      <th>0</th>\n",
       "      <td>2016-05-03 23:40:00</td>\n",
       "      <td>1</td>\n",
       "      <td>1.0</td>\n",
       "      <td>True</td>\n",
       "      <td>1022</td>\n",
       "      <td>10.0</td>\n",
       "      <td>23</td>\n",
       "      <td>3</td>\n",
       "    </tr>\n",
       "    <tr>\n",
       "      <th>1</th>\n",
       "      <td>2016-05-03 21:40:00</td>\n",
       "      <td>1</td>\n",
       "      <td>1.0</td>\n",
       "      <td>False</td>\n",
       "      <td>313</td>\n",
       "      <td>3.0</td>\n",
       "      <td>21</td>\n",
       "      <td>3</td>\n",
       "    </tr>\n",
       "    <tr>\n",
       "      <th>2</th>\n",
       "      <td>2016-05-03 23:31:00</td>\n",
       "      <td>2</td>\n",
       "      <td>0.0</td>\n",
       "      <td>False</td>\n",
       "      <td>1524</td>\n",
       "      <td>15.0</td>\n",
       "      <td>23</td>\n",
       "      <td>3</td>\n",
       "    </tr>\n",
       "    <tr>\n",
       "      <th>3</th>\n",
       "      <td>2016-05-03 22:10:00</td>\n",
       "      <td>1</td>\n",
       "      <td>0.0</td>\n",
       "      <td>False</td>\n",
       "      <td>1532</td>\n",
       "      <td>15.0</td>\n",
       "      <td>22</td>\n",
       "      <td>3</td>\n",
       "    </tr>\n",
       "    <tr>\n",
       "      <th>4</th>\n",
       "      <td>2016-05-03 22:00:00</td>\n",
       "      <td>0</td>\n",
       "      <td>1.0</td>\n",
       "      <td>False</td>\n",
       "      <td>1523</td>\n",
       "      <td>15.0</td>\n",
       "      <td>22</td>\n",
       "      <td>3</td>\n",
       "    </tr>\n",
       "    <tr>\n",
       "      <th>5</th>\n",
       "      <td>2016-05-03 22:35:00</td>\n",
       "      <td>1</td>\n",
       "      <td>0.0</td>\n",
       "      <td>False</td>\n",
       "      <td>631</td>\n",
       "      <td>6.0</td>\n",
       "      <td>22</td>\n",
       "      <td>3</td>\n",
       "    </tr>\n",
       "    <tr>\n",
       "      <th>6</th>\n",
       "      <td>2016-05-03 22:30:00</td>\n",
       "      <td>1</td>\n",
       "      <td>0.0</td>\n",
       "      <td>False</td>\n",
       "      <td>133</td>\n",
       "      <td>1.0</td>\n",
       "      <td>22</td>\n",
       "      <td>3</td>\n",
       "    </tr>\n",
       "    <tr>\n",
       "      <th>7</th>\n",
       "      <td>2016-05-03 21:30:00</td>\n",
       "      <td>1</td>\n",
       "      <td>0.0</td>\n",
       "      <td>False</td>\n",
       "      <td>215</td>\n",
       "      <td>2.0</td>\n",
       "      <td>21</td>\n",
       "      <td>3</td>\n",
       "    </tr>\n",
       "    <tr>\n",
       "      <th>8</th>\n",
       "      <td>2016-05-03 16:00:00</td>\n",
       "      <td>1</td>\n",
       "      <td>0.0</td>\n",
       "      <td>False</td>\n",
       "      <td>2432</td>\n",
       "      <td>24.0</td>\n",
       "      <td>16</td>\n",
       "      <td>2</td>\n",
       "    </tr>\n",
       "    <tr>\n",
       "      <th>9</th>\n",
       "      <td>2016-05-03 22:30:00</td>\n",
       "      <td>1</td>\n",
       "      <td>0.0</td>\n",
       "      <td>False</td>\n",
       "      <td>735</td>\n",
       "      <td>7.0</td>\n",
       "      <td>22</td>\n",
       "      <td>3</td>\n",
       "    </tr>\n",
       "  </tbody>\n",
       "</table>\n",
       "</div>"
      ],
      "text/plain": [
       "                 Date  Primary Type  Location Description  Arrest  Beat  \\\n",
       "0 2016-05-03 23:40:00             1                   1.0    True  1022   \n",
       "1 2016-05-03 21:40:00             1                   1.0   False   313   \n",
       "2 2016-05-03 23:31:00             2                   0.0   False  1524   \n",
       "3 2016-05-03 22:10:00             1                   0.0   False  1532   \n",
       "4 2016-05-03 22:00:00             0                   1.0   False  1523   \n",
       "5 2016-05-03 22:35:00             1                   0.0   False   631   \n",
       "6 2016-05-03 22:30:00             1                   0.0   False   133   \n",
       "7 2016-05-03 21:30:00             1                   0.0   False   215   \n",
       "8 2016-05-03 16:00:00             1                   0.0   False  2432   \n",
       "9 2016-05-03 22:30:00             1                   0.0   False   735   \n",
       "\n",
       "   District  Hours  time_of_day  \n",
       "0      10.0     23            3  \n",
       "1       3.0     21            3  \n",
       "2      15.0     23            3  \n",
       "3      15.0     22            3  \n",
       "4      15.0     22            3  \n",
       "5       6.0     22            3  \n",
       "6       1.0     22            3  \n",
       "7       2.0     21            3  \n",
       "8      24.0     16            2  \n",
       "9       7.0     22            3  "
      ]
     },
     "execution_count": 104,
     "metadata": {},
     "output_type": "execute_result"
    }
   ],
   "source": [
    "df.head(10)"
   ]
  },
  {
   "cell_type": "code",
   "execution_count": 105,
   "metadata": {},
   "outputs": [
    {
     "name": "stdout",
     "output_type": "stream",
     "text": [
      "Training samples: 1018538; Test samples: 436517\n"
     ]
    }
   ],
   "source": [
    "train, test = train_test_split(df, test_size = 0.30)\n",
    "print(\"Training samples: {}; Test samples: {}\".format(len(train), len(test)))"
   ]
  },
  {
   "cell_type": "code",
   "execution_count": 106,
   "metadata": {},
   "outputs": [],
   "source": [
    "features = [\"Primary Type\", \"Location Description\", \"Beat\", \"District\", \"time_of_day\"]\n",
    "target = [\"Arrest\"]\n",
    "\n",
    "X_train = train[features]\n",
    "y_train = train[\"Arrest\"]\n",
    "\n",
    "X_test = test[features]\n",
    "y_test = test[\"Arrest\"]\n"
   ]
  },
  {
   "cell_type": "code",
   "execution_count": 107,
   "metadata": {},
   "outputs": [
    {
     "data": {
      "text/html": [
       "<div>\n",
       "<style scoped>\n",
       "    .dataframe tbody tr th:only-of-type {\n",
       "        vertical-align: middle;\n",
       "    }\n",
       "\n",
       "    .dataframe tbody tr th {\n",
       "        vertical-align: top;\n",
       "    }\n",
       "\n",
       "    .dataframe thead th {\n",
       "        text-align: right;\n",
       "    }\n",
       "</style>\n",
       "<table border=\"1\" class=\"dataframe\">\n",
       "  <thead>\n",
       "    <tr style=\"text-align: right;\">\n",
       "      <th></th>\n",
       "      <th>Primary Type</th>\n",
       "      <th>Location Description</th>\n",
       "      <th>Beat</th>\n",
       "      <th>District</th>\n",
       "      <th>time_of_day</th>\n",
       "    </tr>\n",
       "  </thead>\n",
       "  <tbody>\n",
       "    <tr>\n",
       "      <th>1225319</th>\n",
       "      <td>0</td>\n",
       "      <td>1.0</td>\n",
       "      <td>2012</td>\n",
       "      <td>20.0</td>\n",
       "      <td>3</td>\n",
       "    </tr>\n",
       "    <tr>\n",
       "      <th>917039</th>\n",
       "      <td>1</td>\n",
       "      <td>0.0</td>\n",
       "      <td>212</td>\n",
       "      <td>2.0</td>\n",
       "      <td>2</td>\n",
       "    </tr>\n",
       "    <tr>\n",
       "      <th>975675</th>\n",
       "      <td>2</td>\n",
       "      <td>1.0</td>\n",
       "      <td>531</td>\n",
       "      <td>5.0</td>\n",
       "      <td>2</td>\n",
       "    </tr>\n",
       "    <tr>\n",
       "      <th>946459</th>\n",
       "      <td>2</td>\n",
       "      <td>1.0</td>\n",
       "      <td>1933</td>\n",
       "      <td>19.0</td>\n",
       "      <td>3</td>\n",
       "    </tr>\n",
       "    <tr>\n",
       "      <th>784604</th>\n",
       "      <td>1</td>\n",
       "      <td>0.0</td>\n",
       "      <td>1822</td>\n",
       "      <td>18.0</td>\n",
       "      <td>1</td>\n",
       "    </tr>\n",
       "  </tbody>\n",
       "</table>\n",
       "</div>"
      ],
      "text/plain": [
       "         Primary Type  Location Description  Beat  District  time_of_day\n",
       "1225319             0                   1.0  2012      20.0            3\n",
       "917039              1                   0.0   212       2.0            2\n",
       "975675              2                   1.0   531       5.0            2\n",
       "946459              2                   1.0  1933      19.0            3\n",
       "784604              1                   0.0  1822      18.0            1"
      ]
     },
     "execution_count": 107,
     "metadata": {},
     "output_type": "execute_result"
    }
   ],
   "source": [
    "X_train.head()"
   ]
  },
  {
   "cell_type": "code",
   "execution_count": 108,
   "metadata": {},
   "outputs": [
    {
     "name": "stdout",
     "output_type": "stream",
     "text": [
      "Predicted Value: [False False False ... False  True False]\n"
     ]
    }
   ],
   "source": [
    "#Import Gaussian Naive Bayes model\n",
    "from sklearn.naive_bayes import GaussianNB\n",
    "\n",
    "#Create a Gaussian Classifier\n",
    "model = GaussianNB()\n",
    "\n",
    "# Train the model using the training sets\n",
    "model.fit(X_train, y_train)\n",
    "\n",
    "#Predict Output\n",
    "predicted = model.predict(X_test) \n",
    "print (\"Predicted Value:\", predicted)\n",
    "\n",
    "# https://www.datacamp.com/community/tutorials/naive-bayes-scikit-learn"
   ]
  },
  {
   "cell_type": "code",
   "execution_count": 116,
   "metadata": {},
   "outputs": [
    {
     "name": "stdout",
     "output_type": "stream",
     "text": [
      "Accuracy: 0.7987042887218596\n"
     ]
    }
   ],
   "source": [
    "print(\"Accuracy:\",accuracy_score(y_test.values, predicted))"
   ]
  },
  {
   "cell_type": "code",
   "execution_count": 140,
   "metadata": {},
   "outputs": [],
   "source": [
    "def specificity_loss_func(y_test, predicted):\n",
    "    print (predicted)\n",
    "    tp, tn, fn, fp = 0.0,0.0,0.0,0.0\n",
    "    for l,m in enumerate(y_test):        \n",
    "        if m==predicted[l] and m==1:\n",
    "            tp+=1\n",
    "        if m==predicted[l] and m==0:\n",
    "            tn+=1\n",
    "        if m!=predicted[l] and m==1:\n",
    "            fn+=1\n",
    "        if m!=predicted[l] and m==0:\n",
    "            fp+=1\n",
    "            \n",
    "    return  tp, tn, fn, fp\n",
    "# True Positive(tp)\n",
    "# True Negative(tn)\n",
    "# False Positive(fp)\n",
    "# False Negative(fn)\n",
    "# https://stackoverflow.com/questions/33275461/specificity-in-scikit-learn"
   ]
  },
  {
   "cell_type": "code",
   "execution_count": 118,
   "metadata": {},
   "outputs": [
    {
     "name": "stdout",
     "output_type": "stream",
     "text": [
      "[False False False ... False  True False]\n"
     ]
    }
   ],
   "source": [
    "tp, tn, fn, fp = specificity_loss_func(y_test, predicted)"
   ]
  },
  {
   "cell_type": "code",
   "execution_count": 142,
   "metadata": {},
   "outputs": [
    {
     "name": "stdout",
     "output_type": "stream",
     "text": [
      "\n",
      " precision= 0.6788440796201095 \n",
      " recall= 0.42733942365348665 \n",
      " sensitivity= 0.42733942365348665 \n",
      " specificity= 0.8610002065120121\n"
     ]
    }
   ],
   "source": [
    "precision = tp/(tp+fp)\n",
    "sensitivity = tp/(tp+fn)\n",
    "recall = sensitivity\n",
    "specificity = tn/(tn+tp)\n",
    "\n",
    "print(\"\\n precision=\", precision, \"\\n recall=\", recall, \"\\n sensitivity=\", sensitivity, \"\\n specificity=\", specificity)\n",
    "\n",
    "# https://en.wikipedia.org/wiki/Sensitivity_and_specificity"
   ]
  },
  {
   "cell_type": "code",
   "execution_count": 139,
   "metadata": {},
   "outputs": [
    {
     "name": "stderr",
     "output_type": "stream",
     "text": [
      "C:\\Users\\Fan_2019\\Anaconda3\\lib\\site-packages\\sklearn\\metrics\\ranking.py:656: UndefinedMetricWarning: No positive samples in y_true, true positive value should be meaningless\n",
      "  UndefinedMetricWarning)\n"
     ]
    }
   ],
   "source": [
    "from sklearn import metrics\n",
    "fpr, tpr, thresholds = metrics.roc_curve(y_test, predicted, pos_label=2)\n",
    "\n",
    "# https://scikit-learn.org/stable/modules/generated/sklearn.metrics.roc_curve.html?fbclid=IwAR3DFY_wqQjnINHX0EBpNpjJ5cCKeJqcqkbBnaTZuKVJyJ9U4T3PL4A2Nk4"
   ]
  },
  {
   "cell_type": "code",
   "execution_count": 136,
   "metadata": {},
   "outputs": [
    {
     "name": "stdout",
     "output_type": "stream",
     "text": [
      "Average precision-recall score: 0.44\n"
     ]
    }
   ],
   "source": [
    "from sklearn.metrics import average_precision_score\n",
    "average_precision = average_precision_score(y_test, predicted)\n",
    "\n",
    "print('Average precision-recall score: {0:0.2f}'.format(average_precision))\n",
    "# https://scikit-learn.org/stable/auto_examples/model_selection/plot_precision_recall.html"
   ]
  },
  {
   "cell_type": "code",
   "execution_count": 137,
   "metadata": {},
   "outputs": [
    {
     "data": {
      "text/plain": [
       "Text(0.5, 1.0, '2-class Precision-Recall curve: AP=0.44')"
      ]
     },
     "execution_count": 137,
     "metadata": {},
     "output_type": "execute_result"
    },
    {
     "data": {
      "image/png": "[encoded data removed]",
      "text/plain": [
       "<Figure size 432x288 with 1 Axes>"
      ]
     },
     "metadata": {
      "needs_background": "light"
     },
     "output_type": "display_data"
    }
   ],
   "source": [
    "from sklearn.metrics import precision_recall_curve\n",
    "import matplotlib.pyplot as plt\n",
    "from inspect import signature\n",
    "\n",
    "precision, recall, _ = precision_recall_curve(y_test, predicted)\n",
    "\n",
    "# In matplotlib < 1.5, plt.fill_between does not have a 'step' argument\n",
    "step_kwargs = ({'step': 'post'}\n",
    "               if 'step' in signature(plt.fill_between).parameters\n",
    "               else {})\n",
    "plt.step(recall, precision, color='b', alpha=0.2, where='post')\n",
    "plt.fill_between(recall, precision, alpha=0.2, color='b', **step_kwargs)\n",
    "\n",
    "plt.xlabel('Recall')\n",
    "plt.ylabel('Precision')\n",
    "plt.ylim([0.0, 1.05])\n",
    "plt.xlim([0.0, 1.0])\n",
    "plt.title('2-class Precision-Recall curve: AP={0:0.2f}'.format(average_precision))\n",
    "\n",
    "# https://scikit-learn.org/stable/auto_examples/model_selection/plot_precision_recall.html"
   ]
  }
 ],
 "metadata": {
  "kernelspec": {
   "display_name": "Python 3",
   "language": "python",
   "name": "python3"
  },
  "language_info": {
   "codemirror_mode": {
    "name": "ipython",
    "version": 3
   },
   "file_extension": ".py",
   "mimetype": "text/x-python",
   "name": "python",
   "nbconvert_exporter": "python",
   "pygments_lexer": "ipython3",
   "version": "3.7.4"
  }
 },
 "nbformat": 4,
 "nbformat_minor": 2
}
